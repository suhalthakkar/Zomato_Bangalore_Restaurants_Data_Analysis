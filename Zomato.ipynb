{
 "cells": [
  {
   "cell_type": "markdown",
   "metadata": {},
   "source": [
    "# Zomato Bangalore Restaurant Dataset "
   ]
  },
  {
   "cell_type": "markdown",
   "metadata": {},
   "source": [
    "Research Question: Prediction of rating of the restaurant in the app on the basis of online order, Table booking, Votes, Restaurant type, Approx cost for two people and Location."
   ]
  },
  {
   "cell_type": "code",
   "execution_count": 1,
   "metadata": {},
   "outputs": [],
   "source": [
    "#Importing the essential libraries \n",
    "import pandas as pd\n",
    "import numpy as np\n",
    "\n",
    "#Importing the graph plotting libraries  \n",
    "from matplotlib import pyplot as plt\n",
    "%matplotlib inline\n",
    "import matplotlib \n",
    "matplotlib.rcParams[\"figure.figsize\"] = (20,10)\n",
    "\n",
    "import seaborn as sns\n",
    "\n",
    "import warnings\n",
    "warnings.filterwarnings(\"ignore\")"
   ]
  },
  {
   "cell_type": "code",
   "execution_count": 2,
   "metadata": {},
   "outputs": [
    {
     "data": {
      "text/plain": [
       "'C:\\\\Users\\\\Suhal'"
      ]
     },
     "execution_count": 2,
     "metadata": {},
     "output_type": "execute_result"
    }
   ],
   "source": [
    "pwd"
   ]
  },
  {
   "cell_type": "code",
   "execution_count": 3,
   "metadata": {},
   "outputs": [
    {
     "data": {
      "text/html": [
       "<div>\n",
       "<style scoped>\n",
       "    .dataframe tbody tr th:only-of-type {\n",
       "        vertical-align: middle;\n",
       "    }\n",
       "\n",
       "    .dataframe tbody tr th {\n",
       "        vertical-align: top;\n",
       "    }\n",
       "\n",
       "    .dataframe thead th {\n",
       "        text-align: right;\n",
       "    }\n",
       "</style>\n",
       "<table border=\"1\" class=\"dataframe\">\n",
       "  <thead>\n",
       "    <tr style=\"text-align: right;\">\n",
       "      <th></th>\n",
       "      <th>url</th>\n",
       "      <th>address</th>\n",
       "      <th>name</th>\n",
       "      <th>online_order</th>\n",
       "      <th>book_table</th>\n",
       "      <th>rate</th>\n",
       "      <th>votes</th>\n",
       "      <th>phone</th>\n",
       "      <th>location</th>\n",
       "      <th>rest_type</th>\n",
       "      <th>dish_liked</th>\n",
       "      <th>cuisines</th>\n",
       "      <th>approx_cost(for two people)</th>\n",
       "      <th>reviews_list</th>\n",
       "      <th>menu_item</th>\n",
       "      <th>listed_in(type)</th>\n",
       "      <th>listed_in(city)</th>\n",
       "    </tr>\n",
       "  </thead>\n",
       "  <tbody>\n",
       "    <tr>\n",
       "      <th>0</th>\n",
       "      <td>https://www.zomato.com/bangalore/jalsa-banasha...</td>\n",
       "      <td>942, 21st Main Road, 2nd Stage, Banashankari, ...</td>\n",
       "      <td>Jalsa</td>\n",
       "      <td>Yes</td>\n",
       "      <td>Yes</td>\n",
       "      <td>4.1/5</td>\n",
       "      <td>775</td>\n",
       "      <td>080 42297555\\r\\n+91 9743772233</td>\n",
       "      <td>Banashankari</td>\n",
       "      <td>Casual Dining</td>\n",
       "      <td>Pasta, Lunch Buffet, Masala Papad, Paneer Laja...</td>\n",
       "      <td>North Indian, Mughlai, Chinese</td>\n",
       "      <td>800</td>\n",
       "      <td>[('Rated 4.0', 'RATED\\n  A beautiful place to ...</td>\n",
       "      <td>[]</td>\n",
       "      <td>Buffet</td>\n",
       "      <td>Banashankari</td>\n",
       "    </tr>\n",
       "    <tr>\n",
       "      <th>1</th>\n",
       "      <td>https://www.zomato.com/bangalore/spice-elephan...</td>\n",
       "      <td>2nd Floor, 80 Feet Road, Near Big Bazaar, 6th ...</td>\n",
       "      <td>Spice Elephant</td>\n",
       "      <td>Yes</td>\n",
       "      <td>No</td>\n",
       "      <td>4.1/5</td>\n",
       "      <td>787</td>\n",
       "      <td>080 41714161</td>\n",
       "      <td>Banashankari</td>\n",
       "      <td>Casual Dining</td>\n",
       "      <td>Momos, Lunch Buffet, Chocolate Nirvana, Thai G...</td>\n",
       "      <td>Chinese, North Indian, Thai</td>\n",
       "      <td>800</td>\n",
       "      <td>[('Rated 4.0', 'RATED\\n  Had been here for din...</td>\n",
       "      <td>[]</td>\n",
       "      <td>Buffet</td>\n",
       "      <td>Banashankari</td>\n",
       "    </tr>\n",
       "    <tr>\n",
       "      <th>2</th>\n",
       "      <td>https://www.zomato.com/SanchurroBangalore?cont...</td>\n",
       "      <td>1112, Next to KIMS Medical College, 17th Cross...</td>\n",
       "      <td>San Churro Cafe</td>\n",
       "      <td>Yes</td>\n",
       "      <td>No</td>\n",
       "      <td>3.8/5</td>\n",
       "      <td>918</td>\n",
       "      <td>+91 9663487993</td>\n",
       "      <td>Banashankari</td>\n",
       "      <td>Cafe, Casual Dining</td>\n",
       "      <td>Churros, Cannelloni, Minestrone Soup, Hot Choc...</td>\n",
       "      <td>Cafe, Mexican, Italian</td>\n",
       "      <td>800</td>\n",
       "      <td>[('Rated 3.0', \"RATED\\n  Ambience is not that ...</td>\n",
       "      <td>[]</td>\n",
       "      <td>Buffet</td>\n",
       "      <td>Banashankari</td>\n",
       "    </tr>\n",
       "    <tr>\n",
       "      <th>3</th>\n",
       "      <td>https://www.zomato.com/bangalore/addhuri-udupi...</td>\n",
       "      <td>1st Floor, Annakuteera, 3rd Stage, Banashankar...</td>\n",
       "      <td>Addhuri Udupi Bhojana</td>\n",
       "      <td>No</td>\n",
       "      <td>No</td>\n",
       "      <td>3.7/5</td>\n",
       "      <td>88</td>\n",
       "      <td>+91 9620009302</td>\n",
       "      <td>Banashankari</td>\n",
       "      <td>Quick Bites</td>\n",
       "      <td>Masala Dosa</td>\n",
       "      <td>South Indian, North Indian</td>\n",
       "      <td>300</td>\n",
       "      <td>[('Rated 4.0', \"RATED\\n  Great food and proper...</td>\n",
       "      <td>[]</td>\n",
       "      <td>Buffet</td>\n",
       "      <td>Banashankari</td>\n",
       "    </tr>\n",
       "    <tr>\n",
       "      <th>4</th>\n",
       "      <td>https://www.zomato.com/bangalore/grand-village...</td>\n",
       "      <td>10, 3rd Floor, Lakshmi Associates, Gandhi Baza...</td>\n",
       "      <td>Grand Village</td>\n",
       "      <td>No</td>\n",
       "      <td>No</td>\n",
       "      <td>3.8/5</td>\n",
       "      <td>166</td>\n",
       "      <td>+91 8026612447\\r\\n+91 9901210005</td>\n",
       "      <td>Basavanagudi</td>\n",
       "      <td>Casual Dining</td>\n",
       "      <td>Panipuri, Gol Gappe</td>\n",
       "      <td>North Indian, Rajasthani</td>\n",
       "      <td>600</td>\n",
       "      <td>[('Rated 4.0', 'RATED\\n  Very good restaurant ...</td>\n",
       "      <td>[]</td>\n",
       "      <td>Buffet</td>\n",
       "      <td>Banashankari</td>\n",
       "    </tr>\n",
       "  </tbody>\n",
       "</table>\n",
       "</div>"
      ],
      "text/plain": [
       "                                                 url  \\\n",
       "0  https://www.zomato.com/bangalore/jalsa-banasha...   \n",
       "1  https://www.zomato.com/bangalore/spice-elephan...   \n",
       "2  https://www.zomato.com/SanchurroBangalore?cont...   \n",
       "3  https://www.zomato.com/bangalore/addhuri-udupi...   \n",
       "4  https://www.zomato.com/bangalore/grand-village...   \n",
       "\n",
       "                                             address                   name  \\\n",
       "0  942, 21st Main Road, 2nd Stage, Banashankari, ...                  Jalsa   \n",
       "1  2nd Floor, 80 Feet Road, Near Big Bazaar, 6th ...         Spice Elephant   \n",
       "2  1112, Next to KIMS Medical College, 17th Cross...        San Churro Cafe   \n",
       "3  1st Floor, Annakuteera, 3rd Stage, Banashankar...  Addhuri Udupi Bhojana   \n",
       "4  10, 3rd Floor, Lakshmi Associates, Gandhi Baza...          Grand Village   \n",
       "\n",
       "  online_order book_table   rate  votes                             phone  \\\n",
       "0          Yes        Yes  4.1/5    775    080 42297555\\r\\n+91 9743772233   \n",
       "1          Yes         No  4.1/5    787                      080 41714161   \n",
       "2          Yes         No  3.8/5    918                    +91 9663487993   \n",
       "3           No         No  3.7/5     88                    +91 9620009302   \n",
       "4           No         No  3.8/5    166  +91 8026612447\\r\\n+91 9901210005   \n",
       "\n",
       "       location            rest_type  \\\n",
       "0  Banashankari        Casual Dining   \n",
       "1  Banashankari        Casual Dining   \n",
       "2  Banashankari  Cafe, Casual Dining   \n",
       "3  Banashankari          Quick Bites   \n",
       "4  Basavanagudi        Casual Dining   \n",
       "\n",
       "                                          dish_liked  \\\n",
       "0  Pasta, Lunch Buffet, Masala Papad, Paneer Laja...   \n",
       "1  Momos, Lunch Buffet, Chocolate Nirvana, Thai G...   \n",
       "2  Churros, Cannelloni, Minestrone Soup, Hot Choc...   \n",
       "3                                        Masala Dosa   \n",
       "4                                Panipuri, Gol Gappe   \n",
       "\n",
       "                         cuisines approx_cost(for two people)  \\\n",
       "0  North Indian, Mughlai, Chinese                         800   \n",
       "1     Chinese, North Indian, Thai                         800   \n",
       "2          Cafe, Mexican, Italian                         800   \n",
       "3      South Indian, North Indian                         300   \n",
       "4        North Indian, Rajasthani                         600   \n",
       "\n",
       "                                        reviews_list menu_item  \\\n",
       "0  [('Rated 4.0', 'RATED\\n  A beautiful place to ...        []   \n",
       "1  [('Rated 4.0', 'RATED\\n  Had been here for din...        []   \n",
       "2  [('Rated 3.0', \"RATED\\n  Ambience is not that ...        []   \n",
       "3  [('Rated 4.0', \"RATED\\n  Great food and proper...        []   \n",
       "4  [('Rated 4.0', 'RATED\\n  Very good restaurant ...        []   \n",
       "\n",
       "  listed_in(type) listed_in(city)  \n",
       "0          Buffet    Banashankari  \n",
       "1          Buffet    Banashankari  \n",
       "2          Buffet    Banashankari  \n",
       "3          Buffet    Banashankari  \n",
       "4          Buffet    Banashankari  "
      ]
     },
     "execution_count": 3,
     "metadata": {},
     "output_type": "execute_result"
    }
   ],
   "source": [
    "#Loading the data into data frame\n",
    "\n",
    "df = pd.read_csv(\"C:\\\\Users\\\\Suhal\\\\Desktop\\\\MS In DA\\\\Data Sets\\\\zomato-bangalore-restaurants\\\\zomato.csv\")\n",
    "df.head()"
   ]
  },
  {
   "cell_type": "code",
   "execution_count": 4,
   "metadata": {},
   "outputs": [
    {
     "data": {
      "text/plain": [
       "(51717, 17)"
      ]
     },
     "execution_count": 4,
     "metadata": {},
     "output_type": "execute_result"
    }
   ],
   "source": [
    "df.shape"
   ]
  },
  {
   "cell_type": "code",
   "execution_count": 5,
   "metadata": {},
   "outputs": [
    {
     "data": {
      "text/plain": [
       "Index(['url', 'address', 'name', 'online_order', 'book_table', 'rate', 'votes',\n",
       "       'phone', 'location', 'rest_type', 'dish_liked', 'cuisines',\n",
       "       'approx_cost(for two people)', 'reviews_list', 'menu_item',\n",
       "       'listed_in(type)', 'listed_in(city)'],\n",
       "      dtype='object')"
      ]
     },
     "execution_count": 5,
     "metadata": {},
     "output_type": "execute_result"
    }
   ],
   "source": [
    "df.columns"
   ]
  },
  {
   "cell_type": "code",
   "execution_count": 6,
   "metadata": {},
   "outputs": [
    {
     "data": {
      "text/plain": [
       "array(['Yes', 'No'], dtype=object)"
      ]
     },
     "execution_count": 6,
     "metadata": {},
     "output_type": "execute_result"
    }
   ],
   "source": [
    "df['online_order'].unique()"
   ]
  },
  {
   "cell_type": "code",
   "execution_count": 7,
   "metadata": {},
   "outputs": [
    {
     "data": {
      "text/plain": [
       "array(['Yes', 'No'], dtype=object)"
      ]
     },
     "execution_count": 7,
     "metadata": {},
     "output_type": "execute_result"
    }
   ],
   "source": [
    "df['book_table'].unique()"
   ]
  },
  {
   "cell_type": "code",
   "execution_count": 8,
   "metadata": {},
   "outputs": [
    {
     "data": {
      "text/plain": [
       "94"
      ]
     },
     "execution_count": 8,
     "metadata": {},
     "output_type": "execute_result"
    }
   ],
   "source": [
    "len(df['location'].unique())"
   ]
  },
  {
   "cell_type": "code",
   "execution_count": 9,
   "metadata": {},
   "outputs": [
    {
     "data": {
      "text/plain": [
       "94"
      ]
     },
     "execution_count": 9,
     "metadata": {},
     "output_type": "execute_result"
    }
   ],
   "source": [
    "len(df['rest_type'].unique())"
   ]
  },
  {
   "cell_type": "code",
   "execution_count": 10,
   "metadata": {},
   "outputs": [
    {
     "data": {
      "text/plain": [
       "array(['800', '300', '600', '700', '550', '500', '450', '650', '400',\n",
       "       '900', '200', '750', '150', '850', '100', '1,200', '350', '250',\n",
       "       '950', '1,000', '1,500', '1,300', '199', '80', '1,100', '160',\n",
       "       '1,600', '230', '130', '50', '190', '1,700', nan, '1,400', '180',\n",
       "       '1,350', '2,200', '2,000', '1,800', '1,900', '330', '2,500',\n",
       "       '2,100', '3,000', '2,800', '3,400', '40', '1,250', '3,500',\n",
       "       '4,000', '2,400', '2,600', '120', '1,450', '469', '70', '3,200',\n",
       "       '60', '560', '240', '360', '6,000', '1,050', '2,300', '4,100',\n",
       "       '5,000', '3,700', '1,650', '2,700', '4,500', '140'], dtype=object)"
      ]
     },
     "execution_count": 10,
     "metadata": {},
     "output_type": "execute_result"
    }
   ],
   "source": [
    "df['approx_cost(for two people)'].unique()"
   ]
  },
  {
   "cell_type": "code",
   "execution_count": 11,
   "metadata": {},
   "outputs": [
    {
     "data": {
      "text/plain": [
       "71"
      ]
     },
     "execution_count": 11,
     "metadata": {},
     "output_type": "execute_result"
    }
   ],
   "source": [
    "len(df['approx_cost(for two people)'].unique())"
   ]
  },
  {
   "cell_type": "code",
   "execution_count": 12,
   "metadata": {},
   "outputs": [
    {
     "data": {
      "text/plain": [
       "array(['Buffet', 'Cafes', 'Delivery', 'Desserts', 'Dine-out',\n",
       "       'Drinks & nightlife', 'Pubs and bars'], dtype=object)"
      ]
     },
     "execution_count": 12,
     "metadata": {},
     "output_type": "execute_result"
    }
   ],
   "source": [
    "df['listed_in(type)'].unique()"
   ]
  },
  {
   "cell_type": "code",
   "execution_count": 13,
   "metadata": {},
   "outputs": [
    {
     "data": {
      "text/plain": [
       "7"
      ]
     },
     "execution_count": 13,
     "metadata": {},
     "output_type": "execute_result"
    }
   ],
   "source": [
    "len(df['listed_in(type)'].unique())"
   ]
  },
  {
   "cell_type": "code",
   "execution_count": 14,
   "metadata": {},
   "outputs": [
    {
     "data": {
      "text/plain": [
       "array(['Banashankari', 'Bannerghatta Road', 'Basavanagudi', 'Bellandur',\n",
       "       'Brigade Road', 'Brookefield', 'BTM', 'Church Street',\n",
       "       'Electronic City', 'Frazer Town', 'HSR', 'Indiranagar',\n",
       "       'Jayanagar', 'JP Nagar', 'Kalyan Nagar', 'Kammanahalli',\n",
       "       'Koramangala 4th Block', 'Koramangala 5th Block',\n",
       "       'Koramangala 6th Block', 'Koramangala 7th Block', 'Lavelle Road',\n",
       "       'Malleshwaram', 'Marathahalli', 'MG Road', 'New BEL Road',\n",
       "       'Old Airport Road', 'Rajajinagar', 'Residency Road',\n",
       "       'Sarjapur Road', 'Whitefield'], dtype=object)"
      ]
     },
     "execution_count": 14,
     "metadata": {},
     "output_type": "execute_result"
    }
   ],
   "source": [
    "df['listed_in(city)'].unique()"
   ]
  },
  {
   "cell_type": "code",
   "execution_count": 15,
   "metadata": {},
   "outputs": [
    {
     "data": {
      "text/plain": [
       "30"
      ]
     },
     "execution_count": 15,
     "metadata": {},
     "output_type": "execute_result"
    }
   ],
   "source": [
    "len(df['listed_in(city)'].unique())"
   ]
  },
  {
   "cell_type": "markdown",
   "metadata": {},
   "source": [
    "# Exploratory Data Analysis"
   ]
  },
  {
   "cell_type": "markdown",
   "metadata": {},
   "source": [
    "Data Cleaning: Handle NA values"
   ]
  },
  {
   "cell_type": "code",
   "execution_count": 16,
   "metadata": {
    "scrolled": true
   },
   "outputs": [
    {
     "name": "stdout",
     "output_type": "stream",
     "text": [
      "<class 'pandas.core.frame.DataFrame'>\n",
      "RangeIndex: 51717 entries, 0 to 51716\n",
      "Data columns (total 17 columns):\n",
      "url                            51717 non-null object\n",
      "address                        51717 non-null object\n",
      "name                           51717 non-null object\n",
      "online_order                   51717 non-null object\n",
      "book_table                     51717 non-null object\n",
      "rate                           43942 non-null object\n",
      "votes                          51717 non-null int64\n",
      "phone                          50509 non-null object\n",
      "location                       51696 non-null object\n",
      "rest_type                      51490 non-null object\n",
      "dish_liked                     23639 non-null object\n",
      "cuisines                       51672 non-null object\n",
      "approx_cost(for two people)    51371 non-null object\n",
      "reviews_list                   51717 non-null object\n",
      "menu_item                      51717 non-null object\n",
      "listed_in(type)                51717 non-null object\n",
      "listed_in(city)                51717 non-null object\n",
      "dtypes: int64(1), object(16)\n",
      "memory usage: 6.7+ MB\n"
     ]
    }
   ],
   "source": [
    "df.info()"
   ]
  },
  {
   "cell_type": "code",
   "execution_count": 17,
   "metadata": {},
   "outputs": [
    {
     "data": {
      "text/html": [
       "<div>\n",
       "<style scoped>\n",
       "    .dataframe tbody tr th:only-of-type {\n",
       "        vertical-align: middle;\n",
       "    }\n",
       "\n",
       "    .dataframe tbody tr th {\n",
       "        vertical-align: top;\n",
       "    }\n",
       "\n",
       "    .dataframe thead th {\n",
       "        text-align: right;\n",
       "    }\n",
       "</style>\n",
       "<table border=\"1\" class=\"dataframe\">\n",
       "  <thead>\n",
       "    <tr style=\"text-align: right;\">\n",
       "      <th></th>\n",
       "      <th>name</th>\n",
       "      <th>online_order</th>\n",
       "      <th>book_table</th>\n",
       "      <th>rate</th>\n",
       "      <th>votes</th>\n",
       "      <th>rest_type</th>\n",
       "      <th>approx_cost(for two people)</th>\n",
       "      <th>listed_in(type)</th>\n",
       "      <th>listed_in(city)</th>\n",
       "    </tr>\n",
       "  </thead>\n",
       "  <tbody>\n",
       "    <tr>\n",
       "      <th>0</th>\n",
       "      <td>Jalsa</td>\n",
       "      <td>Yes</td>\n",
       "      <td>Yes</td>\n",
       "      <td>4.1/5</td>\n",
       "      <td>775</td>\n",
       "      <td>Casual Dining</td>\n",
       "      <td>800</td>\n",
       "      <td>Buffet</td>\n",
       "      <td>Banashankari</td>\n",
       "    </tr>\n",
       "    <tr>\n",
       "      <th>1</th>\n",
       "      <td>Spice Elephant</td>\n",
       "      <td>Yes</td>\n",
       "      <td>No</td>\n",
       "      <td>4.1/5</td>\n",
       "      <td>787</td>\n",
       "      <td>Casual Dining</td>\n",
       "      <td>800</td>\n",
       "      <td>Buffet</td>\n",
       "      <td>Banashankari</td>\n",
       "    </tr>\n",
       "    <tr>\n",
       "      <th>2</th>\n",
       "      <td>San Churro Cafe</td>\n",
       "      <td>Yes</td>\n",
       "      <td>No</td>\n",
       "      <td>3.8/5</td>\n",
       "      <td>918</td>\n",
       "      <td>Cafe, Casual Dining</td>\n",
       "      <td>800</td>\n",
       "      <td>Buffet</td>\n",
       "      <td>Banashankari</td>\n",
       "    </tr>\n",
       "    <tr>\n",
       "      <th>3</th>\n",
       "      <td>Addhuri Udupi Bhojana</td>\n",
       "      <td>No</td>\n",
       "      <td>No</td>\n",
       "      <td>3.7/5</td>\n",
       "      <td>88</td>\n",
       "      <td>Quick Bites</td>\n",
       "      <td>300</td>\n",
       "      <td>Buffet</td>\n",
       "      <td>Banashankari</td>\n",
       "    </tr>\n",
       "    <tr>\n",
       "      <th>4</th>\n",
       "      <td>Grand Village</td>\n",
       "      <td>No</td>\n",
       "      <td>No</td>\n",
       "      <td>3.8/5</td>\n",
       "      <td>166</td>\n",
       "      <td>Casual Dining</td>\n",
       "      <td>600</td>\n",
       "      <td>Buffet</td>\n",
       "      <td>Banashankari</td>\n",
       "    </tr>\n",
       "  </tbody>\n",
       "</table>\n",
       "</div>"
      ],
      "text/plain": [
       "                    name online_order book_table   rate  votes  \\\n",
       "0                  Jalsa          Yes        Yes  4.1/5    775   \n",
       "1         Spice Elephant          Yes         No  4.1/5    787   \n",
       "2        San Churro Cafe          Yes         No  3.8/5    918   \n",
       "3  Addhuri Udupi Bhojana           No         No  3.7/5     88   \n",
       "4          Grand Village           No         No  3.8/5    166   \n",
       "\n",
       "             rest_type approx_cost(for two people) listed_in(type)  \\\n",
       "0        Casual Dining                         800          Buffet   \n",
       "1        Casual Dining                         800          Buffet   \n",
       "2  Cafe, Casual Dining                         800          Buffet   \n",
       "3          Quick Bites                         300          Buffet   \n",
       "4        Casual Dining                         600          Buffet   \n",
       "\n",
       "  listed_in(city)  \n",
       "0    Banashankari  \n",
       "1    Banashankari  \n",
       "2    Banashankari  \n",
       "3    Banashankari  \n",
       "4    Banashankari  "
      ]
     },
     "execution_count": 17,
     "metadata": {},
     "output_type": "execute_result"
    }
   ],
   "source": [
    "#Droping the features that are not required to build our model\n",
    "\n",
    "df1 = df.drop(['url','address','phone','location','dish_liked','cuisines','reviews_list','menu_item'],axis = 'columns')\n",
    "df1.head()"
   ]
  },
  {
   "cell_type": "code",
   "execution_count": 18,
   "metadata": {},
   "outputs": [
    {
     "data": {
      "text/plain": [
       "name                              0\n",
       "online_order                      0\n",
       "book_table                        0\n",
       "rate                           7775\n",
       "votes                             0\n",
       "rest_type                       227\n",
       "approx_cost(for two people)     346\n",
       "listed_in(type)                   0\n",
       "listed_in(city)                   0\n",
       "dtype: int64"
      ]
     },
     "execution_count": 18,
     "metadata": {},
     "output_type": "execute_result"
    }
   ],
   "source": [
    "#Checking the Null Values\n",
    "\n",
    "df1.isnull().sum()"
   ]
  },
  {
   "cell_type": "code",
   "execution_count": 19,
   "metadata": {},
   "outputs": [
    {
     "data": {
      "text/plain": [
       "name                           0\n",
       "online_order                   0\n",
       "book_table                     0\n",
       "rate                           0\n",
       "votes                          0\n",
       "rest_type                      0\n",
       "approx_cost(for two people)    0\n",
       "listed_in(type)                0\n",
       "listed_in(city)                0\n",
       "dtype: int64"
      ]
     },
     "execution_count": 19,
     "metadata": {},
     "output_type": "execute_result"
    }
   ],
   "source": [
    "#Dropping the Null Values\n",
    "\n",
    "df2 = df1.dropna() \n",
    "df2.isnull().sum()"
   ]
  },
  {
   "cell_type": "code",
   "execution_count": 20,
   "metadata": {},
   "outputs": [],
   "source": [
    "#Assiging lables to the categorical variable to Online Order attribute \n",
    "\n",
    "def conv(conv):\n",
    "    if conv == 'No':\n",
    "        return 0\n",
    "    else:\n",
    "        return 1\n",
    "\n",
    "df2['online_order'] = df2['online_order'].map(conv)"
   ]
  },
  {
   "cell_type": "code",
   "execution_count": 21,
   "metadata": {},
   "outputs": [
    {
     "data": {
      "text/html": [
       "<div>\n",
       "<style scoped>\n",
       "    .dataframe tbody tr th:only-of-type {\n",
       "        vertical-align: middle;\n",
       "    }\n",
       "\n",
       "    .dataframe tbody tr th {\n",
       "        vertical-align: top;\n",
       "    }\n",
       "\n",
       "    .dataframe thead th {\n",
       "        text-align: right;\n",
       "    }\n",
       "</style>\n",
       "<table border=\"1\" class=\"dataframe\">\n",
       "  <thead>\n",
       "    <tr style=\"text-align: right;\">\n",
       "      <th></th>\n",
       "      <th>name</th>\n",
       "      <th>online_order</th>\n",
       "      <th>book_table</th>\n",
       "      <th>rate</th>\n",
       "      <th>votes</th>\n",
       "      <th>rest_type</th>\n",
       "      <th>approx_cost(for two people)</th>\n",
       "      <th>listed_in(type)</th>\n",
       "      <th>listed_in(city)</th>\n",
       "    </tr>\n",
       "  </thead>\n",
       "  <tbody>\n",
       "    <tr>\n",
       "      <th>0</th>\n",
       "      <td>Jalsa</td>\n",
       "      <td>1</td>\n",
       "      <td>Yes</td>\n",
       "      <td>4.1/5</td>\n",
       "      <td>775</td>\n",
       "      <td>Casual Dining</td>\n",
       "      <td>800</td>\n",
       "      <td>Buffet</td>\n",
       "      <td>Banashankari</td>\n",
       "    </tr>\n",
       "    <tr>\n",
       "      <th>1</th>\n",
       "      <td>Spice Elephant</td>\n",
       "      <td>1</td>\n",
       "      <td>No</td>\n",
       "      <td>4.1/5</td>\n",
       "      <td>787</td>\n",
       "      <td>Casual Dining</td>\n",
       "      <td>800</td>\n",
       "      <td>Buffet</td>\n",
       "      <td>Banashankari</td>\n",
       "    </tr>\n",
       "    <tr>\n",
       "      <th>2</th>\n",
       "      <td>San Churro Cafe</td>\n",
       "      <td>1</td>\n",
       "      <td>No</td>\n",
       "      <td>3.8/5</td>\n",
       "      <td>918</td>\n",
       "      <td>Cafe, Casual Dining</td>\n",
       "      <td>800</td>\n",
       "      <td>Buffet</td>\n",
       "      <td>Banashankari</td>\n",
       "    </tr>\n",
       "    <tr>\n",
       "      <th>3</th>\n",
       "      <td>Addhuri Udupi Bhojana</td>\n",
       "      <td>0</td>\n",
       "      <td>No</td>\n",
       "      <td>3.7/5</td>\n",
       "      <td>88</td>\n",
       "      <td>Quick Bites</td>\n",
       "      <td>300</td>\n",
       "      <td>Buffet</td>\n",
       "      <td>Banashankari</td>\n",
       "    </tr>\n",
       "    <tr>\n",
       "      <th>4</th>\n",
       "      <td>Grand Village</td>\n",
       "      <td>0</td>\n",
       "      <td>No</td>\n",
       "      <td>3.8/5</td>\n",
       "      <td>166</td>\n",
       "      <td>Casual Dining</td>\n",
       "      <td>600</td>\n",
       "      <td>Buffet</td>\n",
       "      <td>Banashankari</td>\n",
       "    </tr>\n",
       "  </tbody>\n",
       "</table>\n",
       "</div>"
      ],
      "text/plain": [
       "                    name  online_order book_table   rate  votes  \\\n",
       "0                  Jalsa             1        Yes  4.1/5    775   \n",
       "1         Spice Elephant             1         No  4.1/5    787   \n",
       "2        San Churro Cafe             1         No  3.8/5    918   \n",
       "3  Addhuri Udupi Bhojana             0         No  3.7/5     88   \n",
       "4          Grand Village             0         No  3.8/5    166   \n",
       "\n",
       "             rest_type approx_cost(for two people) listed_in(type)  \\\n",
       "0        Casual Dining                         800          Buffet   \n",
       "1        Casual Dining                         800          Buffet   \n",
       "2  Cafe, Casual Dining                         800          Buffet   \n",
       "3          Quick Bites                         300          Buffet   \n",
       "4        Casual Dining                         600          Buffet   \n",
       "\n",
       "  listed_in(city)  \n",
       "0    Banashankari  \n",
       "1    Banashankari  \n",
       "2    Banashankari  \n",
       "3    Banashankari  \n",
       "4    Banashankari  "
      ]
     },
     "execution_count": 21,
     "metadata": {},
     "output_type": "execute_result"
    }
   ],
   "source": [
    "df2.head()"
   ]
  },
  {
   "cell_type": "code",
   "execution_count": 22,
   "metadata": {},
   "outputs": [
    {
     "data": {
      "text/plain": [
       "Text(0,0.5,'Frequency')"
      ]
     },
     "execution_count": 22,
     "metadata": {},
     "output_type": "execute_result"
    },
    {
     "data": {
      "image/png": "[encoded data removed]",
      "text/plain": [
       "<Figure size 720x360 with 1 Axes>"
      ]
     },
     "metadata": {},
     "output_type": "display_data"
    }
   ],
   "source": [
    "#Ploting the online orders attributes value count\n",
    "\n",
    "plt.figure(figsize=(10,5))\n",
    "df['online_order'].value_counts().plot.bar()\n",
    "plt.title('Online orders', fontsize = 20)\n",
    "plt.ylabel('Frequency',size = 15)"
   ]
  },
  {
   "cell_type": "code",
   "execution_count": 23,
   "metadata": {},
   "outputs": [],
   "source": [
    "#Assiging lables to the categorical variables to Table Booking attribute\n",
    "\n",
    "def conv(conv):\n",
    "    if conv == 'No':\n",
    "        return 0\n",
    "    else:\n",
    "        return 1\n",
    "\n",
    "df2['book_table'] = df2['book_table'].map(conv)"
   ]
  },
  {
   "cell_type": "code",
   "execution_count": 24,
   "metadata": {},
   "outputs": [
    {
     "data": {
      "text/html": [
       "<div>\n",
       "<style scoped>\n",
       "    .dataframe tbody tr th:only-of-type {\n",
       "        vertical-align: middle;\n",
       "    }\n",
       "\n",
       "    .dataframe tbody tr th {\n",
       "        vertical-align: top;\n",
       "    }\n",
       "\n",
       "    .dataframe thead th {\n",
       "        text-align: right;\n",
       "    }\n",
       "</style>\n",
       "<table border=\"1\" class=\"dataframe\">\n",
       "  <thead>\n",
       "    <tr style=\"text-align: right;\">\n",
       "      <th></th>\n",
       "      <th>name</th>\n",
       "      <th>online_order</th>\n",
       "      <th>book_table</th>\n",
       "      <th>rate</th>\n",
       "      <th>votes</th>\n",
       "      <th>rest_type</th>\n",
       "      <th>approx_cost(for two people)</th>\n",
       "      <th>listed_in(type)</th>\n",
       "      <th>listed_in(city)</th>\n",
       "    </tr>\n",
       "  </thead>\n",
       "  <tbody>\n",
       "    <tr>\n",
       "      <th>0</th>\n",
       "      <td>Jalsa</td>\n",
       "      <td>1</td>\n",
       "      <td>1</td>\n",
       "      <td>4.1/5</td>\n",
       "      <td>775</td>\n",
       "      <td>Casual Dining</td>\n",
       "      <td>800</td>\n",
       "      <td>Buffet</td>\n",
       "      <td>Banashankari</td>\n",
       "    </tr>\n",
       "    <tr>\n",
       "      <th>1</th>\n",
       "      <td>Spice Elephant</td>\n",
       "      <td>1</td>\n",
       "      <td>0</td>\n",
       "      <td>4.1/5</td>\n",
       "      <td>787</td>\n",
       "      <td>Casual Dining</td>\n",
       "      <td>800</td>\n",
       "      <td>Buffet</td>\n",
       "      <td>Banashankari</td>\n",
       "    </tr>\n",
       "    <tr>\n",
       "      <th>2</th>\n",
       "      <td>San Churro Cafe</td>\n",
       "      <td>1</td>\n",
       "      <td>0</td>\n",
       "      <td>3.8/5</td>\n",
       "      <td>918</td>\n",
       "      <td>Cafe, Casual Dining</td>\n",
       "      <td>800</td>\n",
       "      <td>Buffet</td>\n",
       "      <td>Banashankari</td>\n",
       "    </tr>\n",
       "    <tr>\n",
       "      <th>3</th>\n",
       "      <td>Addhuri Udupi Bhojana</td>\n",
       "      <td>0</td>\n",
       "      <td>0</td>\n",
       "      <td>3.7/5</td>\n",
       "      <td>88</td>\n",
       "      <td>Quick Bites</td>\n",
       "      <td>300</td>\n",
       "      <td>Buffet</td>\n",
       "      <td>Banashankari</td>\n",
       "    </tr>\n",
       "    <tr>\n",
       "      <th>4</th>\n",
       "      <td>Grand Village</td>\n",
       "      <td>0</td>\n",
       "      <td>0</td>\n",
       "      <td>3.8/5</td>\n",
       "      <td>166</td>\n",
       "      <td>Casual Dining</td>\n",
       "      <td>600</td>\n",
       "      <td>Buffet</td>\n",
       "      <td>Banashankari</td>\n",
       "    </tr>\n",
       "  </tbody>\n",
       "</table>\n",
       "</div>"
      ],
      "text/plain": [
       "                    name  online_order  book_table   rate  votes  \\\n",
       "0                  Jalsa             1           1  4.1/5    775   \n",
       "1         Spice Elephant             1           0  4.1/5    787   \n",
       "2        San Churro Cafe             1           0  3.8/5    918   \n",
       "3  Addhuri Udupi Bhojana             0           0  3.7/5     88   \n",
       "4          Grand Village             0           0  3.8/5    166   \n",
       "\n",
       "             rest_type approx_cost(for two people) listed_in(type)  \\\n",
       "0        Casual Dining                         800          Buffet   \n",
       "1        Casual Dining                         800          Buffet   \n",
       "2  Cafe, Casual Dining                         800          Buffet   \n",
       "3          Quick Bites                         300          Buffet   \n",
       "4        Casual Dining                         600          Buffet   \n",
       "\n",
       "  listed_in(city)  \n",
       "0    Banashankari  \n",
       "1    Banashankari  \n",
       "2    Banashankari  \n",
       "3    Banashankari  \n",
       "4    Banashankari  "
      ]
     },
     "execution_count": 24,
     "metadata": {},
     "output_type": "execute_result"
    }
   ],
   "source": [
    "df2.head()"
   ]
  },
  {
   "cell_type": "code",
   "execution_count": 25,
   "metadata": {},
   "outputs": [
    {
     "data": {
      "text/plain": [
       "Text(0,0.5,'Frequency')"
      ]
     },
     "execution_count": 25,
     "metadata": {},
     "output_type": "execute_result"
    },
    {
     "data": {
      "image/png": "[encoded data removed]",
      "text/plain": [
       "<Figure size 720x360 with 1 Axes>"
      ]
     },
     "metadata": {},
     "output_type": "display_data"
    }
   ],
   "source": [
    "#Ploting the booking table attributes value count\n",
    "\n",
    "plt.figure(figsize=(10,5))\n",
    "df['book_table'].value_counts().plot.bar()\n",
    "plt.title('Booking Table', fontsize = 20,pad=15)\n",
    "plt.ylabel('Frequency', fontsize = 15)"
   ]
  },
  {
   "cell_type": "code",
   "execution_count": 26,
   "metadata": {},
   "outputs": [
    {
     "data": {
      "text/plain": [
       "array(['4.1/5', '3.8/5', '3.7/5', '3.6/5', '4.6/5', '4.0/5', '4.2/5',\n",
       "       '3.9/5', '3.1/5', '3.0/5', '3.2/5', '3.3/5', '2.8/5', '4.4/5',\n",
       "       '4.3/5', 'NEW', '2.9/5', '3.5/5', '2.6/5', '3.8 /5', '3.4/5',\n",
       "       '4.5/5', '2.5/5', '2.7/5', '4.7/5', '2.4/5', '2.2/5', '2.3/5',\n",
       "       '3.4 /5', '-', '3.6 /5', '4.8/5', '3.9 /5', '4.2 /5', '4.0 /5',\n",
       "       '4.1 /5', '3.7 /5', '3.1 /5', '2.9 /5', '3.3 /5', '2.8 /5',\n",
       "       '3.5 /5', '2.7 /5', '2.5 /5', '3.2 /5', '2.6 /5', '4.5 /5',\n",
       "       '4.3 /5', '4.4 /5', '4.9/5', '2.1/5', '2.0/5', '1.8/5', '4.6 /5',\n",
       "       '4.9 /5', '3.0 /5', '4.8 /5', '2.3 /5', '4.7 /5', '2.4 /5',\n",
       "       '2.1 /5', '2.2 /5', '2.0 /5', '1.8 /5'], dtype=object)"
      ]
     },
     "execution_count": 26,
     "metadata": {},
     "output_type": "execute_result"
    }
   ],
   "source": [
    "df2['rate'].unique()"
   ]
  },
  {
   "cell_type": "code",
   "execution_count": 27,
   "metadata": {},
   "outputs": [],
   "source": [
    "#Replacing the NaN values \n",
    "\n",
    "df2['rate'] = df2['rate'].replace('NEW',np.NaN)\n",
    "df2['rate'] = df2['rate'].replace('-',np.NaN)"
   ]
  },
  {
   "cell_type": "code",
   "execution_count": 28,
   "metadata": {},
   "outputs": [],
   "source": [
    "from scipy.stats import norm\n",
    "from scipy import stats"
   ]
  },
  {
   "cell_type": "code",
   "execution_count": 29,
   "metadata": {},
   "outputs": [
    {
     "data": {
      "text/html": [
       "<div>\n",
       "<style scoped>\n",
       "    .dataframe tbody tr th:only-of-type {\n",
       "        vertical-align: middle;\n",
       "    }\n",
       "\n",
       "    .dataframe tbody tr th {\n",
       "        vertical-align: top;\n",
       "    }\n",
       "\n",
       "    .dataframe thead th {\n",
       "        text-align: right;\n",
       "    }\n",
       "</style>\n",
       "<table border=\"1\" class=\"dataframe\">\n",
       "  <thead>\n",
       "    <tr style=\"text-align: right;\">\n",
       "      <th></th>\n",
       "      <th>name</th>\n",
       "      <th>online_order</th>\n",
       "      <th>book_table</th>\n",
       "      <th>rate</th>\n",
       "      <th>votes</th>\n",
       "      <th>rest_type</th>\n",
       "      <th>approx_cost(for two people)</th>\n",
       "      <th>listed_in(type)</th>\n",
       "      <th>listed_in(city)</th>\n",
       "    </tr>\n",
       "  </thead>\n",
       "  <tbody>\n",
       "    <tr>\n",
       "      <th>0</th>\n",
       "      <td>Jalsa</td>\n",
       "      <td>1</td>\n",
       "      <td>1</td>\n",
       "      <td>4.1</td>\n",
       "      <td>775</td>\n",
       "      <td>Casual Dining</td>\n",
       "      <td>800</td>\n",
       "      <td>Buffet</td>\n",
       "      <td>Banashankari</td>\n",
       "    </tr>\n",
       "    <tr>\n",
       "      <th>1</th>\n",
       "      <td>Spice Elephant</td>\n",
       "      <td>1</td>\n",
       "      <td>0</td>\n",
       "      <td>4.1</td>\n",
       "      <td>787</td>\n",
       "      <td>Casual Dining</td>\n",
       "      <td>800</td>\n",
       "      <td>Buffet</td>\n",
       "      <td>Banashankari</td>\n",
       "    </tr>\n",
       "    <tr>\n",
       "      <th>2</th>\n",
       "      <td>San Churro Cafe</td>\n",
       "      <td>1</td>\n",
       "      <td>0</td>\n",
       "      <td>3.8</td>\n",
       "      <td>918</td>\n",
       "      <td>Cafe, Casual Dining</td>\n",
       "      <td>800</td>\n",
       "      <td>Buffet</td>\n",
       "      <td>Banashankari</td>\n",
       "    </tr>\n",
       "    <tr>\n",
       "      <th>3</th>\n",
       "      <td>Addhuri Udupi Bhojana</td>\n",
       "      <td>0</td>\n",
       "      <td>0</td>\n",
       "      <td>3.7</td>\n",
       "      <td>88</td>\n",
       "      <td>Quick Bites</td>\n",
       "      <td>300</td>\n",
       "      <td>Buffet</td>\n",
       "      <td>Banashankari</td>\n",
       "    </tr>\n",
       "    <tr>\n",
       "      <th>4</th>\n",
       "      <td>Grand Village</td>\n",
       "      <td>0</td>\n",
       "      <td>0</td>\n",
       "      <td>3.8</td>\n",
       "      <td>166</td>\n",
       "      <td>Casual Dining</td>\n",
       "      <td>600</td>\n",
       "      <td>Buffet</td>\n",
       "      <td>Banashankari</td>\n",
       "    </tr>\n",
       "  </tbody>\n",
       "</table>\n",
       "</div>"
      ],
      "text/plain": [
       "                    name  online_order  book_table  rate  votes  \\\n",
       "0                  Jalsa             1           1   4.1    775   \n",
       "1         Spice Elephant             1           0   4.1    787   \n",
       "2        San Churro Cafe             1           0   3.8    918   \n",
       "3  Addhuri Udupi Bhojana             0           0   3.7     88   \n",
       "4          Grand Village             0           0   3.8    166   \n",
       "\n",
       "             rest_type approx_cost(for two people) listed_in(type)  \\\n",
       "0        Casual Dining                         800          Buffet   \n",
       "1        Casual Dining                         800          Buffet   \n",
       "2  Cafe, Casual Dining                         800          Buffet   \n",
       "3          Quick Bites                         300          Buffet   \n",
       "4        Casual Dining                         600          Buffet   \n",
       "\n",
       "  listed_in(city)  \n",
       "0    Banashankari  \n",
       "1    Banashankari  \n",
       "2    Banashankari  \n",
       "3    Banashankari  \n",
       "4    Banashankari  "
      ]
     },
     "execution_count": 29,
     "metadata": {},
     "output_type": "execute_result"
    }
   ],
   "source": [
    "#Converting rating values into the float values from string \n",
    "\n",
    "df2.rate=df2.rate.astype(str)\n",
    "df2.rate=df2.rate.apply(lambda x : x.replace('/5','')).astype(float)\n",
    "df2.head()"
   ]
  },
  {
   "cell_type": "code",
   "execution_count": 30,
   "metadata": {},
   "outputs": [],
   "source": [
    "df2['rate'] = df2['rate'].fillna(df2['rate'].mean())"
   ]
  },
  {
   "cell_type": "code",
   "execution_count": 31,
   "metadata": {},
   "outputs": [
    {
     "data": {
      "text/plain": [
       "name                           0\n",
       "online_order                   0\n",
       "book_table                     0\n",
       "rate                           0\n",
       "votes                          0\n",
       "rest_type                      0\n",
       "approx_cost(for two people)    0\n",
       "listed_in(type)                0\n",
       "listed_in(city)                0\n",
       "dtype: int64"
      ]
     },
     "execution_count": 31,
     "metadata": {},
     "output_type": "execute_result"
    }
   ],
   "source": [
    "df2.isnull().sum()"
   ]
  },
  {
   "cell_type": "code",
   "execution_count": 35,
   "metadata": {},
   "outputs": [
    {
     "data": {
      "image/png": "[encoded data removed]",
      "text/plain": [
       "<Figure size 720x360 with 1 Axes>"
      ]
     },
     "metadata": {},
     "output_type": "display_data"
    }
   ],
   "source": [
    "#histogram of Price\n",
    "\n",
    "plt.figure(figsize=(10,5))\n",
    "sns.distplot(df2['rate'],color='b');\n",
    "plt.title(\"Rating Distrubition\")\n",
    "plt.show()"
   ]
  },
  {
   "cell_type": "code",
   "execution_count": 36,
   "metadata": {},
   "outputs": [],
   "source": [
    "#Renaming the Columns Names\n",
    "\n",
    "df2=df2.rename(columns={'approx_cost(for two people)':'cost','listed_in(type)':'type',\n",
    "                         'listed_in(city)':'Location_in_City'})"
   ]
  },
  {
   "cell_type": "code",
   "execution_count": 37,
   "metadata": {},
   "outputs": [
    {
     "data": {
      "text/plain": [
       "dtype('O')"
      ]
     },
     "execution_count": 37,
     "metadata": {},
     "output_type": "execute_result"
    }
   ],
   "source": [
    "df2.cost.dtype"
   ]
  },
  {
   "cell_type": "code",
   "execution_count": 38,
   "metadata": {},
   "outputs": [
    {
     "data": {
      "text/html": [
       "<div>\n",
       "<style scoped>\n",
       "    .dataframe tbody tr th:only-of-type {\n",
       "        vertical-align: middle;\n",
       "    }\n",
       "\n",
       "    .dataframe tbody tr th {\n",
       "        vertical-align: top;\n",
       "    }\n",
       "\n",
       "    .dataframe thead th {\n",
       "        text-align: right;\n",
       "    }\n",
       "</style>\n",
       "<table border=\"1\" class=\"dataframe\">\n",
       "  <thead>\n",
       "    <tr style=\"text-align: right;\">\n",
       "      <th></th>\n",
       "      <th>name</th>\n",
       "      <th>online_order</th>\n",
       "      <th>book_table</th>\n",
       "      <th>rate</th>\n",
       "      <th>votes</th>\n",
       "      <th>rest_type</th>\n",
       "      <th>cost</th>\n",
       "      <th>type</th>\n",
       "      <th>Location_in_City</th>\n",
       "    </tr>\n",
       "  </thead>\n",
       "  <tbody>\n",
       "    <tr>\n",
       "      <th>0</th>\n",
       "      <td>Jalsa</td>\n",
       "      <td>1</td>\n",
       "      <td>1</td>\n",
       "      <td>4.1</td>\n",
       "      <td>775</td>\n",
       "      <td>Casual Dining</td>\n",
       "      <td>800.0</td>\n",
       "      <td>Buffet</td>\n",
       "      <td>Banashankari</td>\n",
       "    </tr>\n",
       "    <tr>\n",
       "      <th>1</th>\n",
       "      <td>Spice Elephant</td>\n",
       "      <td>1</td>\n",
       "      <td>0</td>\n",
       "      <td>4.1</td>\n",
       "      <td>787</td>\n",
       "      <td>Casual Dining</td>\n",
       "      <td>800.0</td>\n",
       "      <td>Buffet</td>\n",
       "      <td>Banashankari</td>\n",
       "    </tr>\n",
       "    <tr>\n",
       "      <th>2</th>\n",
       "      <td>San Churro Cafe</td>\n",
       "      <td>1</td>\n",
       "      <td>0</td>\n",
       "      <td>3.8</td>\n",
       "      <td>918</td>\n",
       "      <td>Cafe, Casual Dining</td>\n",
       "      <td>800.0</td>\n",
       "      <td>Buffet</td>\n",
       "      <td>Banashankari</td>\n",
       "    </tr>\n",
       "    <tr>\n",
       "      <th>3</th>\n",
       "      <td>Addhuri Udupi Bhojana</td>\n",
       "      <td>0</td>\n",
       "      <td>0</td>\n",
       "      <td>3.7</td>\n",
       "      <td>88</td>\n",
       "      <td>Quick Bites</td>\n",
       "      <td>300.0</td>\n",
       "      <td>Buffet</td>\n",
       "      <td>Banashankari</td>\n",
       "    </tr>\n",
       "    <tr>\n",
       "      <th>4</th>\n",
       "      <td>Grand Village</td>\n",
       "      <td>0</td>\n",
       "      <td>0</td>\n",
       "      <td>3.8</td>\n",
       "      <td>166</td>\n",
       "      <td>Casual Dining</td>\n",
       "      <td>600.0</td>\n",
       "      <td>Buffet</td>\n",
       "      <td>Banashankari</td>\n",
       "    </tr>\n",
       "  </tbody>\n",
       "</table>\n",
       "</div>"
      ],
      "text/plain": [
       "                    name  online_order  book_table  rate  votes  \\\n",
       "0                  Jalsa             1           1   4.1    775   \n",
       "1         Spice Elephant             1           0   4.1    787   \n",
       "2        San Churro Cafe             1           0   3.8    918   \n",
       "3  Addhuri Udupi Bhojana             0           0   3.7     88   \n",
       "4          Grand Village             0           0   3.8    166   \n",
       "\n",
       "             rest_type   cost    type Location_in_City  \n",
       "0        Casual Dining  800.0  Buffet     Banashankari  \n",
       "1        Casual Dining  800.0  Buffet     Banashankari  \n",
       "2  Cafe, Casual Dining  800.0  Buffet     Banashankari  \n",
       "3          Quick Bites  300.0  Buffet     Banashankari  \n",
       "4        Casual Dining  600.0  Buffet     Banashankari  "
      ]
     },
     "execution_count": 38,
     "metadata": {},
     "output_type": "execute_result"
    }
   ],
   "source": [
    "#Converting the cost value to float from string\n",
    "\n",
    "df2.cost=df2.cost.astype(str)\n",
    "df2.cost=df2.cost.apply(lambda y : y.replace(',','')).astype(float)\n",
    "df2.head()"
   ]
  },
  {
   "cell_type": "markdown",
   "metadata": {},
   "source": [
    "One hot Encoding"
   ]
  },
  {
   "cell_type": "code",
   "execution_count": 39,
   "metadata": {},
   "outputs": [
    {
     "data": {
      "text/html": [
       "<div>\n",
       "<style scoped>\n",
       "    .dataframe tbody tr th:only-of-type {\n",
       "        vertical-align: middle;\n",
       "    }\n",
       "\n",
       "    .dataframe tbody tr th {\n",
       "        vertical-align: top;\n",
       "    }\n",
       "\n",
       "    .dataframe thead th {\n",
       "        text-align: right;\n",
       "    }\n",
       "</style>\n",
       "<table border=\"1\" class=\"dataframe\">\n",
       "  <thead>\n",
       "    <tr style=\"text-align: right;\">\n",
       "      <th></th>\n",
       "      <th>Bakery</th>\n",
       "      <th>Bakery, Beverage Shop</th>\n",
       "      <th>Bakery, Cafe</th>\n",
       "      <th>Bakery, Dessert Parlor</th>\n",
       "      <th>Bakery, Food Court</th>\n",
       "      <th>Bakery, Quick Bites</th>\n",
       "      <th>Bar</th>\n",
       "      <th>Bar, Casual Dining</th>\n",
       "      <th>Bar, Lounge</th>\n",
       "      <th>Bar, Pub</th>\n",
       "      <th>...</th>\n",
       "      <th>Quick Bites, Dessert Parlor</th>\n",
       "      <th>Quick Bites, Food Court</th>\n",
       "      <th>Quick Bites, Kiosk</th>\n",
       "      <th>Quick Bites, Meat Shop</th>\n",
       "      <th>Quick Bites, Mess</th>\n",
       "      <th>Quick Bites, Sweet Shop</th>\n",
       "      <th>Sweet Shop</th>\n",
       "      <th>Sweet Shop, Quick Bites</th>\n",
       "      <th>Takeaway</th>\n",
       "      <th>Takeaway, Delivery</th>\n",
       "    </tr>\n",
       "  </thead>\n",
       "  <tbody>\n",
       "    <tr>\n",
       "      <th>0</th>\n",
       "      <td>0</td>\n",
       "      <td>0</td>\n",
       "      <td>0</td>\n",
       "      <td>0</td>\n",
       "      <td>0</td>\n",
       "      <td>0</td>\n",
       "      <td>0</td>\n",
       "      <td>0</td>\n",
       "      <td>0</td>\n",
       "      <td>0</td>\n",
       "      <td>...</td>\n",
       "      <td>0</td>\n",
       "      <td>0</td>\n",
       "      <td>0</td>\n",
       "      <td>0</td>\n",
       "      <td>0</td>\n",
       "      <td>0</td>\n",
       "      <td>0</td>\n",
       "      <td>0</td>\n",
       "      <td>0</td>\n",
       "      <td>0</td>\n",
       "    </tr>\n",
       "    <tr>\n",
       "      <th>1</th>\n",
       "      <td>0</td>\n",
       "      <td>0</td>\n",
       "      <td>0</td>\n",
       "      <td>0</td>\n",
       "      <td>0</td>\n",
       "      <td>0</td>\n",
       "      <td>0</td>\n",
       "      <td>0</td>\n",
       "      <td>0</td>\n",
       "      <td>0</td>\n",
       "      <td>...</td>\n",
       "      <td>0</td>\n",
       "      <td>0</td>\n",
       "      <td>0</td>\n",
       "      <td>0</td>\n",
       "      <td>0</td>\n",
       "      <td>0</td>\n",
       "      <td>0</td>\n",
       "      <td>0</td>\n",
       "      <td>0</td>\n",
       "      <td>0</td>\n",
       "    </tr>\n",
       "    <tr>\n",
       "      <th>2</th>\n",
       "      <td>0</td>\n",
       "      <td>0</td>\n",
       "      <td>0</td>\n",
       "      <td>0</td>\n",
       "      <td>0</td>\n",
       "      <td>0</td>\n",
       "      <td>0</td>\n",
       "      <td>0</td>\n",
       "      <td>0</td>\n",
       "      <td>0</td>\n",
       "      <td>...</td>\n",
       "      <td>0</td>\n",
       "      <td>0</td>\n",
       "      <td>0</td>\n",
       "      <td>0</td>\n",
       "      <td>0</td>\n",
       "      <td>0</td>\n",
       "      <td>0</td>\n",
       "      <td>0</td>\n",
       "      <td>0</td>\n",
       "      <td>0</td>\n",
       "    </tr>\n",
       "  </tbody>\n",
       "</table>\n",
       "<p>3 rows × 87 columns</p>\n",
       "</div>"
      ],
      "text/plain": [
       "   Bakery  Bakery, Beverage Shop  Bakery, Cafe  Bakery, Dessert Parlor  \\\n",
       "0       0                      0             0                       0   \n",
       "1       0                      0             0                       0   \n",
       "2       0                      0             0                       0   \n",
       "\n",
       "   Bakery, Food Court  Bakery, Quick Bites  Bar  Bar, Casual Dining  \\\n",
       "0                   0                    0    0                   0   \n",
       "1                   0                    0    0                   0   \n",
       "2                   0                    0    0                   0   \n",
       "\n",
       "   Bar, Lounge  Bar, Pub         ...          Quick Bites, Dessert Parlor  \\\n",
       "0            0         0         ...                                    0   \n",
       "1            0         0         ...                                    0   \n",
       "2            0         0         ...                                    0   \n",
       "\n",
       "   Quick Bites, Food Court  Quick Bites, Kiosk  Quick Bites, Meat Shop  \\\n",
       "0                        0                   0                       0   \n",
       "1                        0                   0                       0   \n",
       "2                        0                   0                       0   \n",
       "\n",
       "   Quick Bites, Mess  Quick Bites, Sweet Shop  Sweet Shop  \\\n",
       "0                  0                        0           0   \n",
       "1                  0                        0           0   \n",
       "2                  0                        0           0   \n",
       "\n",
       "   Sweet Shop, Quick Bites  Takeaway  Takeaway, Delivery  \n",
       "0                        0         0                   0  \n",
       "1                        0         0                   0  \n",
       "2                        0         0                   0  \n",
       "\n",
       "[3 rows x 87 columns]"
      ]
     },
     "execution_count": 39,
     "metadata": {},
     "output_type": "execute_result"
    }
   ],
   "source": [
    "#Applying One hot encoding on the Rest Type attribute \n",
    "\n",
    "dummiesresttype = pd.get_dummies(df2.rest_type)\n",
    "dummiesresttype.head(3)"
   ]
  },
  {
   "cell_type": "code",
   "execution_count": 40,
   "metadata": {},
   "outputs": [
    {
     "data": {
      "text/html": [
       "<div>\n",
       "<style scoped>\n",
       "    .dataframe tbody tr th:only-of-type {\n",
       "        vertical-align: middle;\n",
       "    }\n",
       "\n",
       "    .dataframe tbody tr th {\n",
       "        vertical-align: top;\n",
       "    }\n",
       "\n",
       "    .dataframe thead th {\n",
       "        text-align: right;\n",
       "    }\n",
       "</style>\n",
       "<table border=\"1\" class=\"dataframe\">\n",
       "  <thead>\n",
       "    <tr style=\"text-align: right;\">\n",
       "      <th></th>\n",
       "      <th>Buffet</th>\n",
       "      <th>Cafes</th>\n",
       "      <th>Delivery</th>\n",
       "      <th>Desserts</th>\n",
       "      <th>Dine-out</th>\n",
       "      <th>Drinks &amp; nightlife</th>\n",
       "      <th>Pubs and bars</th>\n",
       "    </tr>\n",
       "  </thead>\n",
       "  <tbody>\n",
       "    <tr>\n",
       "      <th>0</th>\n",
       "      <td>1</td>\n",
       "      <td>0</td>\n",
       "      <td>0</td>\n",
       "      <td>0</td>\n",
       "      <td>0</td>\n",
       "      <td>0</td>\n",
       "      <td>0</td>\n",
       "    </tr>\n",
       "    <tr>\n",
       "      <th>1</th>\n",
       "      <td>1</td>\n",
       "      <td>0</td>\n",
       "      <td>0</td>\n",
       "      <td>0</td>\n",
       "      <td>0</td>\n",
       "      <td>0</td>\n",
       "      <td>0</td>\n",
       "    </tr>\n",
       "    <tr>\n",
       "      <th>2</th>\n",
       "      <td>1</td>\n",
       "      <td>0</td>\n",
       "      <td>0</td>\n",
       "      <td>0</td>\n",
       "      <td>0</td>\n",
       "      <td>0</td>\n",
       "      <td>0</td>\n",
       "    </tr>\n",
       "  </tbody>\n",
       "</table>\n",
       "</div>"
      ],
      "text/plain": [
       "   Buffet  Cafes  Delivery  Desserts  Dine-out  Drinks & nightlife  \\\n",
       "0       1      0         0         0         0                   0   \n",
       "1       1      0         0         0         0                   0   \n",
       "2       1      0         0         0         0                   0   \n",
       "\n",
       "   Pubs and bars  \n",
       "0              0  \n",
       "1              0  \n",
       "2              0  "
      ]
     },
     "execution_count": 40,
     "metadata": {},
     "output_type": "execute_result"
    }
   ],
   "source": [
    "#Applying One hot encoding on the Type attribute\n",
    "\n",
    "dummiestype = pd.get_dummies(df2.type)\n",
    "dummiestype.head(3)"
   ]
  },
  {
   "cell_type": "code",
   "execution_count": 41,
   "metadata": {},
   "outputs": [
    {
     "data": {
      "text/html": [
       "<div>\n",
       "<style scoped>\n",
       "    .dataframe tbody tr th:only-of-type {\n",
       "        vertical-align: middle;\n",
       "    }\n",
       "\n",
       "    .dataframe tbody tr th {\n",
       "        vertical-align: top;\n",
       "    }\n",
       "\n",
       "    .dataframe thead th {\n",
       "        text-align: right;\n",
       "    }\n",
       "</style>\n",
       "<table border=\"1\" class=\"dataframe\">\n",
       "  <thead>\n",
       "    <tr style=\"text-align: right;\">\n",
       "      <th></th>\n",
       "      <th>BTM</th>\n",
       "      <th>Banashankari</th>\n",
       "      <th>Bannerghatta Road</th>\n",
       "      <th>Basavanagudi</th>\n",
       "      <th>Bellandur</th>\n",
       "      <th>Brigade Road</th>\n",
       "      <th>Brookefield</th>\n",
       "      <th>Church Street</th>\n",
       "      <th>Electronic City</th>\n",
       "      <th>Frazer Town</th>\n",
       "      <th>...</th>\n",
       "      <th>Lavelle Road</th>\n",
       "      <th>MG Road</th>\n",
       "      <th>Malleshwaram</th>\n",
       "      <th>Marathahalli</th>\n",
       "      <th>New BEL Road</th>\n",
       "      <th>Old Airport Road</th>\n",
       "      <th>Rajajinagar</th>\n",
       "      <th>Residency Road</th>\n",
       "      <th>Sarjapur Road</th>\n",
       "      <th>Whitefield</th>\n",
       "    </tr>\n",
       "  </thead>\n",
       "  <tbody>\n",
       "    <tr>\n",
       "      <th>0</th>\n",
       "      <td>0</td>\n",
       "      <td>1</td>\n",
       "      <td>0</td>\n",
       "      <td>0</td>\n",
       "      <td>0</td>\n",
       "      <td>0</td>\n",
       "      <td>0</td>\n",
       "      <td>0</td>\n",
       "      <td>0</td>\n",
       "      <td>0</td>\n",
       "      <td>...</td>\n",
       "      <td>0</td>\n",
       "      <td>0</td>\n",
       "      <td>0</td>\n",
       "      <td>0</td>\n",
       "      <td>0</td>\n",
       "      <td>0</td>\n",
       "      <td>0</td>\n",
       "      <td>0</td>\n",
       "      <td>0</td>\n",
       "      <td>0</td>\n",
       "    </tr>\n",
       "    <tr>\n",
       "      <th>1</th>\n",
       "      <td>0</td>\n",
       "      <td>1</td>\n",
       "      <td>0</td>\n",
       "      <td>0</td>\n",
       "      <td>0</td>\n",
       "      <td>0</td>\n",
       "      <td>0</td>\n",
       "      <td>0</td>\n",
       "      <td>0</td>\n",
       "      <td>0</td>\n",
       "      <td>...</td>\n",
       "      <td>0</td>\n",
       "      <td>0</td>\n",
       "      <td>0</td>\n",
       "      <td>0</td>\n",
       "      <td>0</td>\n",
       "      <td>0</td>\n",
       "      <td>0</td>\n",
       "      <td>0</td>\n",
       "      <td>0</td>\n",
       "      <td>0</td>\n",
       "    </tr>\n",
       "    <tr>\n",
       "      <th>2</th>\n",
       "      <td>0</td>\n",
       "      <td>1</td>\n",
       "      <td>0</td>\n",
       "      <td>0</td>\n",
       "      <td>0</td>\n",
       "      <td>0</td>\n",
       "      <td>0</td>\n",
       "      <td>0</td>\n",
       "      <td>0</td>\n",
       "      <td>0</td>\n",
       "      <td>...</td>\n",
       "      <td>0</td>\n",
       "      <td>0</td>\n",
       "      <td>0</td>\n",
       "      <td>0</td>\n",
       "      <td>0</td>\n",
       "      <td>0</td>\n",
       "      <td>0</td>\n",
       "      <td>0</td>\n",
       "      <td>0</td>\n",
       "      <td>0</td>\n",
       "    </tr>\n",
       "  </tbody>\n",
       "</table>\n",
       "<p>3 rows × 30 columns</p>\n",
       "</div>"
      ],
      "text/plain": [
       "   BTM  Banashankari  Bannerghatta Road  Basavanagudi  Bellandur  \\\n",
       "0    0             1                  0             0          0   \n",
       "1    0             1                  0             0          0   \n",
       "2    0             1                  0             0          0   \n",
       "\n",
       "   Brigade Road  Brookefield  Church Street  Electronic City  Frazer Town  \\\n",
       "0             0            0              0                0            0   \n",
       "1             0            0              0                0            0   \n",
       "2             0            0              0                0            0   \n",
       "\n",
       "      ...      Lavelle Road  MG Road  Malleshwaram  Marathahalli  \\\n",
       "0     ...                 0        0             0             0   \n",
       "1     ...                 0        0             0             0   \n",
       "2     ...                 0        0             0             0   \n",
       "\n",
       "   New BEL Road  Old Airport Road  Rajajinagar  Residency Road  Sarjapur Road  \\\n",
       "0             0                 0            0               0              0   \n",
       "1             0                 0            0               0              0   \n",
       "2             0                 0            0               0              0   \n",
       "\n",
       "   Whitefield  \n",
       "0           0  \n",
       "1           0  \n",
       "2           0  \n",
       "\n",
       "[3 rows x 30 columns]"
      ]
     },
     "execution_count": 41,
     "metadata": {},
     "output_type": "execute_result"
    }
   ],
   "source": [
    "#Applying One hot encoding on the Location in city attribute\n",
    "\n",
    "dummiescity = pd.get_dummies(df2.Location_in_City)\n",
    "dummiescity.head(3)"
   ]
  },
  {
   "cell_type": "code",
   "execution_count": 42,
   "metadata": {},
   "outputs": [
    {
     "data": {
      "text/html": [
       "<div>\n",
       "<style scoped>\n",
       "    .dataframe tbody tr th:only-of-type {\n",
       "        vertical-align: middle;\n",
       "    }\n",
       "\n",
       "    .dataframe tbody tr th {\n",
       "        vertical-align: top;\n",
       "    }\n",
       "\n",
       "    .dataframe thead th {\n",
       "        text-align: right;\n",
       "    }\n",
       "</style>\n",
       "<table border=\"1\" class=\"dataframe\">\n",
       "  <thead>\n",
       "    <tr style=\"text-align: right;\">\n",
       "      <th></th>\n",
       "      <th>name</th>\n",
       "      <th>online_order</th>\n",
       "      <th>book_table</th>\n",
       "      <th>rate</th>\n",
       "      <th>votes</th>\n",
       "      <th>rest_type</th>\n",
       "      <th>cost</th>\n",
       "      <th>type</th>\n",
       "      <th>Location_in_City</th>\n",
       "      <th>Bakery</th>\n",
       "      <th>...</th>\n",
       "      <th>Lavelle Road</th>\n",
       "      <th>MG Road</th>\n",
       "      <th>Malleshwaram</th>\n",
       "      <th>Marathahalli</th>\n",
       "      <th>New BEL Road</th>\n",
       "      <th>Old Airport Road</th>\n",
       "      <th>Rajajinagar</th>\n",
       "      <th>Residency Road</th>\n",
       "      <th>Sarjapur Road</th>\n",
       "      <th>Whitefield</th>\n",
       "    </tr>\n",
       "  </thead>\n",
       "  <tbody>\n",
       "    <tr>\n",
       "      <th>0</th>\n",
       "      <td>Jalsa</td>\n",
       "      <td>1</td>\n",
       "      <td>1</td>\n",
       "      <td>4.1</td>\n",
       "      <td>775</td>\n",
       "      <td>Casual Dining</td>\n",
       "      <td>800.0</td>\n",
       "      <td>Buffet</td>\n",
       "      <td>Banashankari</td>\n",
       "      <td>0</td>\n",
       "      <td>...</td>\n",
       "      <td>0</td>\n",
       "      <td>0</td>\n",
       "      <td>0</td>\n",
       "      <td>0</td>\n",
       "      <td>0</td>\n",
       "      <td>0</td>\n",
       "      <td>0</td>\n",
       "      <td>0</td>\n",
       "      <td>0</td>\n",
       "      <td>0</td>\n",
       "    </tr>\n",
       "    <tr>\n",
       "      <th>1</th>\n",
       "      <td>Spice Elephant</td>\n",
       "      <td>1</td>\n",
       "      <td>0</td>\n",
       "      <td>4.1</td>\n",
       "      <td>787</td>\n",
       "      <td>Casual Dining</td>\n",
       "      <td>800.0</td>\n",
       "      <td>Buffet</td>\n",
       "      <td>Banashankari</td>\n",
       "      <td>0</td>\n",
       "      <td>...</td>\n",
       "      <td>0</td>\n",
       "      <td>0</td>\n",
       "      <td>0</td>\n",
       "      <td>0</td>\n",
       "      <td>0</td>\n",
       "      <td>0</td>\n",
       "      <td>0</td>\n",
       "      <td>0</td>\n",
       "      <td>0</td>\n",
       "      <td>0</td>\n",
       "    </tr>\n",
       "    <tr>\n",
       "      <th>2</th>\n",
       "      <td>San Churro Cafe</td>\n",
       "      <td>1</td>\n",
       "      <td>0</td>\n",
       "      <td>3.8</td>\n",
       "      <td>918</td>\n",
       "      <td>Cafe, Casual Dining</td>\n",
       "      <td>800.0</td>\n",
       "      <td>Buffet</td>\n",
       "      <td>Banashankari</td>\n",
       "      <td>0</td>\n",
       "      <td>...</td>\n",
       "      <td>0</td>\n",
       "      <td>0</td>\n",
       "      <td>0</td>\n",
       "      <td>0</td>\n",
       "      <td>0</td>\n",
       "      <td>0</td>\n",
       "      <td>0</td>\n",
       "      <td>0</td>\n",
       "      <td>0</td>\n",
       "      <td>0</td>\n",
       "    </tr>\n",
       "    <tr>\n",
       "      <th>3</th>\n",
       "      <td>Addhuri Udupi Bhojana</td>\n",
       "      <td>0</td>\n",
       "      <td>0</td>\n",
       "      <td>3.7</td>\n",
       "      <td>88</td>\n",
       "      <td>Quick Bites</td>\n",
       "      <td>300.0</td>\n",
       "      <td>Buffet</td>\n",
       "      <td>Banashankari</td>\n",
       "      <td>0</td>\n",
       "      <td>...</td>\n",
       "      <td>0</td>\n",
       "      <td>0</td>\n",
       "      <td>0</td>\n",
       "      <td>0</td>\n",
       "      <td>0</td>\n",
       "      <td>0</td>\n",
       "      <td>0</td>\n",
       "      <td>0</td>\n",
       "      <td>0</td>\n",
       "      <td>0</td>\n",
       "    </tr>\n",
       "    <tr>\n",
       "      <th>4</th>\n",
       "      <td>Grand Village</td>\n",
       "      <td>0</td>\n",
       "      <td>0</td>\n",
       "      <td>3.8</td>\n",
       "      <td>166</td>\n",
       "      <td>Casual Dining</td>\n",
       "      <td>600.0</td>\n",
       "      <td>Buffet</td>\n",
       "      <td>Banashankari</td>\n",
       "      <td>0</td>\n",
       "      <td>...</td>\n",
       "      <td>0</td>\n",
       "      <td>0</td>\n",
       "      <td>0</td>\n",
       "      <td>0</td>\n",
       "      <td>0</td>\n",
       "      <td>0</td>\n",
       "      <td>0</td>\n",
       "      <td>0</td>\n",
       "      <td>0</td>\n",
       "      <td>0</td>\n",
       "    </tr>\n",
       "  </tbody>\n",
       "</table>\n",
       "<p>5 rows × 133 columns</p>\n",
       "</div>"
      ],
      "text/plain": [
       "                    name  online_order  book_table  rate  votes  \\\n",
       "0                  Jalsa             1           1   4.1    775   \n",
       "1         Spice Elephant             1           0   4.1    787   \n",
       "2        San Churro Cafe             1           0   3.8    918   \n",
       "3  Addhuri Udupi Bhojana             0           0   3.7     88   \n",
       "4          Grand Village             0           0   3.8    166   \n",
       "\n",
       "             rest_type   cost    type Location_in_City  Bakery     ...      \\\n",
       "0        Casual Dining  800.0  Buffet     Banashankari       0     ...       \n",
       "1        Casual Dining  800.0  Buffet     Banashankari       0     ...       \n",
       "2  Cafe, Casual Dining  800.0  Buffet     Banashankari       0     ...       \n",
       "3          Quick Bites  300.0  Buffet     Banashankari       0     ...       \n",
       "4        Casual Dining  600.0  Buffet     Banashankari       0     ...       \n",
       "\n",
       "   Lavelle Road  MG Road  Malleshwaram  Marathahalli  New BEL Road  \\\n",
       "0             0        0             0             0             0   \n",
       "1             0        0             0             0             0   \n",
       "2             0        0             0             0             0   \n",
       "3             0        0             0             0             0   \n",
       "4             0        0             0             0             0   \n",
       "\n",
       "   Old Airport Road  Rajajinagar  Residency Road  Sarjapur Road  Whitefield  \n",
       "0                 0            0               0              0           0  \n",
       "1                 0            0               0              0           0  \n",
       "2                 0            0               0              0           0  \n",
       "3                 0            0               0              0           0  \n",
       "4                 0            0               0              0           0  \n",
       "\n",
       "[5 rows x 133 columns]"
      ]
     },
     "execution_count": 42,
     "metadata": {},
     "output_type": "execute_result"
    }
   ],
   "source": [
    "#Concating them into one data frame\n",
    "\n",
    "df3 = pd.concat([df2,dummiesresttype,dummiestype,dummiescity],axis=\"columns\")\n",
    "df3.head()"
   ]
  },
  {
   "cell_type": "code",
   "execution_count": 43,
   "metadata": {},
   "outputs": [],
   "source": [
    "dfname = df3[\"name\"]"
   ]
  },
  {
   "cell_type": "code",
   "execution_count": 44,
   "metadata": {},
   "outputs": [
    {
     "data": {
      "text/plain": [
       "0                    Jalsa\n",
       "1           Spice Elephant\n",
       "2          San Churro Cafe\n",
       "3    Addhuri Udupi Bhojana\n",
       "4            Grand Village\n",
       "Name: name, dtype: object"
      ]
     },
     "execution_count": 44,
     "metadata": {},
     "output_type": "execute_result"
    }
   ],
   "source": [
    "dfname.head()"
   ]
  },
  {
   "cell_type": "code",
   "execution_count": 45,
   "metadata": {},
   "outputs": [],
   "source": [
    "dflocation = df3[\"Location_in_City\"]"
   ]
  },
  {
   "cell_type": "code",
   "execution_count": 46,
   "metadata": {},
   "outputs": [
    {
     "data": {
      "text/plain": [
       "0    Banashankari\n",
       "1    Banashankari\n",
       "2    Banashankari\n",
       "3    Banashankari\n",
       "4    Banashankari\n",
       "Name: Location_in_City, dtype: object"
      ]
     },
     "execution_count": 46,
     "metadata": {},
     "output_type": "execute_result"
    }
   ],
   "source": [
    "dflocation.head()"
   ]
  },
  {
   "cell_type": "code",
   "execution_count": 47,
   "metadata": {},
   "outputs": [
    {
     "data": {
      "text/html": [
       "<div>\n",
       "<style scoped>\n",
       "    .dataframe tbody tr th:only-of-type {\n",
       "        vertical-align: middle;\n",
       "    }\n",
       "\n",
       "    .dataframe tbody tr th {\n",
       "        vertical-align: top;\n",
       "    }\n",
       "\n",
       "    .dataframe thead th {\n",
       "        text-align: right;\n",
       "    }\n",
       "</style>\n",
       "<table border=\"1\" class=\"dataframe\">\n",
       "  <thead>\n",
       "    <tr style=\"text-align: right;\">\n",
       "      <th></th>\n",
       "      <th>online_order</th>\n",
       "      <th>book_table</th>\n",
       "      <th>rate</th>\n",
       "      <th>votes</th>\n",
       "      <th>cost</th>\n",
       "      <th>Bakery</th>\n",
       "      <th>Bakery, Beverage Shop</th>\n",
       "      <th>Bakery, Cafe</th>\n",
       "      <th>Bakery, Dessert Parlor</th>\n",
       "      <th>Bakery, Food Court</th>\n",
       "      <th>...</th>\n",
       "      <th>Lavelle Road</th>\n",
       "      <th>MG Road</th>\n",
       "      <th>Malleshwaram</th>\n",
       "      <th>Marathahalli</th>\n",
       "      <th>New BEL Road</th>\n",
       "      <th>Old Airport Road</th>\n",
       "      <th>Rajajinagar</th>\n",
       "      <th>Residency Road</th>\n",
       "      <th>Sarjapur Road</th>\n",
       "      <th>Whitefield</th>\n",
       "    </tr>\n",
       "  </thead>\n",
       "  <tbody>\n",
       "    <tr>\n",
       "      <th>0</th>\n",
       "      <td>1</td>\n",
       "      <td>1</td>\n",
       "      <td>4.1</td>\n",
       "      <td>775</td>\n",
       "      <td>800.0</td>\n",
       "      <td>0</td>\n",
       "      <td>0</td>\n",
       "      <td>0</td>\n",
       "      <td>0</td>\n",
       "      <td>0</td>\n",
       "      <td>...</td>\n",
       "      <td>0</td>\n",
       "      <td>0</td>\n",
       "      <td>0</td>\n",
       "      <td>0</td>\n",
       "      <td>0</td>\n",
       "      <td>0</td>\n",
       "      <td>0</td>\n",
       "      <td>0</td>\n",
       "      <td>0</td>\n",
       "      <td>0</td>\n",
       "    </tr>\n",
       "    <tr>\n",
       "      <th>1</th>\n",
       "      <td>1</td>\n",
       "      <td>0</td>\n",
       "      <td>4.1</td>\n",
       "      <td>787</td>\n",
       "      <td>800.0</td>\n",
       "      <td>0</td>\n",
       "      <td>0</td>\n",
       "      <td>0</td>\n",
       "      <td>0</td>\n",
       "      <td>0</td>\n",
       "      <td>...</td>\n",
       "      <td>0</td>\n",
       "      <td>0</td>\n",
       "      <td>0</td>\n",
       "      <td>0</td>\n",
       "      <td>0</td>\n",
       "      <td>0</td>\n",
       "      <td>0</td>\n",
       "      <td>0</td>\n",
       "      <td>0</td>\n",
       "      <td>0</td>\n",
       "    </tr>\n",
       "    <tr>\n",
       "      <th>2</th>\n",
       "      <td>1</td>\n",
       "      <td>0</td>\n",
       "      <td>3.8</td>\n",
       "      <td>918</td>\n",
       "      <td>800.0</td>\n",
       "      <td>0</td>\n",
       "      <td>0</td>\n",
       "      <td>0</td>\n",
       "      <td>0</td>\n",
       "      <td>0</td>\n",
       "      <td>...</td>\n",
       "      <td>0</td>\n",
       "      <td>0</td>\n",
       "      <td>0</td>\n",
       "      <td>0</td>\n",
       "      <td>0</td>\n",
       "      <td>0</td>\n",
       "      <td>0</td>\n",
       "      <td>0</td>\n",
       "      <td>0</td>\n",
       "      <td>0</td>\n",
       "    </tr>\n",
       "    <tr>\n",
       "      <th>3</th>\n",
       "      <td>0</td>\n",
       "      <td>0</td>\n",
       "      <td>3.7</td>\n",
       "      <td>88</td>\n",
       "      <td>300.0</td>\n",
       "      <td>0</td>\n",
       "      <td>0</td>\n",
       "      <td>0</td>\n",
       "      <td>0</td>\n",
       "      <td>0</td>\n",
       "      <td>...</td>\n",
       "      <td>0</td>\n",
       "      <td>0</td>\n",
       "      <td>0</td>\n",
       "      <td>0</td>\n",
       "      <td>0</td>\n",
       "      <td>0</td>\n",
       "      <td>0</td>\n",
       "      <td>0</td>\n",
       "      <td>0</td>\n",
       "      <td>0</td>\n",
       "    </tr>\n",
       "    <tr>\n",
       "      <th>4</th>\n",
       "      <td>0</td>\n",
       "      <td>0</td>\n",
       "      <td>3.8</td>\n",
       "      <td>166</td>\n",
       "      <td>600.0</td>\n",
       "      <td>0</td>\n",
       "      <td>0</td>\n",
       "      <td>0</td>\n",
       "      <td>0</td>\n",
       "      <td>0</td>\n",
       "      <td>...</td>\n",
       "      <td>0</td>\n",
       "      <td>0</td>\n",
       "      <td>0</td>\n",
       "      <td>0</td>\n",
       "      <td>0</td>\n",
       "      <td>0</td>\n",
       "      <td>0</td>\n",
       "      <td>0</td>\n",
       "      <td>0</td>\n",
       "      <td>0</td>\n",
       "    </tr>\n",
       "  </tbody>\n",
       "</table>\n",
       "<p>5 rows × 129 columns</p>\n",
       "</div>"
      ],
      "text/plain": [
       "   online_order  book_table  rate  votes   cost  Bakery  \\\n",
       "0             1           1   4.1    775  800.0       0   \n",
       "1             1           0   4.1    787  800.0       0   \n",
       "2             1           0   3.8    918  800.0       0   \n",
       "3             0           0   3.7     88  300.0       0   \n",
       "4             0           0   3.8    166  600.0       0   \n",
       "\n",
       "   Bakery, Beverage Shop  Bakery, Cafe  Bakery, Dessert Parlor  \\\n",
       "0                      0             0                       0   \n",
       "1                      0             0                       0   \n",
       "2                      0             0                       0   \n",
       "3                      0             0                       0   \n",
       "4                      0             0                       0   \n",
       "\n",
       "   Bakery, Food Court     ...      Lavelle Road  MG Road  Malleshwaram  \\\n",
       "0                   0     ...                 0        0             0   \n",
       "1                   0     ...                 0        0             0   \n",
       "2                   0     ...                 0        0             0   \n",
       "3                   0     ...                 0        0             0   \n",
       "4                   0     ...                 0        0             0   \n",
       "\n",
       "   Marathahalli  New BEL Road  Old Airport Road  Rajajinagar  Residency Road  \\\n",
       "0             0             0                 0            0               0   \n",
       "1             0             0                 0            0               0   \n",
       "2             0             0                 0            0               0   \n",
       "3             0             0                 0            0               0   \n",
       "4             0             0                 0            0               0   \n",
       "\n",
       "   Sarjapur Road  Whitefield  \n",
       "0              0           0  \n",
       "1              0           0  \n",
       "2              0           0  \n",
       "3              0           0  \n",
       "4              0           0  \n",
       "\n",
       "[5 rows x 129 columns]"
      ]
     },
     "execution_count": 47,
     "metadata": {},
     "output_type": "execute_result"
    }
   ],
   "source": [
    "#Dropping the One unwanted columns\n",
    "\n",
    "df4 = df3.drop([\"name\",\"rest_type\",\"type\",\"Location_in_City\"],axis = \"columns\")\n",
    "df4.head()"
   ]
  },
  {
   "cell_type": "code",
   "execution_count": 48,
   "metadata": {},
   "outputs": [
    {
     "data": {
      "text/html": [
       "<div>\n",
       "<style scoped>\n",
       "    .dataframe tbody tr th:only-of-type {\n",
       "        vertical-align: middle;\n",
       "    }\n",
       "\n",
       "    .dataframe tbody tr th {\n",
       "        vertical-align: top;\n",
       "    }\n",
       "\n",
       "    .dataframe thead th {\n",
       "        text-align: right;\n",
       "    }\n",
       "</style>\n",
       "<table border=\"1\" class=\"dataframe\">\n",
       "  <thead>\n",
       "    <tr style=\"text-align: right;\">\n",
       "      <th></th>\n",
       "      <th>online_order</th>\n",
       "      <th>book_table</th>\n",
       "      <th>rate</th>\n",
       "      <th>votes</th>\n",
       "      <th>cost</th>\n",
       "      <th>Bakery</th>\n",
       "      <th>Bakery, Beverage Shop</th>\n",
       "      <th>Bakery, Cafe</th>\n",
       "      <th>Bakery, Dessert Parlor</th>\n",
       "      <th>Bakery, Food Court</th>\n",
       "      <th>...</th>\n",
       "      <th>Lavelle Road</th>\n",
       "      <th>MG Road</th>\n",
       "      <th>Malleshwaram</th>\n",
       "      <th>Marathahalli</th>\n",
       "      <th>New BEL Road</th>\n",
       "      <th>Old Airport Road</th>\n",
       "      <th>Rajajinagar</th>\n",
       "      <th>Residency Road</th>\n",
       "      <th>Sarjapur Road</th>\n",
       "      <th>Whitefield</th>\n",
       "    </tr>\n",
       "  </thead>\n",
       "  <tbody>\n",
       "    <tr>\n",
       "      <th>0</th>\n",
       "      <td>1</td>\n",
       "      <td>1</td>\n",
       "      <td>4.1</td>\n",
       "      <td>775</td>\n",
       "      <td>800.0</td>\n",
       "      <td>0</td>\n",
       "      <td>0</td>\n",
       "      <td>0</td>\n",
       "      <td>0</td>\n",
       "      <td>0</td>\n",
       "      <td>...</td>\n",
       "      <td>0</td>\n",
       "      <td>0</td>\n",
       "      <td>0</td>\n",
       "      <td>0</td>\n",
       "      <td>0</td>\n",
       "      <td>0</td>\n",
       "      <td>0</td>\n",
       "      <td>0</td>\n",
       "      <td>0</td>\n",
       "      <td>0</td>\n",
       "    </tr>\n",
       "    <tr>\n",
       "      <th>1</th>\n",
       "      <td>1</td>\n",
       "      <td>0</td>\n",
       "      <td>4.1</td>\n",
       "      <td>787</td>\n",
       "      <td>800.0</td>\n",
       "      <td>0</td>\n",
       "      <td>0</td>\n",
       "      <td>0</td>\n",
       "      <td>0</td>\n",
       "      <td>0</td>\n",
       "      <td>...</td>\n",
       "      <td>0</td>\n",
       "      <td>0</td>\n",
       "      <td>0</td>\n",
       "      <td>0</td>\n",
       "      <td>0</td>\n",
       "      <td>0</td>\n",
       "      <td>0</td>\n",
       "      <td>0</td>\n",
       "      <td>0</td>\n",
       "      <td>0</td>\n",
       "    </tr>\n",
       "    <tr>\n",
       "      <th>2</th>\n",
       "      <td>1</td>\n",
       "      <td>0</td>\n",
       "      <td>3.8</td>\n",
       "      <td>918</td>\n",
       "      <td>800.0</td>\n",
       "      <td>0</td>\n",
       "      <td>0</td>\n",
       "      <td>0</td>\n",
       "      <td>0</td>\n",
       "      <td>0</td>\n",
       "      <td>...</td>\n",
       "      <td>0</td>\n",
       "      <td>0</td>\n",
       "      <td>0</td>\n",
       "      <td>0</td>\n",
       "      <td>0</td>\n",
       "      <td>0</td>\n",
       "      <td>0</td>\n",
       "      <td>0</td>\n",
       "      <td>0</td>\n",
       "      <td>0</td>\n",
       "    </tr>\n",
       "    <tr>\n",
       "      <th>3</th>\n",
       "      <td>0</td>\n",
       "      <td>0</td>\n",
       "      <td>3.7</td>\n",
       "      <td>88</td>\n",
       "      <td>300.0</td>\n",
       "      <td>0</td>\n",
       "      <td>0</td>\n",
       "      <td>0</td>\n",
       "      <td>0</td>\n",
       "      <td>0</td>\n",
       "      <td>...</td>\n",
       "      <td>0</td>\n",
       "      <td>0</td>\n",
       "      <td>0</td>\n",
       "      <td>0</td>\n",
       "      <td>0</td>\n",
       "      <td>0</td>\n",
       "      <td>0</td>\n",
       "      <td>0</td>\n",
       "      <td>0</td>\n",
       "      <td>0</td>\n",
       "    </tr>\n",
       "    <tr>\n",
       "      <th>4</th>\n",
       "      <td>0</td>\n",
       "      <td>0</td>\n",
       "      <td>3.8</td>\n",
       "      <td>166</td>\n",
       "      <td>600.0</td>\n",
       "      <td>0</td>\n",
       "      <td>0</td>\n",
       "      <td>0</td>\n",
       "      <td>0</td>\n",
       "      <td>0</td>\n",
       "      <td>...</td>\n",
       "      <td>0</td>\n",
       "      <td>0</td>\n",
       "      <td>0</td>\n",
       "      <td>0</td>\n",
       "      <td>0</td>\n",
       "      <td>0</td>\n",
       "      <td>0</td>\n",
       "      <td>0</td>\n",
       "      <td>0</td>\n",
       "      <td>0</td>\n",
       "    </tr>\n",
       "  </tbody>\n",
       "</table>\n",
       "<p>5 rows × 129 columns</p>\n",
       "</div>"
      ],
      "text/plain": [
       "   online_order  book_table  rate  votes   cost  Bakery  \\\n",
       "0             1           1   4.1    775  800.0       0   \n",
       "1             1           0   4.1    787  800.0       0   \n",
       "2             1           0   3.8    918  800.0       0   \n",
       "3             0           0   3.7     88  300.0       0   \n",
       "4             0           0   3.8    166  600.0       0   \n",
       "\n",
       "   Bakery, Beverage Shop  Bakery, Cafe  Bakery, Dessert Parlor  \\\n",
       "0                      0             0                       0   \n",
       "1                      0             0                       0   \n",
       "2                      0             0                       0   \n",
       "3                      0             0                       0   \n",
       "4                      0             0                       0   \n",
       "\n",
       "   Bakery, Food Court     ...      Lavelle Road  MG Road  Malleshwaram  \\\n",
       "0                   0     ...                 0        0             0   \n",
       "1                   0     ...                 0        0             0   \n",
       "2                   0     ...                 0        0             0   \n",
       "3                   0     ...                 0        0             0   \n",
       "4                   0     ...                 0        0             0   \n",
       "\n",
       "   Marathahalli  New BEL Road  Old Airport Road  Rajajinagar  Residency Road  \\\n",
       "0             0             0                 0            0               0   \n",
       "1             0             0                 0            0               0   \n",
       "2             0             0                 0            0               0   \n",
       "3             0             0                 0            0               0   \n",
       "4             0             0                 0            0               0   \n",
       "\n",
       "   Sarjapur Road  Whitefield  \n",
       "0              0           0  \n",
       "1              0           0  \n",
       "2              0           0  \n",
       "3              0           0  \n",
       "4              0           0  \n",
       "\n",
       "[5 rows x 129 columns]"
      ]
     },
     "execution_count": 48,
     "metadata": {},
     "output_type": "execute_result"
    }
   ],
   "source": [
    "df4.head()"
   ]
  },
  {
   "cell_type": "markdown",
   "metadata": {},
   "source": [
    "# Correlation Matrix and Distribution Plot of Dependent Variable"
   ]
  },
  {
   "cell_type": "code",
   "execution_count": 49,
   "metadata": {},
   "outputs": [
    {
     "data": {
      "text/html": [
       "<div>\n",
       "<style scoped>\n",
       "    .dataframe tbody tr th:only-of-type {\n",
       "        vertical-align: middle;\n",
       "    }\n",
       "\n",
       "    .dataframe tbody tr th {\n",
       "        vertical-align: top;\n",
       "    }\n",
       "\n",
       "    .dataframe thead th {\n",
       "        text-align: right;\n",
       "    }\n",
       "</style>\n",
       "<table border=\"1\" class=\"dataframe\">\n",
       "  <thead>\n",
       "    <tr style=\"text-align: right;\">\n",
       "      <th></th>\n",
       "      <th>online_order</th>\n",
       "      <th>book_table</th>\n",
       "      <th>rate</th>\n",
       "      <th>votes</th>\n",
       "      <th>cost</th>\n",
       "      <th>Bakery</th>\n",
       "      <th>Bakery, Beverage Shop</th>\n",
       "      <th>Bakery, Cafe</th>\n",
       "      <th>Bakery, Dessert Parlor</th>\n",
       "      <th>Bakery, Food Court</th>\n",
       "      <th>...</th>\n",
       "      <th>Lavelle Road</th>\n",
       "      <th>MG Road</th>\n",
       "      <th>Malleshwaram</th>\n",
       "      <th>Marathahalli</th>\n",
       "      <th>New BEL Road</th>\n",
       "      <th>Old Airport Road</th>\n",
       "      <th>Rajajinagar</th>\n",
       "      <th>Residency Road</th>\n",
       "      <th>Sarjapur Road</th>\n",
       "      <th>Whitefield</th>\n",
       "    </tr>\n",
       "  </thead>\n",
       "  <tbody>\n",
       "    <tr>\n",
       "      <th>online_order</th>\n",
       "      <td>1.000000</td>\n",
       "      <td>-0.050397</td>\n",
       "      <td>0.066651</td>\n",
       "      <td>-0.005651</td>\n",
       "      <td>-0.163457</td>\n",
       "      <td>-0.023318</td>\n",
       "      <td>-0.002099</td>\n",
       "      <td>0.011067</td>\n",
       "      <td>-0.016302</td>\n",
       "      <td>-0.002099</td>\n",
       "      <td>...</td>\n",
       "      <td>-0.067464</td>\n",
       "      <td>-0.048837</td>\n",
       "      <td>-0.000341</td>\n",
       "      <td>0.000177</td>\n",
       "      <td>-0.000991</td>\n",
       "      <td>-0.008126</td>\n",
       "      <td>-0.022999</td>\n",
       "      <td>-0.062846</td>\n",
       "      <td>0.013594</td>\n",
       "      <td>-0.010118</td>\n",
       "    </tr>\n",
       "    <tr>\n",
       "      <th>book_table</th>\n",
       "      <td>-0.050397</td>\n",
       "      <td>1.000000</td>\n",
       "      <td>0.420557</td>\n",
       "      <td>0.391949</td>\n",
       "      <td>0.613887</td>\n",
       "      <td>-0.056050</td>\n",
       "      <td>-0.002822</td>\n",
       "      <td>-0.010574</td>\n",
       "      <td>-0.022520</td>\n",
       "      <td>-0.002822</td>\n",
       "      <td>...</td>\n",
       "      <td>0.038205</td>\n",
       "      <td>0.044732</td>\n",
       "      <td>-0.008711</td>\n",
       "      <td>-0.017249</td>\n",
       "      <td>-0.020415</td>\n",
       "      <td>0.019053</td>\n",
       "      <td>-0.019264</td>\n",
       "      <td>0.038970</td>\n",
       "      <td>-0.011732</td>\n",
       "      <td>0.001945</td>\n",
       "    </tr>\n",
       "    <tr>\n",
       "      <th>rate</th>\n",
       "      <td>0.066651</td>\n",
       "      <td>0.420557</td>\n",
       "      <td>1.000000</td>\n",
       "      <td>0.433479</td>\n",
       "      <td>0.379793</td>\n",
       "      <td>-0.026837</td>\n",
       "      <td>-0.003971</td>\n",
       "      <td>0.029242</td>\n",
       "      <td>-0.001838</td>\n",
       "      <td>-0.009525</td>\n",
       "      <td>...</td>\n",
       "      <td>0.031398</td>\n",
       "      <td>0.042888</td>\n",
       "      <td>0.004840</td>\n",
       "      <td>-0.057930</td>\n",
       "      <td>-0.017392</td>\n",
       "      <td>0.008587</td>\n",
       "      <td>-0.014476</td>\n",
       "      <td>0.031813</td>\n",
       "      <td>-0.036333</td>\n",
       "      <td>-0.028028</td>\n",
       "    </tr>\n",
       "    <tr>\n",
       "      <th>votes</th>\n",
       "      <td>-0.005651</td>\n",
       "      <td>0.391949</td>\n",
       "      <td>0.433479</td>\n",
       "      <td>1.000000</td>\n",
       "      <td>0.367371</td>\n",
       "      <td>-0.044906</td>\n",
       "      <td>-0.002605</td>\n",
       "      <td>0.030150</td>\n",
       "      <td>-0.015074</td>\n",
       "      <td>-0.002441</td>\n",
       "      <td>...</td>\n",
       "      <td>0.012159</td>\n",
       "      <td>0.028647</td>\n",
       "      <td>-0.011359</td>\n",
       "      <td>-0.013446</td>\n",
       "      <td>-0.010681</td>\n",
       "      <td>0.025923</td>\n",
       "      <td>-0.018933</td>\n",
       "      <td>0.019142</td>\n",
       "      <td>-0.006852</td>\n",
       "      <td>-0.013090</td>\n",
       "    </tr>\n",
       "    <tr>\n",
       "      <th>cost</th>\n",
       "      <td>-0.163457</td>\n",
       "      <td>0.613887</td>\n",
       "      <td>0.379793</td>\n",
       "      <td>0.367371</td>\n",
       "      <td>1.000000</td>\n",
       "      <td>-0.066012</td>\n",
       "      <td>-0.006195</td>\n",
       "      <td>0.004459</td>\n",
       "      <td>-0.028781</td>\n",
       "      <td>-0.001399</td>\n",
       "      <td>...</td>\n",
       "      <td>0.092794</td>\n",
       "      <td>0.096226</td>\n",
       "      <td>0.004387</td>\n",
       "      <td>-0.024452</td>\n",
       "      <td>-0.024697</td>\n",
       "      <td>0.021546</td>\n",
       "      <td>-0.022220</td>\n",
       "      <td>0.085233</td>\n",
       "      <td>-0.007809</td>\n",
       "      <td>0.016710</td>\n",
       "    </tr>\n",
       "    <tr>\n",
       "      <th>Bakery</th>\n",
       "      <td>-0.023318</td>\n",
       "      <td>-0.056050</td>\n",
       "      <td>-0.026837</td>\n",
       "      <td>-0.044906</td>\n",
       "      <td>-0.066012</td>\n",
       "      <td>1.000000</td>\n",
       "      <td>-0.000912</td>\n",
       "      <td>-0.005479</td>\n",
       "      <td>-0.007281</td>\n",
       "      <td>-0.000912</td>\n",
       "      <td>...</td>\n",
       "      <td>-0.006276</td>\n",
       "      <td>0.002173</td>\n",
       "      <td>-0.003919</td>\n",
       "      <td>-0.000996</td>\n",
       "      <td>-0.002106</td>\n",
       "      <td>0.002267</td>\n",
       "      <td>-0.007260</td>\n",
       "      <td>-0.004492</td>\n",
       "      <td>0.011547</td>\n",
       "      <td>0.008019</td>\n",
       "    </tr>\n",
       "    <tr>\n",
       "      <th>Bakery, Beverage Shop</th>\n",
       "      <td>-0.002099</td>\n",
       "      <td>-0.002822</td>\n",
       "      <td>-0.003971</td>\n",
       "      <td>-0.002605</td>\n",
       "      <td>-0.006195</td>\n",
       "      <td>-0.000912</td>\n",
       "      <td>1.000000</td>\n",
       "      <td>-0.000276</td>\n",
       "      <td>-0.000367</td>\n",
       "      <td>-0.000046</td>\n",
       "      <td>...</td>\n",
       "      <td>-0.001277</td>\n",
       "      <td>-0.001304</td>\n",
       "      <td>-0.001025</td>\n",
       "      <td>-0.001211</td>\n",
       "      <td>-0.000790</td>\n",
       "      <td>0.019324</td>\n",
       "      <td>-0.000982</td>\n",
       "      <td>-0.001225</td>\n",
       "      <td>-0.001068</td>\n",
       "      <td>-0.001166</td>\n",
       "    </tr>\n",
       "    <tr>\n",
       "      <th>Bakery, Cafe</th>\n",
       "      <td>0.011067</td>\n",
       "      <td>-0.010574</td>\n",
       "      <td>0.029242</td>\n",
       "      <td>0.030150</td>\n",
       "      <td>0.004459</td>\n",
       "      <td>-0.005479</td>\n",
       "      <td>-0.000276</td>\n",
       "      <td>1.000000</td>\n",
       "      <td>-0.002201</td>\n",
       "      <td>-0.000276</td>\n",
       "      <td>...</td>\n",
       "      <td>0.010969</td>\n",
       "      <td>0.013489</td>\n",
       "      <td>-0.002334</td>\n",
       "      <td>-0.004011</td>\n",
       "      <td>0.000168</td>\n",
       "      <td>0.013564</td>\n",
       "      <td>-0.005896</td>\n",
       "      <td>0.012016</td>\n",
       "      <td>-0.006413</td>\n",
       "      <td>0.023439</td>\n",
       "    </tr>\n",
       "    <tr>\n",
       "      <th>Bakery, Dessert Parlor</th>\n",
       "      <td>-0.016302</td>\n",
       "      <td>-0.022520</td>\n",
       "      <td>-0.001838</td>\n",
       "      <td>-0.015074</td>\n",
       "      <td>-0.028781</td>\n",
       "      <td>-0.007281</td>\n",
       "      <td>-0.000367</td>\n",
       "      <td>-0.002201</td>\n",
       "      <td>1.000000</td>\n",
       "      <td>-0.000367</td>\n",
       "      <td>...</td>\n",
       "      <td>-0.000830</td>\n",
       "      <td>-0.001229</td>\n",
       "      <td>0.009097</td>\n",
       "      <td>-0.004750</td>\n",
       "      <td>0.001098</td>\n",
       "      <td>0.001084</td>\n",
       "      <td>0.013175</td>\n",
       "      <td>-0.000047</td>\n",
       "      <td>0.010865</td>\n",
       "      <td>-0.004209</td>\n",
       "    </tr>\n",
       "    <tr>\n",
       "      <th>Bakery, Food Court</th>\n",
       "      <td>-0.002099</td>\n",
       "      <td>-0.002822</td>\n",
       "      <td>-0.009525</td>\n",
       "      <td>-0.002441</td>\n",
       "      <td>-0.001399</td>\n",
       "      <td>-0.000912</td>\n",
       "      <td>-0.000046</td>\n",
       "      <td>-0.000276</td>\n",
       "      <td>-0.000367</td>\n",
       "      <td>1.000000</td>\n",
       "      <td>...</td>\n",
       "      <td>-0.001277</td>\n",
       "      <td>-0.001304</td>\n",
       "      <td>0.021890</td>\n",
       "      <td>-0.001211</td>\n",
       "      <td>-0.000790</td>\n",
       "      <td>-0.001154</td>\n",
       "      <td>-0.000982</td>\n",
       "      <td>-0.001225</td>\n",
       "      <td>-0.001068</td>\n",
       "      <td>-0.001166</td>\n",
       "    </tr>\n",
       "    <tr>\n",
       "      <th>Bakery, Quick Bites</th>\n",
       "      <td>-0.018973</td>\n",
       "      <td>-0.030408</td>\n",
       "      <td>-0.050589</td>\n",
       "      <td>-0.023900</td>\n",
       "      <td>-0.031181</td>\n",
       "      <td>-0.009831</td>\n",
       "      <td>-0.000495</td>\n",
       "      <td>-0.002972</td>\n",
       "      <td>-0.003950</td>\n",
       "      <td>-0.000495</td>\n",
       "      <td>...</td>\n",
       "      <td>0.005350</td>\n",
       "      <td>0.008093</td>\n",
       "      <td>-0.011047</td>\n",
       "      <td>-0.003927</td>\n",
       "      <td>-0.000270</td>\n",
       "      <td>0.000937</td>\n",
       "      <td>-0.010580</td>\n",
       "      <td>0.004857</td>\n",
       "      <td>0.009053</td>\n",
       "      <td>-0.012566</td>\n",
       "    </tr>\n",
       "    <tr>\n",
       "      <th>Bar</th>\n",
       "      <td>-0.126148</td>\n",
       "      <td>0.075770</td>\n",
       "      <td>0.009394</td>\n",
       "      <td>0.014231</td>\n",
       "      <td>0.181681</td>\n",
       "      <td>-0.016572</td>\n",
       "      <td>-0.000834</td>\n",
       "      <td>-0.005010</td>\n",
       "      <td>-0.006658</td>\n",
       "      <td>-0.000834</td>\n",
       "      <td>...</td>\n",
       "      <td>0.012189</td>\n",
       "      <td>0.009988</td>\n",
       "      <td>-0.003253</td>\n",
       "      <td>-0.013256</td>\n",
       "      <td>-0.007768</td>\n",
       "      <td>0.004215</td>\n",
       "      <td>-0.005821</td>\n",
       "      <td>0.010200</td>\n",
       "      <td>-0.013240</td>\n",
       "      <td>-0.006449</td>\n",
       "    </tr>\n",
       "    <tr>\n",
       "      <th>Bar, Casual Dining</th>\n",
       "      <td>-0.065042</td>\n",
       "      <td>0.140345</td>\n",
       "      <td>0.090463</td>\n",
       "      <td>0.085429</td>\n",
       "      <td>0.163355</td>\n",
       "      <td>-0.013125</td>\n",
       "      <td>-0.000661</td>\n",
       "      <td>-0.003968</td>\n",
       "      <td>-0.005273</td>\n",
       "      <td>-0.000661</td>\n",
       "      <td>...</td>\n",
       "      <td>0.014298</td>\n",
       "      <td>0.020961</td>\n",
       "      <td>0.012588</td>\n",
       "      <td>-0.007817</td>\n",
       "      <td>-0.001032</td>\n",
       "      <td>0.029380</td>\n",
       "      <td>0.012691</td>\n",
       "      <td>0.013617</td>\n",
       "      <td>0.009381</td>\n",
       "      <td>-0.001123</td>\n",
       "    </tr>\n",
       "    <tr>\n",
       "      <th>Bar, Lounge</th>\n",
       "      <td>-0.015925</td>\n",
       "      <td>0.011654</td>\n",
       "      <td>0.010909</td>\n",
       "      <td>0.002261</td>\n",
       "      <td>0.047416</td>\n",
       "      <td>-0.001580</td>\n",
       "      <td>-0.000080</td>\n",
       "      <td>-0.000478</td>\n",
       "      <td>-0.000635</td>\n",
       "      <td>-0.000080</td>\n",
       "      <td>...</td>\n",
       "      <td>-0.002212</td>\n",
       "      <td>-0.002259</td>\n",
       "      <td>0.037917</td>\n",
       "      <td>-0.002098</td>\n",
       "      <td>-0.001369</td>\n",
       "      <td>-0.001999</td>\n",
       "      <td>-0.001701</td>\n",
       "      <td>-0.002122</td>\n",
       "      <td>-0.001850</td>\n",
       "      <td>0.033104</td>\n",
       "    </tr>\n",
       "    <tr>\n",
       "      <th>Bar, Pub</th>\n",
       "      <td>-0.014537</td>\n",
       "      <td>0.025739</td>\n",
       "      <td>0.022468</td>\n",
       "      <td>0.003804</td>\n",
       "      <td>0.005954</td>\n",
       "      <td>-0.001443</td>\n",
       "      <td>-0.000073</td>\n",
       "      <td>-0.000436</td>\n",
       "      <td>-0.000580</td>\n",
       "      <td>-0.000073</td>\n",
       "      <td>...</td>\n",
       "      <td>-0.002019</td>\n",
       "      <td>-0.002062</td>\n",
       "      <td>-0.001621</td>\n",
       "      <td>-0.001916</td>\n",
       "      <td>-0.001250</td>\n",
       "      <td>-0.001825</td>\n",
       "      <td>-0.001553</td>\n",
       "      <td>-0.001937</td>\n",
       "      <td>-0.001689</td>\n",
       "      <td>-0.001844</td>\n",
       "    </tr>\n",
       "    <tr>\n",
       "      <th>Bar, Quick Bites</th>\n",
       "      <td>0.010600</td>\n",
       "      <td>-0.005987</td>\n",
       "      <td>0.010005</td>\n",
       "      <td>0.014473</td>\n",
       "      <td>0.043988</td>\n",
       "      <td>-0.001936</td>\n",
       "      <td>-0.000097</td>\n",
       "      <td>-0.000585</td>\n",
       "      <td>-0.000778</td>\n",
       "      <td>-0.000097</td>\n",
       "      <td>...</td>\n",
       "      <td>-0.002709</td>\n",
       "      <td>-0.002767</td>\n",
       "      <td>-0.002175</td>\n",
       "      <td>-0.002570</td>\n",
       "      <td>-0.001677</td>\n",
       "      <td>-0.002448</td>\n",
       "      <td>-0.002083</td>\n",
       "      <td>-0.002599</td>\n",
       "      <td>-0.002266</td>\n",
       "      <td>-0.002474</td>\n",
       "    </tr>\n",
       "    <tr>\n",
       "      <th>Beverage Shop</th>\n",
       "      <td>0.044943</td>\n",
       "      <td>-0.053376</td>\n",
       "      <td>-0.020643</td>\n",
       "      <td>-0.043212</td>\n",
       "      <td>-0.100954</td>\n",
       "      <td>-0.017258</td>\n",
       "      <td>-0.000869</td>\n",
       "      <td>-0.005217</td>\n",
       "      <td>-0.006934</td>\n",
       "      <td>-0.000869</td>\n",
       "      <td>...</td>\n",
       "      <td>-0.009146</td>\n",
       "      <td>-0.010933</td>\n",
       "      <td>-0.009541</td>\n",
       "      <td>-0.006093</td>\n",
       "      <td>-0.010198</td>\n",
       "      <td>-0.006425</td>\n",
       "      <td>-0.009588</td>\n",
       "      <td>-0.006533</td>\n",
       "      <td>-0.000069</td>\n",
       "      <td>-0.004624</td>\n",
       "    </tr>\n",
       "    <tr>\n",
       "      <th>Beverage Shop, Cafe</th>\n",
       "      <td>0.018700</td>\n",
       "      <td>-0.010562</td>\n",
       "      <td>-0.005404</td>\n",
       "      <td>-0.008388</td>\n",
       "      <td>-0.006420</td>\n",
       "      <td>-0.003415</td>\n",
       "      <td>-0.000172</td>\n",
       "      <td>-0.001032</td>\n",
       "      <td>-0.001372</td>\n",
       "      <td>-0.000172</td>\n",
       "      <td>...</td>\n",
       "      <td>0.010156</td>\n",
       "      <td>0.009764</td>\n",
       "      <td>0.014542</td>\n",
       "      <td>-0.004534</td>\n",
       "      <td>-0.002958</td>\n",
       "      <td>-0.004320</td>\n",
       "      <td>0.015480</td>\n",
       "      <td>0.010939</td>\n",
       "      <td>0.013679</td>\n",
       "      <td>-0.004365</td>\n",
       "    </tr>\n",
       "    <tr>\n",
       "      <th>Beverage Shop, Dessert Parlor</th>\n",
       "      <td>0.020186</td>\n",
       "      <td>-0.017295</td>\n",
       "      <td>0.014680</td>\n",
       "      <td>-0.010171</td>\n",
       "      <td>-0.019004</td>\n",
       "      <td>-0.005592</td>\n",
       "      <td>-0.000282</td>\n",
       "      <td>-0.001691</td>\n",
       "      <td>-0.002247</td>\n",
       "      <td>-0.000282</td>\n",
       "      <td>...</td>\n",
       "      <td>-0.001740</td>\n",
       "      <td>-0.002025</td>\n",
       "      <td>0.004952</td>\n",
       "      <td>-0.004227</td>\n",
       "      <td>0.009601</td>\n",
       "      <td>-0.000380</td>\n",
       "      <td>0.001789</td>\n",
       "      <td>-0.001182</td>\n",
       "      <td>0.011464</td>\n",
       "      <td>-0.007147</td>\n",
       "    </tr>\n",
       "    <tr>\n",
       "      <th>Beverage Shop, Quick Bites</th>\n",
       "      <td>0.013272</td>\n",
       "      <td>-0.031192</td>\n",
       "      <td>0.008084</td>\n",
       "      <td>-0.020162</td>\n",
       "      <td>-0.051305</td>\n",
       "      <td>-0.010085</td>\n",
       "      <td>-0.000508</td>\n",
       "      <td>-0.003049</td>\n",
       "      <td>-0.004052</td>\n",
       "      <td>-0.000508</td>\n",
       "      <td>...</td>\n",
       "      <td>-0.005646</td>\n",
       "      <td>-0.006111</td>\n",
       "      <td>-0.002993</td>\n",
       "      <td>0.011528</td>\n",
       "      <td>0.001985</td>\n",
       "      <td>-0.001579</td>\n",
       "      <td>-0.004335</td>\n",
       "      <td>-0.004738</td>\n",
       "      <td>-0.001780</td>\n",
       "      <td>0.000023</td>\n",
       "    </tr>\n",
       "    <tr>\n",
       "      <th>Bhojanalya</th>\n",
       "      <td>0.006119</td>\n",
       "      <td>-0.003456</td>\n",
       "      <td>-0.008436</td>\n",
       "      <td>-0.003152</td>\n",
       "      <td>-0.005328</td>\n",
       "      <td>-0.001117</td>\n",
       "      <td>-0.000056</td>\n",
       "      <td>-0.000338</td>\n",
       "      <td>-0.000449</td>\n",
       "      <td>-0.000056</td>\n",
       "      <td>...</td>\n",
       "      <td>-0.001564</td>\n",
       "      <td>-0.001597</td>\n",
       "      <td>-0.001256</td>\n",
       "      <td>-0.001484</td>\n",
       "      <td>-0.000968</td>\n",
       "      <td>-0.001414</td>\n",
       "      <td>-0.001203</td>\n",
       "      <td>-0.001501</td>\n",
       "      <td>-0.001308</td>\n",
       "      <td>0.031686</td>\n",
       "    </tr>\n",
       "    <tr>\n",
       "      <th>Cafe</th>\n",
       "      <td>-0.006516</td>\n",
       "      <td>0.008871</td>\n",
       "      <td>0.097378</td>\n",
       "      <td>0.026532</td>\n",
       "      <td>0.021509</td>\n",
       "      <td>-0.039744</td>\n",
       "      <td>-0.002001</td>\n",
       "      <td>-0.012016</td>\n",
       "      <td>-0.015968</td>\n",
       "      <td>-0.002001</td>\n",
       "      <td>...</td>\n",
       "      <td>0.006644</td>\n",
       "      <td>0.003794</td>\n",
       "      <td>-0.008059</td>\n",
       "      <td>-0.027382</td>\n",
       "      <td>0.006746</td>\n",
       "      <td>-0.009392</td>\n",
       "      <td>-0.023102</td>\n",
       "      <td>0.006529</td>\n",
       "      <td>-0.017923</td>\n",
       "      <td>-0.024990</td>\n",
       "    </tr>\n",
       "    <tr>\n",
       "      <th>Cafe, Bakery</th>\n",
       "      <td>-0.004652</td>\n",
       "      <td>0.002720</td>\n",
       "      <td>0.033403</td>\n",
       "      <td>-0.006663</td>\n",
       "      <td>0.000785</td>\n",
       "      <td>-0.007808</td>\n",
       "      <td>-0.000393</td>\n",
       "      <td>-0.002361</td>\n",
       "      <td>-0.003137</td>\n",
       "      <td>-0.000393</td>\n",
       "      <td>...</td>\n",
       "      <td>0.013086</td>\n",
       "      <td>0.012387</td>\n",
       "      <td>-0.000715</td>\n",
       "      <td>-0.003487</td>\n",
       "      <td>0.003598</td>\n",
       "      <td>0.006928</td>\n",
       "      <td>-0.005603</td>\n",
       "      <td>0.014477</td>\n",
       "      <td>-0.009140</td>\n",
       "      <td>-0.009980</td>\n",
       "    </tr>\n",
       "    <tr>\n",
       "      <th>Cafe, Bar</th>\n",
       "      <td>0.015403</td>\n",
       "      <td>0.050182</td>\n",
       "      <td>0.019416</td>\n",
       "      <td>0.001628</td>\n",
       "      <td>0.027529</td>\n",
       "      <td>-0.002813</td>\n",
       "      <td>-0.000142</td>\n",
       "      <td>-0.000850</td>\n",
       "      <td>-0.001130</td>\n",
       "      <td>-0.000142</td>\n",
       "      <td>...</td>\n",
       "      <td>-0.003937</td>\n",
       "      <td>-0.004021</td>\n",
       "      <td>-0.003161</td>\n",
       "      <td>-0.003735</td>\n",
       "      <td>-0.002436</td>\n",
       "      <td>-0.003558</td>\n",
       "      <td>-0.003027</td>\n",
       "      <td>-0.003777</td>\n",
       "      <td>-0.003292</td>\n",
       "      <td>-0.003595</td>\n",
       "    </tr>\n",
       "    <tr>\n",
       "      <th>Cafe, Casual Dining</th>\n",
       "      <td>-0.013824</td>\n",
       "      <td>-0.001605</td>\n",
       "      <td>0.050595</td>\n",
       "      <td>0.118244</td>\n",
       "      <td>0.030321</td>\n",
       "      <td>-0.008502</td>\n",
       "      <td>-0.000428</td>\n",
       "      <td>-0.002570</td>\n",
       "      <td>-0.003416</td>\n",
       "      <td>-0.000428</td>\n",
       "      <td>...</td>\n",
       "      <td>0.002143</td>\n",
       "      <td>0.009486</td>\n",
       "      <td>-0.009554</td>\n",
       "      <td>-0.011289</td>\n",
       "      <td>0.014852</td>\n",
       "      <td>0.004688</td>\n",
       "      <td>-0.009150</td>\n",
       "      <td>0.003180</td>\n",
       "      <td>-0.007578</td>\n",
       "      <td>-0.010867</td>\n",
       "    </tr>\n",
       "    <tr>\n",
       "      <th>Cafe, Dessert Parlor</th>\n",
       "      <td>-0.018084</td>\n",
       "      <td>-0.008748</td>\n",
       "      <td>0.059068</td>\n",
       "      <td>0.002410</td>\n",
       "      <td>0.008735</td>\n",
       "      <td>-0.007862</td>\n",
       "      <td>-0.000396</td>\n",
       "      <td>-0.002377</td>\n",
       "      <td>-0.003159</td>\n",
       "      <td>-0.000396</td>\n",
       "      <td>...</td>\n",
       "      <td>0.004175</td>\n",
       "      <td>0.003645</td>\n",
       "      <td>0.009844</td>\n",
       "      <td>-0.008160</td>\n",
       "      <td>-0.006809</td>\n",
       "      <td>0.013900</td>\n",
       "      <td>-0.000117</td>\n",
       "      <td>0.005221</td>\n",
       "      <td>-0.001504</td>\n",
       "      <td>0.006480</td>\n",
       "    </tr>\n",
       "    <tr>\n",
       "      <th>Cafe, Food Court</th>\n",
       "      <td>-0.009194</td>\n",
       "      <td>-0.002822</td>\n",
       "      <td>0.003134</td>\n",
       "      <td>-0.002323</td>\n",
       "      <td>0.001552</td>\n",
       "      <td>-0.000912</td>\n",
       "      <td>-0.000046</td>\n",
       "      <td>-0.000276</td>\n",
       "      <td>-0.000367</td>\n",
       "      <td>-0.000046</td>\n",
       "      <td>...</td>\n",
       "      <td>-0.001277</td>\n",
       "      <td>-0.001304</td>\n",
       "      <td>-0.001025</td>\n",
       "      <td>-0.001211</td>\n",
       "      <td>-0.000790</td>\n",
       "      <td>-0.001154</td>\n",
       "      <td>-0.000982</td>\n",
       "      <td>-0.001225</td>\n",
       "      <td>-0.001068</td>\n",
       "      <td>-0.001166</td>\n",
       "    </tr>\n",
       "    <tr>\n",
       "      <th>Cafe, Lounge</th>\n",
       "      <td>-0.025182</td>\n",
       "      <td>0.044586</td>\n",
       "      <td>0.030253</td>\n",
       "      <td>0.000818</td>\n",
       "      <td>0.016376</td>\n",
       "      <td>-0.002499</td>\n",
       "      <td>-0.000126</td>\n",
       "      <td>-0.000756</td>\n",
       "      <td>-0.001004</td>\n",
       "      <td>-0.000126</td>\n",
       "      <td>...</td>\n",
       "      <td>-0.003498</td>\n",
       "      <td>-0.003573</td>\n",
       "      <td>-0.002808</td>\n",
       "      <td>-0.003318</td>\n",
       "      <td>-0.002165</td>\n",
       "      <td>-0.003161</td>\n",
       "      <td>-0.002689</td>\n",
       "      <td>-0.003356</td>\n",
       "      <td>-0.002925</td>\n",
       "      <td>-0.003194</td>\n",
       "    </tr>\n",
       "    <tr>\n",
       "      <th>Cafe, Quick Bites</th>\n",
       "      <td>-0.010455</td>\n",
       "      <td>-0.011293</td>\n",
       "      <td>0.004593</td>\n",
       "      <td>-0.010392</td>\n",
       "      <td>-0.004159</td>\n",
       "      <td>-0.006328</td>\n",
       "      <td>-0.000319</td>\n",
       "      <td>-0.001913</td>\n",
       "      <td>-0.002542</td>\n",
       "      <td>-0.000319</td>\n",
       "      <td>...</td>\n",
       "      <td>0.001906</td>\n",
       "      <td>0.001508</td>\n",
       "      <td>-0.003800</td>\n",
       "      <td>0.002906</td>\n",
       "      <td>-0.005481</td>\n",
       "      <td>0.000872</td>\n",
       "      <td>-0.003359</td>\n",
       "      <td>0.002690</td>\n",
       "      <td>-0.001038</td>\n",
       "      <td>-0.008088</td>\n",
       "    </tr>\n",
       "    <tr>\n",
       "      <th>Casual Dining</th>\n",
       "      <td>0.060710</td>\n",
       "      <td>0.177444</td>\n",
       "      <td>0.047837</td>\n",
       "      <td>0.077788</td>\n",
       "      <td>0.238989</td>\n",
       "      <td>-0.072932</td>\n",
       "      <td>-0.003672</td>\n",
       "      <td>-0.022049</td>\n",
       "      <td>-0.029302</td>\n",
       "      <td>-0.003672</td>\n",
       "      <td>...</td>\n",
       "      <td>0.019653</td>\n",
       "      <td>0.008318</td>\n",
       "      <td>0.008153</td>\n",
       "      <td>0.010169</td>\n",
       "      <td>-0.006920</td>\n",
       "      <td>-0.006767</td>\n",
       "      <td>-0.007376</td>\n",
       "      <td>0.015760</td>\n",
       "      <td>-0.000497</td>\n",
       "      <td>-0.005937</td>\n",
       "    </tr>\n",
       "    <tr>\n",
       "      <th>...</th>\n",
       "      <td>...</td>\n",
       "      <td>...</td>\n",
       "      <td>...</td>\n",
       "      <td>...</td>\n",
       "      <td>...</td>\n",
       "      <td>...</td>\n",
       "      <td>...</td>\n",
       "      <td>...</td>\n",
       "      <td>...</td>\n",
       "      <td>...</td>\n",
       "      <td>...</td>\n",
       "      <td>...</td>\n",
       "      <td>...</td>\n",
       "      <td>...</td>\n",
       "      <td>...</td>\n",
       "      <td>...</td>\n",
       "      <td>...</td>\n",
       "      <td>...</td>\n",
       "      <td>...</td>\n",
       "      <td>...</td>\n",
       "      <td>...</td>\n",
       "    </tr>\n",
       "    <tr>\n",
       "      <th>BTM</th>\n",
       "      <td>0.032925</td>\n",
       "      <td>-0.006999</td>\n",
       "      <td>0.003839</td>\n",
       "      <td>0.006600</td>\n",
       "      <td>-0.039254</td>\n",
       "      <td>-0.005758</td>\n",
       "      <td>0.012153</td>\n",
       "      <td>-0.008261</td>\n",
       "      <td>-0.005319</td>\n",
       "      <td>-0.001762</td>\n",
       "      <td>...</td>\n",
       "      <td>-0.048993</td>\n",
       "      <td>-0.050036</td>\n",
       "      <td>-0.039329</td>\n",
       "      <td>-0.046473</td>\n",
       "      <td>-0.030315</td>\n",
       "      <td>-0.044275</td>\n",
       "      <td>-0.037666</td>\n",
       "      <td>-0.047004</td>\n",
       "      <td>-0.040971</td>\n",
       "      <td>-0.044736</td>\n",
       "    </tr>\n",
       "    <tr>\n",
       "      <th>Banashankari</th>\n",
       "      <td>0.011476</td>\n",
       "      <td>-0.034649</td>\n",
       "      <td>-0.010438</td>\n",
       "      <td>-0.021220</td>\n",
       "      <td>-0.051708</td>\n",
       "      <td>0.003075</td>\n",
       "      <td>-0.000908</td>\n",
       "      <td>-0.005453</td>\n",
       "      <td>-0.000777</td>\n",
       "      <td>-0.000908</td>\n",
       "      <td>...</td>\n",
       "      <td>-0.025250</td>\n",
       "      <td>-0.025787</td>\n",
       "      <td>-0.020269</td>\n",
       "      <td>-0.023951</td>\n",
       "      <td>-0.015624</td>\n",
       "      <td>-0.022818</td>\n",
       "      <td>-0.019412</td>\n",
       "      <td>-0.024224</td>\n",
       "      <td>-0.021115</td>\n",
       "      <td>-0.023056</td>\n",
       "    </tr>\n",
       "    <tr>\n",
       "      <th>Bannerghatta Road</th>\n",
       "      <td>0.018815</td>\n",
       "      <td>-0.029633</td>\n",
       "      <td>-0.053730</td>\n",
       "      <td>-0.030812</td>\n",
       "      <td>-0.045156</td>\n",
       "      <td>-0.005631</td>\n",
       "      <td>-0.001200</td>\n",
       "      <td>-0.007207</td>\n",
       "      <td>-0.009578</td>\n",
       "      <td>-0.001200</td>\n",
       "      <td>...</td>\n",
       "      <td>-0.033370</td>\n",
       "      <td>-0.034081</td>\n",
       "      <td>-0.026788</td>\n",
       "      <td>-0.031654</td>\n",
       "      <td>-0.020649</td>\n",
       "      <td>-0.030156</td>\n",
       "      <td>-0.025655</td>\n",
       "      <td>-0.032015</td>\n",
       "      <td>-0.027906</td>\n",
       "      <td>-0.030471</td>\n",
       "    </tr>\n",
       "    <tr>\n",
       "      <th>Basavanagudi</th>\n",
       "      <td>0.006143</td>\n",
       "      <td>-0.018415</td>\n",
       "      <td>0.001914</td>\n",
       "      <td>-0.016545</td>\n",
       "      <td>-0.048391</td>\n",
       "      <td>0.006210</td>\n",
       "      <td>-0.001111</td>\n",
       "      <td>-0.006673</td>\n",
       "      <td>-0.008869</td>\n",
       "      <td>-0.001111</td>\n",
       "      <td>...</td>\n",
       "      <td>-0.030897</td>\n",
       "      <td>-0.031556</td>\n",
       "      <td>-0.024803</td>\n",
       "      <td>-0.029308</td>\n",
       "      <td>-0.019119</td>\n",
       "      <td>-0.027922</td>\n",
       "      <td>-0.023754</td>\n",
       "      <td>-0.029643</td>\n",
       "      <td>-0.025839</td>\n",
       "      <td>-0.028213</td>\n",
       "    </tr>\n",
       "    <tr>\n",
       "      <th>Bellandur</th>\n",
       "      <td>0.025840</td>\n",
       "      <td>-0.006464</td>\n",
       "      <td>-0.024652</td>\n",
       "      <td>0.001960</td>\n",
       "      <td>-0.004792</td>\n",
       "      <td>0.020192</td>\n",
       "      <td>-0.001055</td>\n",
       "      <td>-0.006335</td>\n",
       "      <td>0.011197</td>\n",
       "      <td>0.021243</td>\n",
       "      <td>...</td>\n",
       "      <td>-0.029331</td>\n",
       "      <td>-0.029956</td>\n",
       "      <td>-0.023546</td>\n",
       "      <td>-0.027822</td>\n",
       "      <td>-0.018149</td>\n",
       "      <td>-0.026506</td>\n",
       "      <td>-0.022550</td>\n",
       "      <td>-0.028140</td>\n",
       "      <td>-0.024529</td>\n",
       "      <td>-0.026783</td>\n",
       "    </tr>\n",
       "    <tr>\n",
       "      <th>Brigade Road</th>\n",
       "      <td>-0.041383</td>\n",
       "      <td>0.043110</td>\n",
       "      <td>0.042740</td>\n",
       "      <td>0.019398</td>\n",
       "      <td>0.096888</td>\n",
       "      <td>-0.004102</td>\n",
       "      <td>-0.001296</td>\n",
       "      <td>0.010593</td>\n",
       "      <td>0.003501</td>\n",
       "      <td>-0.001296</td>\n",
       "      <td>...</td>\n",
       "      <td>-0.036045</td>\n",
       "      <td>-0.036813</td>\n",
       "      <td>-0.028936</td>\n",
       "      <td>-0.034191</td>\n",
       "      <td>-0.022304</td>\n",
       "      <td>-0.032574</td>\n",
       "      <td>-0.027712</td>\n",
       "      <td>-0.034582</td>\n",
       "      <td>-0.030144</td>\n",
       "      <td>-0.032914</td>\n",
       "    </tr>\n",
       "    <tr>\n",
       "      <th>Brookefield</th>\n",
       "      <td>0.019713</td>\n",
       "      <td>-0.023568</td>\n",
       "      <td>-0.049343</td>\n",
       "      <td>-0.023556</td>\n",
       "      <td>-0.016195</td>\n",
       "      <td>0.002842</td>\n",
       "      <td>-0.001166</td>\n",
       "      <td>0.009919</td>\n",
       "      <td>-0.001654</td>\n",
       "      <td>-0.001166</td>\n",
       "      <td>...</td>\n",
       "      <td>-0.032409</td>\n",
       "      <td>-0.033100</td>\n",
       "      <td>-0.026017</td>\n",
       "      <td>-0.030742</td>\n",
       "      <td>-0.020054</td>\n",
       "      <td>-0.029288</td>\n",
       "      <td>-0.024916</td>\n",
       "      <td>-0.031093</td>\n",
       "      <td>-0.027103</td>\n",
       "      <td>-0.029594</td>\n",
       "    </tr>\n",
       "    <tr>\n",
       "      <th>Church Street</th>\n",
       "      <td>-0.051511</td>\n",
       "      <td>0.045101</td>\n",
       "      <td>0.043873</td>\n",
       "      <td>0.022751</td>\n",
       "      <td>0.101242</td>\n",
       "      <td>-0.002838</td>\n",
       "      <td>-0.001313</td>\n",
       "      <td>0.010271</td>\n",
       "      <td>-0.001361</td>\n",
       "      <td>-0.001313</td>\n",
       "      <td>...</td>\n",
       "      <td>-0.036517</td>\n",
       "      <td>-0.037295</td>\n",
       "      <td>-0.029314</td>\n",
       "      <td>-0.034639</td>\n",
       "      <td>-0.022596</td>\n",
       "      <td>-0.033000</td>\n",
       "      <td>-0.028074</td>\n",
       "      <td>-0.035034</td>\n",
       "      <td>-0.030538</td>\n",
       "      <td>-0.033344</td>\n",
       "    </tr>\n",
       "    <tr>\n",
       "      <th>Electronic City</th>\n",
       "      <td>-0.027468</td>\n",
       "      <td>-0.019096</td>\n",
       "      <td>-0.062203</td>\n",
       "      <td>-0.037371</td>\n",
       "      <td>-0.017760</td>\n",
       "      <td>0.002711</td>\n",
       "      <td>-0.001007</td>\n",
       "      <td>-0.006045</td>\n",
       "      <td>-0.008034</td>\n",
       "      <td>-0.001007</td>\n",
       "      <td>...</td>\n",
       "      <td>-0.027991</td>\n",
       "      <td>-0.028587</td>\n",
       "      <td>-0.022470</td>\n",
       "      <td>-0.026551</td>\n",
       "      <td>-0.017320</td>\n",
       "      <td>-0.025295</td>\n",
       "      <td>-0.021519</td>\n",
       "      <td>-0.026854</td>\n",
       "      <td>-0.023408</td>\n",
       "      <td>-0.025559</td>\n",
       "    </tr>\n",
       "    <tr>\n",
       "      <th>Frazer Town</th>\n",
       "      <td>0.004394</td>\n",
       "      <td>-0.007679</td>\n",
       "      <td>0.004681</td>\n",
       "      <td>-0.008774</td>\n",
       "      <td>0.001750</td>\n",
       "      <td>0.017832</td>\n",
       "      <td>-0.001035</td>\n",
       "      <td>0.008928</td>\n",
       "      <td>-0.005410</td>\n",
       "      <td>-0.001035</td>\n",
       "      <td>...</td>\n",
       "      <td>-0.028787</td>\n",
       "      <td>-0.029400</td>\n",
       "      <td>-0.023109</td>\n",
       "      <td>-0.027306</td>\n",
       "      <td>-0.017812</td>\n",
       "      <td>-0.026014</td>\n",
       "      <td>-0.022131</td>\n",
       "      <td>-0.027618</td>\n",
       "      <td>-0.024073</td>\n",
       "      <td>-0.026286</td>\n",
       "    </tr>\n",
       "    <tr>\n",
       "      <th>HSR</th>\n",
       "      <td>0.041016</td>\n",
       "      <td>-0.012463</td>\n",
       "      <td>-0.015148</td>\n",
       "      <td>-0.015850</td>\n",
       "      <td>-0.031370</td>\n",
       "      <td>0.005120</td>\n",
       "      <td>-0.001256</td>\n",
       "      <td>0.001927</td>\n",
       "      <td>0.006622</td>\n",
       "      <td>-0.001256</td>\n",
       "      <td>...</td>\n",
       "      <td>-0.034912</td>\n",
       "      <td>-0.035655</td>\n",
       "      <td>-0.028026</td>\n",
       "      <td>-0.033116</td>\n",
       "      <td>-0.021602</td>\n",
       "      <td>-0.031550</td>\n",
       "      <td>-0.026840</td>\n",
       "      <td>-0.033494</td>\n",
       "      <td>-0.029196</td>\n",
       "      <td>-0.031879</td>\n",
       "    </tr>\n",
       "    <tr>\n",
       "      <th>Indiranagar</th>\n",
       "      <td>-0.016477</td>\n",
       "      <td>0.030508</td>\n",
       "      <td>0.020118</td>\n",
       "      <td>0.030148</td>\n",
       "      <td>0.043175</td>\n",
       "      <td>0.004091</td>\n",
       "      <td>-0.001348</td>\n",
       "      <td>0.015540</td>\n",
       "      <td>0.002597</td>\n",
       "      <td>-0.001348</td>\n",
       "      <td>...</td>\n",
       "      <td>-0.037480</td>\n",
       "      <td>-0.038278</td>\n",
       "      <td>-0.030087</td>\n",
       "      <td>-0.035552</td>\n",
       "      <td>-0.023191</td>\n",
       "      <td>-0.033870</td>\n",
       "      <td>-0.028814</td>\n",
       "      <td>-0.035958</td>\n",
       "      <td>-0.031343</td>\n",
       "      <td>-0.034224</td>\n",
       "    </tr>\n",
       "    <tr>\n",
       "      <th>JP Nagar</th>\n",
       "      <td>0.024983</td>\n",
       "      <td>-0.023226</td>\n",
       "      <td>-0.031347</td>\n",
       "      <td>-0.026522</td>\n",
       "      <td>-0.050893</td>\n",
       "      <td>-0.004770</td>\n",
       "      <td>-0.001393</td>\n",
       "      <td>-0.008365</td>\n",
       "      <td>-0.006798</td>\n",
       "      <td>-0.001393</td>\n",
       "      <td>...</td>\n",
       "      <td>-0.038732</td>\n",
       "      <td>-0.039557</td>\n",
       "      <td>-0.031092</td>\n",
       "      <td>-0.036740</td>\n",
       "      <td>-0.023966</td>\n",
       "      <td>-0.035002</td>\n",
       "      <td>-0.029777</td>\n",
       "      <td>-0.037159</td>\n",
       "      <td>-0.032390</td>\n",
       "      <td>-0.035367</td>\n",
       "    </tr>\n",
       "    <tr>\n",
       "      <th>Jayanagar</th>\n",
       "      <td>0.038422</td>\n",
       "      <td>-0.017032</td>\n",
       "      <td>-0.003321</td>\n",
       "      <td>-0.015867</td>\n",
       "      <td>-0.051676</td>\n",
       "      <td>-0.006265</td>\n",
       "      <td>-0.001486</td>\n",
       "      <td>-0.008923</td>\n",
       "      <td>-0.007787</td>\n",
       "      <td>-0.001486</td>\n",
       "      <td>...</td>\n",
       "      <td>-0.041314</td>\n",
       "      <td>-0.042194</td>\n",
       "      <td>-0.033165</td>\n",
       "      <td>-0.039189</td>\n",
       "      <td>-0.025564</td>\n",
       "      <td>-0.037335</td>\n",
       "      <td>-0.031762</td>\n",
       "      <td>-0.039636</td>\n",
       "      <td>-0.034549</td>\n",
       "      <td>-0.037724</td>\n",
       "    </tr>\n",
       "    <tr>\n",
       "      <th>Kalyan Nagar</th>\n",
       "      <td>0.010486</td>\n",
       "      <td>-0.016086</td>\n",
       "      <td>-0.017965</td>\n",
       "      <td>-0.031263</td>\n",
       "      <td>-0.025705</td>\n",
       "      <td>-0.000111</td>\n",
       "      <td>-0.001077</td>\n",
       "      <td>-0.006469</td>\n",
       "      <td>0.005138</td>\n",
       "      <td>-0.001077</td>\n",
       "      <td>...</td>\n",
       "      <td>-0.029952</td>\n",
       "      <td>-0.030590</td>\n",
       "      <td>-0.024044</td>\n",
       "      <td>-0.028411</td>\n",
       "      <td>-0.018534</td>\n",
       "      <td>-0.027068</td>\n",
       "      <td>-0.023027</td>\n",
       "      <td>-0.028736</td>\n",
       "      <td>-0.025048</td>\n",
       "      <td>-0.027350</td>\n",
       "    </tr>\n",
       "    <tr>\n",
       "      <th>Kammanahalli</th>\n",
       "      <td>0.007476</td>\n",
       "      <td>-0.020834</td>\n",
       "      <td>-0.021941</td>\n",
       "      <td>-0.031695</td>\n",
       "      <td>-0.027711</td>\n",
       "      <td>0.011219</td>\n",
       "      <td>-0.001075</td>\n",
       "      <td>-0.002799</td>\n",
       "      <td>0.005189</td>\n",
       "      <td>-0.001075</td>\n",
       "      <td>...</td>\n",
       "      <td>-0.029880</td>\n",
       "      <td>-0.030517</td>\n",
       "      <td>-0.023987</td>\n",
       "      <td>-0.028344</td>\n",
       "      <td>-0.018489</td>\n",
       "      <td>-0.027003</td>\n",
       "      <td>-0.022972</td>\n",
       "      <td>-0.028667</td>\n",
       "      <td>-0.024988</td>\n",
       "      <td>-0.027285</td>\n",
       "    </tr>\n",
       "    <tr>\n",
       "      <th>Koramangala 4th Block</th>\n",
       "      <td>0.026336</td>\n",
       "      <td>0.005211</td>\n",
       "      <td>0.031341</td>\n",
       "      <td>0.022748</td>\n",
       "      <td>-0.017070</td>\n",
       "      <td>-0.006836</td>\n",
       "      <td>-0.001620</td>\n",
       "      <td>-0.007230</td>\n",
       "      <td>0.005902</td>\n",
       "      <td>-0.001620</td>\n",
       "      <td>...</td>\n",
       "      <td>-0.045049</td>\n",
       "      <td>-0.046008</td>\n",
       "      <td>-0.036163</td>\n",
       "      <td>-0.042731</td>\n",
       "      <td>-0.027875</td>\n",
       "      <td>-0.040710</td>\n",
       "      <td>-0.034633</td>\n",
       "      <td>-0.043220</td>\n",
       "      <td>-0.037673</td>\n",
       "      <td>-0.041135</td>\n",
       "    </tr>\n",
       "    <tr>\n",
       "      <th>Koramangala 5th Block</th>\n",
       "      <td>0.018405</td>\n",
       "      <td>0.003079</td>\n",
       "      <td>0.031412</td>\n",
       "      <td>0.027292</td>\n",
       "      <td>-0.018524</td>\n",
       "      <td>-0.007117</td>\n",
       "      <td>-0.001629</td>\n",
       "      <td>-0.009780</td>\n",
       "      <td>-0.001749</td>\n",
       "      <td>-0.001629</td>\n",
       "      <td>...</td>\n",
       "      <td>-0.045281</td>\n",
       "      <td>-0.046245</td>\n",
       "      <td>-0.036350</td>\n",
       "      <td>-0.042952</td>\n",
       "      <td>-0.028019</td>\n",
       "      <td>-0.040920</td>\n",
       "      <td>-0.034812</td>\n",
       "      <td>-0.043442</td>\n",
       "      <td>-0.037867</td>\n",
       "      <td>-0.041347</td>\n",
       "    </tr>\n",
       "    <tr>\n",
       "      <th>Koramangala 6th Block</th>\n",
       "      <td>0.016344</td>\n",
       "      <td>-0.000839</td>\n",
       "      <td>0.031673</td>\n",
       "      <td>0.025621</td>\n",
       "      <td>-0.022281</td>\n",
       "      <td>-0.004001</td>\n",
       "      <td>-0.001583</td>\n",
       "      <td>-0.009507</td>\n",
       "      <td>0.002746</td>\n",
       "      <td>-0.001583</td>\n",
       "      <td>...</td>\n",
       "      <td>-0.044018</td>\n",
       "      <td>-0.044955</td>\n",
       "      <td>-0.035336</td>\n",
       "      <td>-0.041754</td>\n",
       "      <td>-0.027237</td>\n",
       "      <td>-0.039779</td>\n",
       "      <td>-0.033841</td>\n",
       "      <td>-0.042231</td>\n",
       "      <td>-0.036811</td>\n",
       "      <td>-0.040194</td>\n",
       "    </tr>\n",
       "    <tr>\n",
       "      <th>Koramangala 7th Block</th>\n",
       "      <td>0.011310</td>\n",
       "      <td>0.004005</td>\n",
       "      <td>0.031396</td>\n",
       "      <td>0.025971</td>\n",
       "      <td>-0.021371</td>\n",
       "      <td>-0.006041</td>\n",
       "      <td>-0.001664</td>\n",
       "      <td>-0.009991</td>\n",
       "      <td>-0.002242</td>\n",
       "      <td>-0.001664</td>\n",
       "      <td>...</td>\n",
       "      <td>-0.046260</td>\n",
       "      <td>-0.047245</td>\n",
       "      <td>-0.037136</td>\n",
       "      <td>-0.043880</td>\n",
       "      <td>-0.028624</td>\n",
       "      <td>-0.041805</td>\n",
       "      <td>-0.035565</td>\n",
       "      <td>-0.044382</td>\n",
       "      <td>-0.038686</td>\n",
       "      <td>-0.042241</td>\n",
       "    </tr>\n",
       "    <tr>\n",
       "      <th>Lavelle Road</th>\n",
       "      <td>-0.067464</td>\n",
       "      <td>0.038205</td>\n",
       "      <td>0.031398</td>\n",
       "      <td>0.012159</td>\n",
       "      <td>0.092794</td>\n",
       "      <td>-0.006276</td>\n",
       "      <td>-0.001277</td>\n",
       "      <td>0.010969</td>\n",
       "      <td>-0.000830</td>\n",
       "      <td>-0.001277</td>\n",
       "      <td>...</td>\n",
       "      <td>1.000000</td>\n",
       "      <td>-0.036264</td>\n",
       "      <td>-0.028504</td>\n",
       "      <td>-0.033681</td>\n",
       "      <td>-0.021971</td>\n",
       "      <td>-0.032088</td>\n",
       "      <td>-0.027298</td>\n",
       "      <td>-0.034066</td>\n",
       "      <td>-0.029693</td>\n",
       "      <td>-0.032422</td>\n",
       "    </tr>\n",
       "    <tr>\n",
       "      <th>MG Road</th>\n",
       "      <td>-0.048837</td>\n",
       "      <td>0.044732</td>\n",
       "      <td>0.042888</td>\n",
       "      <td>0.028647</td>\n",
       "      <td>0.096226</td>\n",
       "      <td>0.002173</td>\n",
       "      <td>-0.001304</td>\n",
       "      <td>0.013489</td>\n",
       "      <td>-0.001229</td>\n",
       "      <td>-0.001304</td>\n",
       "      <td>...</td>\n",
       "      <td>-0.036264</td>\n",
       "      <td>1.000000</td>\n",
       "      <td>-0.029111</td>\n",
       "      <td>-0.034398</td>\n",
       "      <td>-0.022439</td>\n",
       "      <td>-0.032771</td>\n",
       "      <td>-0.027880</td>\n",
       "      <td>-0.034791</td>\n",
       "      <td>-0.030326</td>\n",
       "      <td>-0.033113</td>\n",
       "    </tr>\n",
       "    <tr>\n",
       "      <th>Malleshwaram</th>\n",
       "      <td>-0.000341</td>\n",
       "      <td>-0.008711</td>\n",
       "      <td>0.004840</td>\n",
       "      <td>-0.011359</td>\n",
       "      <td>0.004387</td>\n",
       "      <td>-0.003919</td>\n",
       "      <td>-0.001025</td>\n",
       "      <td>-0.002334</td>\n",
       "      <td>0.009097</td>\n",
       "      <td>0.021890</td>\n",
       "      <td>...</td>\n",
       "      <td>-0.028504</td>\n",
       "      <td>-0.029111</td>\n",
       "      <td>1.000000</td>\n",
       "      <td>-0.027038</td>\n",
       "      <td>-0.017637</td>\n",
       "      <td>-0.025759</td>\n",
       "      <td>-0.021914</td>\n",
       "      <td>-0.027347</td>\n",
       "      <td>-0.023837</td>\n",
       "      <td>-0.026027</td>\n",
       "    </tr>\n",
       "    <tr>\n",
       "      <th>Marathahalli</th>\n",
       "      <td>0.000177</td>\n",
       "      <td>-0.017249</td>\n",
       "      <td>-0.057930</td>\n",
       "      <td>-0.013446</td>\n",
       "      <td>-0.024452</td>\n",
       "      <td>-0.000996</td>\n",
       "      <td>-0.001211</td>\n",
       "      <td>-0.004011</td>\n",
       "      <td>-0.004750</td>\n",
       "      <td>-0.001211</td>\n",
       "      <td>...</td>\n",
       "      <td>-0.033681</td>\n",
       "      <td>-0.034398</td>\n",
       "      <td>-0.027038</td>\n",
       "      <td>1.000000</td>\n",
       "      <td>-0.020841</td>\n",
       "      <td>-0.030437</td>\n",
       "      <td>-0.025894</td>\n",
       "      <td>-0.032313</td>\n",
       "      <td>-0.028166</td>\n",
       "      <td>-0.030755</td>\n",
       "    </tr>\n",
       "    <tr>\n",
       "      <th>New BEL Road</th>\n",
       "      <td>-0.000991</td>\n",
       "      <td>-0.020415</td>\n",
       "      <td>-0.017392</td>\n",
       "      <td>-0.010681</td>\n",
       "      <td>-0.024697</td>\n",
       "      <td>-0.002106</td>\n",
       "      <td>-0.000790</td>\n",
       "      <td>0.000168</td>\n",
       "      <td>0.001098</td>\n",
       "      <td>-0.000790</td>\n",
       "      <td>...</td>\n",
       "      <td>-0.021971</td>\n",
       "      <td>-0.022439</td>\n",
       "      <td>-0.017637</td>\n",
       "      <td>-0.020841</td>\n",
       "      <td>1.000000</td>\n",
       "      <td>-0.019855</td>\n",
       "      <td>-0.016891</td>\n",
       "      <td>-0.021079</td>\n",
       "      <td>-0.018374</td>\n",
       "      <td>-0.020062</td>\n",
       "    </tr>\n",
       "    <tr>\n",
       "      <th>Old Airport Road</th>\n",
       "      <td>-0.008126</td>\n",
       "      <td>0.019053</td>\n",
       "      <td>0.008587</td>\n",
       "      <td>0.025923</td>\n",
       "      <td>0.021546</td>\n",
       "      <td>0.002267</td>\n",
       "      <td>0.019324</td>\n",
       "      <td>0.013564</td>\n",
       "      <td>0.001084</td>\n",
       "      <td>-0.001154</td>\n",
       "      <td>...</td>\n",
       "      <td>-0.032088</td>\n",
       "      <td>-0.032771</td>\n",
       "      <td>-0.025759</td>\n",
       "      <td>-0.030437</td>\n",
       "      <td>-0.019855</td>\n",
       "      <td>1.000000</td>\n",
       "      <td>-0.024669</td>\n",
       "      <td>-0.030785</td>\n",
       "      <td>-0.026834</td>\n",
       "      <td>-0.029300</td>\n",
       "    </tr>\n",
       "    <tr>\n",
       "      <th>Rajajinagar</th>\n",
       "      <td>-0.022999</td>\n",
       "      <td>-0.019264</td>\n",
       "      <td>-0.014476</td>\n",
       "      <td>-0.018933</td>\n",
       "      <td>-0.022220</td>\n",
       "      <td>-0.007260</td>\n",
       "      <td>-0.000982</td>\n",
       "      <td>-0.005896</td>\n",
       "      <td>0.013175</td>\n",
       "      <td>-0.000982</td>\n",
       "      <td>...</td>\n",
       "      <td>-0.027298</td>\n",
       "      <td>-0.027880</td>\n",
       "      <td>-0.021914</td>\n",
       "      <td>-0.025894</td>\n",
       "      <td>-0.016891</td>\n",
       "      <td>-0.024669</td>\n",
       "      <td>1.000000</td>\n",
       "      <td>-0.026190</td>\n",
       "      <td>-0.022828</td>\n",
       "      <td>-0.024926</td>\n",
       "    </tr>\n",
       "    <tr>\n",
       "      <th>Residency Road</th>\n",
       "      <td>-0.062846</td>\n",
       "      <td>0.038970</td>\n",
       "      <td>0.031813</td>\n",
       "      <td>0.019142</td>\n",
       "      <td>0.085233</td>\n",
       "      <td>-0.004492</td>\n",
       "      <td>-0.001225</td>\n",
       "      <td>0.012016</td>\n",
       "      <td>-0.000047</td>\n",
       "      <td>-0.001225</td>\n",
       "      <td>...</td>\n",
       "      <td>-0.034066</td>\n",
       "      <td>-0.034791</td>\n",
       "      <td>-0.027347</td>\n",
       "      <td>-0.032313</td>\n",
       "      <td>-0.021079</td>\n",
       "      <td>-0.030785</td>\n",
       "      <td>-0.026190</td>\n",
       "      <td>1.000000</td>\n",
       "      <td>-0.028488</td>\n",
       "      <td>-0.031106</td>\n",
       "    </tr>\n",
       "    <tr>\n",
       "      <th>Sarjapur Road</th>\n",
       "      <td>0.013594</td>\n",
       "      <td>-0.011732</td>\n",
       "      <td>-0.036333</td>\n",
       "      <td>-0.006852</td>\n",
       "      <td>-0.007809</td>\n",
       "      <td>0.011547</td>\n",
       "      <td>-0.001068</td>\n",
       "      <td>-0.006413</td>\n",
       "      <td>0.010865</td>\n",
       "      <td>-0.001068</td>\n",
       "      <td>...</td>\n",
       "      <td>-0.029693</td>\n",
       "      <td>-0.030326</td>\n",
       "      <td>-0.023837</td>\n",
       "      <td>-0.028166</td>\n",
       "      <td>-0.018374</td>\n",
       "      <td>-0.026834</td>\n",
       "      <td>-0.022828</td>\n",
       "      <td>-0.028488</td>\n",
       "      <td>1.000000</td>\n",
       "      <td>-0.027114</td>\n",
       "    </tr>\n",
       "    <tr>\n",
       "      <th>Whitefield</th>\n",
       "      <td>-0.010118</td>\n",
       "      <td>0.001945</td>\n",
       "      <td>-0.028028</td>\n",
       "      <td>-0.013090</td>\n",
       "      <td>0.016710</td>\n",
       "      <td>0.008019</td>\n",
       "      <td>-0.001166</td>\n",
       "      <td>0.023439</td>\n",
       "      <td>-0.004209</td>\n",
       "      <td>-0.001166</td>\n",
       "      <td>...</td>\n",
       "      <td>-0.032422</td>\n",
       "      <td>-0.033113</td>\n",
       "      <td>-0.026027</td>\n",
       "      <td>-0.030755</td>\n",
       "      <td>-0.020062</td>\n",
       "      <td>-0.029300</td>\n",
       "      <td>-0.024926</td>\n",
       "      <td>-0.031106</td>\n",
       "      <td>-0.027114</td>\n",
       "      <td>1.000000</td>\n",
       "    </tr>\n",
       "  </tbody>\n",
       "</table>\n",
       "<p>129 rows × 129 columns</p>\n",
       "</div>"
      ],
      "text/plain": [
       "                               online_order  book_table      rate     votes  \\\n",
       "online_order                       1.000000   -0.050397  0.066651 -0.005651   \n",
       "book_table                        -0.050397    1.000000  0.420557  0.391949   \n",
       "rate                               0.066651    0.420557  1.000000  0.433479   \n",
       "votes                             -0.005651    0.391949  0.433479  1.000000   \n",
       "cost                              -0.163457    0.613887  0.379793  0.367371   \n",
       "Bakery                            -0.023318   -0.056050 -0.026837 -0.044906   \n",
       "Bakery, Beverage Shop             -0.002099   -0.002822 -0.003971 -0.002605   \n",
       "Bakery, Cafe                       0.011067   -0.010574  0.029242  0.030150   \n",
       "Bakery, Dessert Parlor            -0.016302   -0.022520 -0.001838 -0.015074   \n",
       "Bakery, Food Court                -0.002099   -0.002822 -0.009525 -0.002441   \n",
       "Bakery, Quick Bites               -0.018973   -0.030408 -0.050589 -0.023900   \n",
       "Bar                               -0.126148    0.075770  0.009394  0.014231   \n",
       "Bar, Casual Dining                -0.065042    0.140345  0.090463  0.085429   \n",
       "Bar, Lounge                       -0.015925    0.011654  0.010909  0.002261   \n",
       "Bar, Pub                          -0.014537    0.025739  0.022468  0.003804   \n",
       "Bar, Quick Bites                   0.010600   -0.005987  0.010005  0.014473   \n",
       "Beverage Shop                      0.044943   -0.053376 -0.020643 -0.043212   \n",
       "Beverage Shop, Cafe                0.018700   -0.010562 -0.005404 -0.008388   \n",
       "Beverage Shop, Dessert Parlor      0.020186   -0.017295  0.014680 -0.010171   \n",
       "Beverage Shop, Quick Bites         0.013272   -0.031192  0.008084 -0.020162   \n",
       "Bhojanalya                         0.006119   -0.003456 -0.008436 -0.003152   \n",
       "Cafe                              -0.006516    0.008871  0.097378  0.026532   \n",
       "Cafe, Bakery                      -0.004652    0.002720  0.033403 -0.006663   \n",
       "Cafe, Bar                          0.015403    0.050182  0.019416  0.001628   \n",
       "Cafe, Casual Dining               -0.013824   -0.001605  0.050595  0.118244   \n",
       "Cafe, Dessert Parlor              -0.018084   -0.008748  0.059068  0.002410   \n",
       "Cafe, Food Court                  -0.009194   -0.002822  0.003134 -0.002323   \n",
       "Cafe, Lounge                      -0.025182    0.044586  0.030253  0.000818   \n",
       "Cafe, Quick Bites                 -0.010455   -0.011293  0.004593 -0.010392   \n",
       "Casual Dining                      0.060710    0.177444  0.047837  0.077788   \n",
       "...                                     ...         ...       ...       ...   \n",
       "BTM                                0.032925   -0.006999  0.003839  0.006600   \n",
       "Banashankari                       0.011476   -0.034649 -0.010438 -0.021220   \n",
       "Bannerghatta Road                  0.018815   -0.029633 -0.053730 -0.030812   \n",
       "Basavanagudi                       0.006143   -0.018415  0.001914 -0.016545   \n",
       "Bellandur                          0.025840   -0.006464 -0.024652  0.001960   \n",
       "Brigade Road                      -0.041383    0.043110  0.042740  0.019398   \n",
       "Brookefield                        0.019713   -0.023568 -0.049343 -0.023556   \n",
       "Church Street                     -0.051511    0.045101  0.043873  0.022751   \n",
       "Electronic City                   -0.027468   -0.019096 -0.062203 -0.037371   \n",
       "Frazer Town                        0.004394   -0.007679  0.004681 -0.008774   \n",
       "HSR                                0.041016   -0.012463 -0.015148 -0.015850   \n",
       "Indiranagar                       -0.016477    0.030508  0.020118  0.030148   \n",
       "JP Nagar                           0.024983   -0.023226 -0.031347 -0.026522   \n",
       "Jayanagar                          0.038422   -0.017032 -0.003321 -0.015867   \n",
       "Kalyan Nagar                       0.010486   -0.016086 -0.017965 -0.031263   \n",
       "Kammanahalli                       0.007476   -0.020834 -0.021941 -0.031695   \n",
       "Koramangala 4th Block              0.026336    0.005211  0.031341  0.022748   \n",
       "Koramangala 5th Block              0.018405    0.003079  0.031412  0.027292   \n",
       "Koramangala 6th Block              0.016344   -0.000839  0.031673  0.025621   \n",
       "Koramangala 7th Block              0.011310    0.004005  0.031396  0.025971   \n",
       "Lavelle Road                      -0.067464    0.038205  0.031398  0.012159   \n",
       "MG Road                           -0.048837    0.044732  0.042888  0.028647   \n",
       "Malleshwaram                      -0.000341   -0.008711  0.004840 -0.011359   \n",
       "Marathahalli                       0.000177   -0.017249 -0.057930 -0.013446   \n",
       "New BEL Road                      -0.000991   -0.020415 -0.017392 -0.010681   \n",
       "Old Airport Road                  -0.008126    0.019053  0.008587  0.025923   \n",
       "Rajajinagar                       -0.022999   -0.019264 -0.014476 -0.018933   \n",
       "Residency Road                    -0.062846    0.038970  0.031813  0.019142   \n",
       "Sarjapur Road                      0.013594   -0.011732 -0.036333 -0.006852   \n",
       "Whitefield                        -0.010118    0.001945 -0.028028 -0.013090   \n",
       "\n",
       "                                   cost    Bakery  Bakery, Beverage Shop  \\\n",
       "online_order                  -0.163457 -0.023318              -0.002099   \n",
       "book_table                     0.613887 -0.056050              -0.002822   \n",
       "rate                           0.379793 -0.026837              -0.003971   \n",
       "votes                          0.367371 -0.044906              -0.002605   \n",
       "cost                           1.000000 -0.066012              -0.006195   \n",
       "Bakery                        -0.066012  1.000000              -0.000912   \n",
       "Bakery, Beverage Shop         -0.006195 -0.000912               1.000000   \n",
       "Bakery, Cafe                   0.004459 -0.005479              -0.000276   \n",
       "Bakery, Dessert Parlor        -0.028781 -0.007281              -0.000367   \n",
       "Bakery, Food Court            -0.001399 -0.000912              -0.000046   \n",
       "Bakery, Quick Bites           -0.031181 -0.009831              -0.000495   \n",
       "Bar                            0.181681 -0.016572              -0.000834   \n",
       "Bar, Casual Dining             0.163355 -0.013125              -0.000661   \n",
       "Bar, Lounge                    0.047416 -0.001580              -0.000080   \n",
       "Bar, Pub                       0.005954 -0.001443              -0.000073   \n",
       "Bar, Quick Bites               0.043988 -0.001936              -0.000097   \n",
       "Beverage Shop                 -0.100954 -0.017258              -0.000869   \n",
       "Beverage Shop, Cafe           -0.006420 -0.003415              -0.000172   \n",
       "Beverage Shop, Dessert Parlor -0.019004 -0.005592              -0.000282   \n",
       "Beverage Shop, Quick Bites    -0.051305 -0.010085              -0.000508   \n",
       "Bhojanalya                    -0.005328 -0.001117              -0.000056   \n",
       "Cafe                           0.021509 -0.039744              -0.002001   \n",
       "Cafe, Bakery                   0.000785 -0.007808              -0.000393   \n",
       "Cafe, Bar                      0.027529 -0.002813              -0.000142   \n",
       "Cafe, Casual Dining            0.030321 -0.008502              -0.000428   \n",
       "Cafe, Dessert Parlor           0.008735 -0.007862              -0.000396   \n",
       "Cafe, Food Court               0.001552 -0.000912              -0.000046   \n",
       "Cafe, Lounge                   0.016376 -0.002499              -0.000126   \n",
       "Cafe, Quick Bites             -0.004159 -0.006328              -0.000319   \n",
       "Casual Dining                  0.238989 -0.072932              -0.003672   \n",
       "...                                 ...       ...                    ...   \n",
       "BTM                           -0.039254 -0.005758               0.012153   \n",
       "Banashankari                  -0.051708  0.003075              -0.000908   \n",
       "Bannerghatta Road             -0.045156 -0.005631              -0.001200   \n",
       "Basavanagudi                  -0.048391  0.006210              -0.001111   \n",
       "Bellandur                     -0.004792  0.020192              -0.001055   \n",
       "Brigade Road                   0.096888 -0.004102              -0.001296   \n",
       "Brookefield                   -0.016195  0.002842              -0.001166   \n",
       "Church Street                  0.101242 -0.002838              -0.001313   \n",
       "Electronic City               -0.017760  0.002711              -0.001007   \n",
       "Frazer Town                    0.001750  0.017832              -0.001035   \n",
       "HSR                           -0.031370  0.005120              -0.001256   \n",
       "Indiranagar                    0.043175  0.004091              -0.001348   \n",
       "JP Nagar                      -0.050893 -0.004770              -0.001393   \n",
       "Jayanagar                     -0.051676 -0.006265              -0.001486   \n",
       "Kalyan Nagar                  -0.025705 -0.000111              -0.001077   \n",
       "Kammanahalli                  -0.027711  0.011219              -0.001075   \n",
       "Koramangala 4th Block         -0.017070 -0.006836              -0.001620   \n",
       "Koramangala 5th Block         -0.018524 -0.007117              -0.001629   \n",
       "Koramangala 6th Block         -0.022281 -0.004001              -0.001583   \n",
       "Koramangala 7th Block         -0.021371 -0.006041              -0.001664   \n",
       "Lavelle Road                   0.092794 -0.006276              -0.001277   \n",
       "MG Road                        0.096226  0.002173              -0.001304   \n",
       "Malleshwaram                   0.004387 -0.003919              -0.001025   \n",
       "Marathahalli                  -0.024452 -0.000996              -0.001211   \n",
       "New BEL Road                  -0.024697 -0.002106              -0.000790   \n",
       "Old Airport Road               0.021546  0.002267               0.019324   \n",
       "Rajajinagar                   -0.022220 -0.007260              -0.000982   \n",
       "Residency Road                 0.085233 -0.004492              -0.001225   \n",
       "Sarjapur Road                 -0.007809  0.011547              -0.001068   \n",
       "Whitefield                     0.016710  0.008019              -0.001166   \n",
       "\n",
       "                               Bakery, Cafe  Bakery, Dessert Parlor  \\\n",
       "online_order                       0.011067               -0.016302   \n",
       "book_table                        -0.010574               -0.022520   \n",
       "rate                               0.029242               -0.001838   \n",
       "votes                              0.030150               -0.015074   \n",
       "cost                               0.004459               -0.028781   \n",
       "Bakery                            -0.005479               -0.007281   \n",
       "Bakery, Beverage Shop             -0.000276               -0.000367   \n",
       "Bakery, Cafe                       1.000000               -0.002201   \n",
       "Bakery, Dessert Parlor            -0.002201                1.000000   \n",
       "Bakery, Food Court                -0.000276               -0.000367   \n",
       "Bakery, Quick Bites               -0.002972               -0.003950   \n",
       "Bar                               -0.005010               -0.006658   \n",
       "Bar, Casual Dining                -0.003968               -0.005273   \n",
       "Bar, Lounge                       -0.000478               -0.000635   \n",
       "Bar, Pub                          -0.000436               -0.000580   \n",
       "Bar, Quick Bites                  -0.000585               -0.000778   \n",
       "Beverage Shop                     -0.005217               -0.006934   \n",
       "Beverage Shop, Cafe               -0.001032               -0.001372   \n",
       "Beverage Shop, Dessert Parlor     -0.001691               -0.002247   \n",
       "Beverage Shop, Quick Bites        -0.003049               -0.004052   \n",
       "Bhojanalya                        -0.000338               -0.000449   \n",
       "Cafe                              -0.012016               -0.015968   \n",
       "Cafe, Bakery                      -0.002361               -0.003137   \n",
       "Cafe, Bar                         -0.000850               -0.001130   \n",
       "Cafe, Casual Dining               -0.002570               -0.003416   \n",
       "Cafe, Dessert Parlor              -0.002377               -0.003159   \n",
       "Cafe, Food Court                  -0.000276               -0.000367   \n",
       "Cafe, Lounge                      -0.000756               -0.001004   \n",
       "Cafe, Quick Bites                 -0.001913               -0.002542   \n",
       "Casual Dining                     -0.022049               -0.029302   \n",
       "...                                     ...                     ...   \n",
       "BTM                               -0.008261               -0.005319   \n",
       "Banashankari                      -0.005453               -0.000777   \n",
       "Bannerghatta Road                 -0.007207               -0.009578   \n",
       "Basavanagudi                      -0.006673               -0.008869   \n",
       "Bellandur                         -0.006335                0.011197   \n",
       "Brigade Road                       0.010593                0.003501   \n",
       "Brookefield                        0.009919               -0.001654   \n",
       "Church Street                      0.010271               -0.001361   \n",
       "Electronic City                   -0.006045               -0.008034   \n",
       "Frazer Town                        0.008928               -0.005410   \n",
       "HSR                                0.001927                0.006622   \n",
       "Indiranagar                        0.015540                0.002597   \n",
       "JP Nagar                          -0.008365               -0.006798   \n",
       "Jayanagar                         -0.008923               -0.007787   \n",
       "Kalyan Nagar                      -0.006469                0.005138   \n",
       "Kammanahalli                      -0.002799                0.005189   \n",
       "Koramangala 4th Block             -0.007230                0.005902   \n",
       "Koramangala 5th Block             -0.009780               -0.001749   \n",
       "Koramangala 6th Block             -0.009507                0.002746   \n",
       "Koramangala 7th Block             -0.009991               -0.002242   \n",
       "Lavelle Road                       0.010969               -0.000830   \n",
       "MG Road                            0.013489               -0.001229   \n",
       "Malleshwaram                      -0.002334                0.009097   \n",
       "Marathahalli                      -0.004011               -0.004750   \n",
       "New BEL Road                       0.000168                0.001098   \n",
       "Old Airport Road                   0.013564                0.001084   \n",
       "Rajajinagar                       -0.005896                0.013175   \n",
       "Residency Road                     0.012016               -0.000047   \n",
       "Sarjapur Road                     -0.006413                0.010865   \n",
       "Whitefield                         0.023439               -0.004209   \n",
       "\n",
       "                               Bakery, Food Court     ...      Lavelle Road  \\\n",
       "online_order                            -0.002099     ...         -0.067464   \n",
       "book_table                              -0.002822     ...          0.038205   \n",
       "rate                                    -0.009525     ...          0.031398   \n",
       "votes                                   -0.002441     ...          0.012159   \n",
       "cost                                    -0.001399     ...          0.092794   \n",
       "Bakery                                  -0.000912     ...         -0.006276   \n",
       "Bakery, Beverage Shop                   -0.000046     ...         -0.001277   \n",
       "Bakery, Cafe                            -0.000276     ...          0.010969   \n",
       "Bakery, Dessert Parlor                  -0.000367     ...         -0.000830   \n",
       "Bakery, Food Court                       1.000000     ...         -0.001277   \n",
       "Bakery, Quick Bites                     -0.000495     ...          0.005350   \n",
       "Bar                                     -0.000834     ...          0.012189   \n",
       "Bar, Casual Dining                      -0.000661     ...          0.014298   \n",
       "Bar, Lounge                             -0.000080     ...         -0.002212   \n",
       "Bar, Pub                                -0.000073     ...         -0.002019   \n",
       "Bar, Quick Bites                        -0.000097     ...         -0.002709   \n",
       "Beverage Shop                           -0.000869     ...         -0.009146   \n",
       "Beverage Shop, Cafe                     -0.000172     ...          0.010156   \n",
       "Beverage Shop, Dessert Parlor           -0.000282     ...         -0.001740   \n",
       "Beverage Shop, Quick Bites              -0.000508     ...         -0.005646   \n",
       "Bhojanalya                              -0.000056     ...         -0.001564   \n",
       "Cafe                                    -0.002001     ...          0.006644   \n",
       "Cafe, Bakery                            -0.000393     ...          0.013086   \n",
       "Cafe, Bar                               -0.000142     ...         -0.003937   \n",
       "Cafe, Casual Dining                     -0.000428     ...          0.002143   \n",
       "Cafe, Dessert Parlor                    -0.000396     ...          0.004175   \n",
       "Cafe, Food Court                        -0.000046     ...         -0.001277   \n",
       "Cafe, Lounge                            -0.000126     ...         -0.003498   \n",
       "Cafe, Quick Bites                       -0.000319     ...          0.001906   \n",
       "Casual Dining                           -0.003672     ...          0.019653   \n",
       "...                                           ...     ...               ...   \n",
       "BTM                                     -0.001762     ...         -0.048993   \n",
       "Banashankari                            -0.000908     ...         -0.025250   \n",
       "Bannerghatta Road                       -0.001200     ...         -0.033370   \n",
       "Basavanagudi                            -0.001111     ...         -0.030897   \n",
       "Bellandur                                0.021243     ...         -0.029331   \n",
       "Brigade Road                            -0.001296     ...         -0.036045   \n",
       "Brookefield                             -0.001166     ...         -0.032409   \n",
       "Church Street                           -0.001313     ...         -0.036517   \n",
       "Electronic City                         -0.001007     ...         -0.027991   \n",
       "Frazer Town                             -0.001035     ...         -0.028787   \n",
       "HSR                                     -0.001256     ...         -0.034912   \n",
       "Indiranagar                             -0.001348     ...         -0.037480   \n",
       "JP Nagar                                -0.001393     ...         -0.038732   \n",
       "Jayanagar                               -0.001486     ...         -0.041314   \n",
       "Kalyan Nagar                            -0.001077     ...         -0.029952   \n",
       "Kammanahalli                            -0.001075     ...         -0.029880   \n",
       "Koramangala 4th Block                   -0.001620     ...         -0.045049   \n",
       "Koramangala 5th Block                   -0.001629     ...         -0.045281   \n",
       "Koramangala 6th Block                   -0.001583     ...         -0.044018   \n",
       "Koramangala 7th Block                   -0.001664     ...         -0.046260   \n",
       "Lavelle Road                            -0.001277     ...          1.000000   \n",
       "MG Road                                 -0.001304     ...         -0.036264   \n",
       "Malleshwaram                             0.021890     ...         -0.028504   \n",
       "Marathahalli                            -0.001211     ...         -0.033681   \n",
       "New BEL Road                            -0.000790     ...         -0.021971   \n",
       "Old Airport Road                        -0.001154     ...         -0.032088   \n",
       "Rajajinagar                             -0.000982     ...         -0.027298   \n",
       "Residency Road                          -0.001225     ...         -0.034066   \n",
       "Sarjapur Road                           -0.001068     ...         -0.029693   \n",
       "Whitefield                              -0.001166     ...         -0.032422   \n",
       "\n",
       "                                MG Road  Malleshwaram  Marathahalli  \\\n",
       "online_order                  -0.048837     -0.000341      0.000177   \n",
       "book_table                     0.044732     -0.008711     -0.017249   \n",
       "rate                           0.042888      0.004840     -0.057930   \n",
       "votes                          0.028647     -0.011359     -0.013446   \n",
       "cost                           0.096226      0.004387     -0.024452   \n",
       "Bakery                         0.002173     -0.003919     -0.000996   \n",
       "Bakery, Beverage Shop         -0.001304     -0.001025     -0.001211   \n",
       "Bakery, Cafe                   0.013489     -0.002334     -0.004011   \n",
       "Bakery, Dessert Parlor        -0.001229      0.009097     -0.004750   \n",
       "Bakery, Food Court            -0.001304      0.021890     -0.001211   \n",
       "Bakery, Quick Bites            0.008093     -0.011047     -0.003927   \n",
       "Bar                            0.009988     -0.003253     -0.013256   \n",
       "Bar, Casual Dining             0.020961      0.012588     -0.007817   \n",
       "Bar, Lounge                   -0.002259      0.037917     -0.002098   \n",
       "Bar, Pub                      -0.002062     -0.001621     -0.001916   \n",
       "Bar, Quick Bites              -0.002767     -0.002175     -0.002570   \n",
       "Beverage Shop                 -0.010933     -0.009541     -0.006093   \n",
       "Beverage Shop, Cafe            0.009764      0.014542     -0.004534   \n",
       "Beverage Shop, Dessert Parlor -0.002025      0.004952     -0.004227   \n",
       "Beverage Shop, Quick Bites    -0.006111     -0.002993      0.011528   \n",
       "Bhojanalya                    -0.001597     -0.001256     -0.001484   \n",
       "Cafe                           0.003794     -0.008059     -0.027382   \n",
       "Cafe, Bakery                   0.012387     -0.000715     -0.003487   \n",
       "Cafe, Bar                     -0.004021     -0.003161     -0.003735   \n",
       "Cafe, Casual Dining            0.009486     -0.009554     -0.011289   \n",
       "Cafe, Dessert Parlor           0.003645      0.009844     -0.008160   \n",
       "Cafe, Food Court              -0.001304     -0.001025     -0.001211   \n",
       "Cafe, Lounge                  -0.003573     -0.002808     -0.003318   \n",
       "Cafe, Quick Bites              0.001508     -0.003800      0.002906   \n",
       "Casual Dining                  0.008318      0.008153      0.010169   \n",
       "...                                 ...           ...           ...   \n",
       "BTM                           -0.050036     -0.039329     -0.046473   \n",
       "Banashankari                  -0.025787     -0.020269     -0.023951   \n",
       "Bannerghatta Road             -0.034081     -0.026788     -0.031654   \n",
       "Basavanagudi                  -0.031556     -0.024803     -0.029308   \n",
       "Bellandur                     -0.029956     -0.023546     -0.027822   \n",
       "Brigade Road                  -0.036813     -0.028936     -0.034191   \n",
       "Brookefield                   -0.033100     -0.026017     -0.030742   \n",
       "Church Street                 -0.037295     -0.029314     -0.034639   \n",
       "Electronic City               -0.028587     -0.022470     -0.026551   \n",
       "Frazer Town                   -0.029400     -0.023109     -0.027306   \n",
       "HSR                           -0.035655     -0.028026     -0.033116   \n",
       "Indiranagar                   -0.038278     -0.030087     -0.035552   \n",
       "JP Nagar                      -0.039557     -0.031092     -0.036740   \n",
       "Jayanagar                     -0.042194     -0.033165     -0.039189   \n",
       "Kalyan Nagar                  -0.030590     -0.024044     -0.028411   \n",
       "Kammanahalli                  -0.030517     -0.023987     -0.028344   \n",
       "Koramangala 4th Block         -0.046008     -0.036163     -0.042731   \n",
       "Koramangala 5th Block         -0.046245     -0.036350     -0.042952   \n",
       "Koramangala 6th Block         -0.044955     -0.035336     -0.041754   \n",
       "Koramangala 7th Block         -0.047245     -0.037136     -0.043880   \n",
       "Lavelle Road                  -0.036264     -0.028504     -0.033681   \n",
       "MG Road                        1.000000     -0.029111     -0.034398   \n",
       "Malleshwaram                  -0.029111      1.000000     -0.027038   \n",
       "Marathahalli                  -0.034398     -0.027038      1.000000   \n",
       "New BEL Road                  -0.022439     -0.017637     -0.020841   \n",
       "Old Airport Road              -0.032771     -0.025759     -0.030437   \n",
       "Rajajinagar                   -0.027880     -0.021914     -0.025894   \n",
       "Residency Road                -0.034791     -0.027347     -0.032313   \n",
       "Sarjapur Road                 -0.030326     -0.023837     -0.028166   \n",
       "Whitefield                    -0.033113     -0.026027     -0.030755   \n",
       "\n",
       "                               New BEL Road  Old Airport Road  Rajajinagar  \\\n",
       "online_order                      -0.000991         -0.008126    -0.022999   \n",
       "book_table                        -0.020415          0.019053    -0.019264   \n",
       "rate                              -0.017392          0.008587    -0.014476   \n",
       "votes                             -0.010681          0.025923    -0.018933   \n",
       "cost                              -0.024697          0.021546    -0.022220   \n",
       "Bakery                            -0.002106          0.002267    -0.007260   \n",
       "Bakery, Beverage Shop             -0.000790          0.019324    -0.000982   \n",
       "Bakery, Cafe                       0.000168          0.013564    -0.005896   \n",
       "Bakery, Dessert Parlor             0.001098          0.001084     0.013175   \n",
       "Bakery, Food Court                -0.000790         -0.001154    -0.000982   \n",
       "Bakery, Quick Bites               -0.000270          0.000937    -0.010580   \n",
       "Bar                               -0.007768          0.004215    -0.005821   \n",
       "Bar, Casual Dining                -0.001032          0.029380     0.012691   \n",
       "Bar, Lounge                       -0.001369         -0.001999    -0.001701   \n",
       "Bar, Pub                          -0.001250         -0.001825    -0.001553   \n",
       "Bar, Quick Bites                  -0.001677         -0.002448    -0.002083   \n",
       "Beverage Shop                     -0.010198         -0.006425    -0.009588   \n",
       "Beverage Shop, Cafe               -0.002958         -0.004320     0.015480   \n",
       "Beverage Shop, Dessert Parlor      0.009601         -0.000380     0.001789   \n",
       "Beverage Shop, Quick Bites         0.001985         -0.001579    -0.004335   \n",
       "Bhojanalya                        -0.000968         -0.001414    -0.001203   \n",
       "Cafe                               0.006746         -0.009392    -0.023102   \n",
       "Cafe, Bakery                       0.003598          0.006928    -0.005603   \n",
       "Cafe, Bar                         -0.002436         -0.003558    -0.003027   \n",
       "Cafe, Casual Dining                0.014852          0.004688    -0.009150   \n",
       "Cafe, Dessert Parlor              -0.006809          0.013900    -0.000117   \n",
       "Cafe, Food Court                  -0.000790         -0.001154    -0.000982   \n",
       "Cafe, Lounge                      -0.002165         -0.003161    -0.002689   \n",
       "Cafe, Quick Bites                 -0.005481          0.000872    -0.003359   \n",
       "Casual Dining                     -0.006920         -0.006767    -0.007376   \n",
       "...                                     ...               ...          ...   \n",
       "BTM                               -0.030315         -0.044275    -0.037666   \n",
       "Banashankari                      -0.015624         -0.022818    -0.019412   \n",
       "Bannerghatta Road                 -0.020649         -0.030156    -0.025655   \n",
       "Basavanagudi                      -0.019119         -0.027922    -0.023754   \n",
       "Bellandur                         -0.018149         -0.026506    -0.022550   \n",
       "Brigade Road                      -0.022304         -0.032574    -0.027712   \n",
       "Brookefield                       -0.020054         -0.029288    -0.024916   \n",
       "Church Street                     -0.022596         -0.033000    -0.028074   \n",
       "Electronic City                   -0.017320         -0.025295    -0.021519   \n",
       "Frazer Town                       -0.017812         -0.026014    -0.022131   \n",
       "HSR                               -0.021602         -0.031550    -0.026840   \n",
       "Indiranagar                       -0.023191         -0.033870    -0.028814   \n",
       "JP Nagar                          -0.023966         -0.035002    -0.029777   \n",
       "Jayanagar                         -0.025564         -0.037335    -0.031762   \n",
       "Kalyan Nagar                      -0.018534         -0.027068    -0.023027   \n",
       "Kammanahalli                      -0.018489         -0.027003    -0.022972   \n",
       "Koramangala 4th Block             -0.027875         -0.040710    -0.034633   \n",
       "Koramangala 5th Block             -0.028019         -0.040920    -0.034812   \n",
       "Koramangala 6th Block             -0.027237         -0.039779    -0.033841   \n",
       "Koramangala 7th Block             -0.028624         -0.041805    -0.035565   \n",
       "Lavelle Road                      -0.021971         -0.032088    -0.027298   \n",
       "MG Road                           -0.022439         -0.032771    -0.027880   \n",
       "Malleshwaram                      -0.017637         -0.025759    -0.021914   \n",
       "Marathahalli                      -0.020841         -0.030437    -0.025894   \n",
       "New BEL Road                       1.000000         -0.019855    -0.016891   \n",
       "Old Airport Road                  -0.019855          1.000000    -0.024669   \n",
       "Rajajinagar                       -0.016891         -0.024669     1.000000   \n",
       "Residency Road                    -0.021079         -0.030785    -0.026190   \n",
       "Sarjapur Road                     -0.018374         -0.026834    -0.022828   \n",
       "Whitefield                        -0.020062         -0.029300    -0.024926   \n",
       "\n",
       "                               Residency Road  Sarjapur Road  Whitefield  \n",
       "online_order                        -0.062846       0.013594   -0.010118  \n",
       "book_table                           0.038970      -0.011732    0.001945  \n",
       "rate                                 0.031813      -0.036333   -0.028028  \n",
       "votes                                0.019142      -0.006852   -0.013090  \n",
       "cost                                 0.085233      -0.007809    0.016710  \n",
       "Bakery                              -0.004492       0.011547    0.008019  \n",
       "Bakery, Beverage Shop               -0.001225      -0.001068   -0.001166  \n",
       "Bakery, Cafe                         0.012016      -0.006413    0.023439  \n",
       "Bakery, Dessert Parlor              -0.000047       0.010865   -0.004209  \n",
       "Bakery, Food Court                  -0.001225      -0.001068   -0.001166  \n",
       "Bakery, Quick Bites                  0.004857       0.009053   -0.012566  \n",
       "Bar                                  0.010200      -0.013240   -0.006449  \n",
       "Bar, Casual Dining                   0.013617       0.009381   -0.001123  \n",
       "Bar, Lounge                         -0.002122      -0.001850    0.033104  \n",
       "Bar, Pub                            -0.001937      -0.001689   -0.001844  \n",
       "Bar, Quick Bites                    -0.002599      -0.002266   -0.002474  \n",
       "Beverage Shop                       -0.006533      -0.000069   -0.004624  \n",
       "Beverage Shop, Cafe                  0.010939       0.013679   -0.004365  \n",
       "Beverage Shop, Dessert Parlor       -0.001182       0.011464   -0.007147  \n",
       "Beverage Shop, Quick Bites          -0.004738      -0.001780    0.000023  \n",
       "Bhojanalya                          -0.001501      -0.001308    0.031686  \n",
       "Cafe                                 0.006529      -0.017923   -0.024990  \n",
       "Cafe, Bakery                         0.014477      -0.009140   -0.009980  \n",
       "Cafe, Bar                           -0.003777      -0.003292   -0.003595  \n",
       "Cafe, Casual Dining                  0.003180      -0.007578   -0.010867  \n",
       "Cafe, Dessert Parlor                 0.005221      -0.001504    0.006480  \n",
       "Cafe, Food Court                    -0.001225      -0.001068   -0.001166  \n",
       "Cafe, Lounge                        -0.003356      -0.002925   -0.003194  \n",
       "Cafe, Quick Bites                    0.002690      -0.001038   -0.008088  \n",
       "Casual Dining                        0.015760      -0.000497   -0.005937  \n",
       "...                                       ...            ...         ...  \n",
       "BTM                                 -0.047004      -0.040971   -0.044736  \n",
       "Banashankari                        -0.024224      -0.021115   -0.023056  \n",
       "Bannerghatta Road                   -0.032015      -0.027906   -0.030471  \n",
       "Basavanagudi                        -0.029643      -0.025839   -0.028213  \n",
       "Bellandur                           -0.028140      -0.024529   -0.026783  \n",
       "Brigade Road                        -0.034582      -0.030144   -0.032914  \n",
       "Brookefield                         -0.031093      -0.027103   -0.029594  \n",
       "Church Street                       -0.035034      -0.030538   -0.033344  \n",
       "Electronic City                     -0.026854      -0.023408   -0.025559  \n",
       "Frazer Town                         -0.027618      -0.024073   -0.026286  \n",
       "HSR                                 -0.033494      -0.029196   -0.031879  \n",
       "Indiranagar                         -0.035958      -0.031343   -0.034224  \n",
       "JP Nagar                            -0.037159      -0.032390   -0.035367  \n",
       "Jayanagar                           -0.039636      -0.034549   -0.037724  \n",
       "Kalyan Nagar                        -0.028736      -0.025048   -0.027350  \n",
       "Kammanahalli                        -0.028667      -0.024988   -0.027285  \n",
       "Koramangala 4th Block               -0.043220      -0.037673   -0.041135  \n",
       "Koramangala 5th Block               -0.043442      -0.037867   -0.041347  \n",
       "Koramangala 6th Block               -0.042231      -0.036811   -0.040194  \n",
       "Koramangala 7th Block               -0.044382      -0.038686   -0.042241  \n",
       "Lavelle Road                        -0.034066      -0.029693   -0.032422  \n",
       "MG Road                             -0.034791      -0.030326   -0.033113  \n",
       "Malleshwaram                        -0.027347      -0.023837   -0.026027  \n",
       "Marathahalli                        -0.032313      -0.028166   -0.030755  \n",
       "New BEL Road                        -0.021079      -0.018374   -0.020062  \n",
       "Old Airport Road                    -0.030785      -0.026834   -0.029300  \n",
       "Rajajinagar                         -0.026190      -0.022828   -0.024926  \n",
       "Residency Road                       1.000000      -0.028488   -0.031106  \n",
       "Sarjapur Road                       -0.028488       1.000000   -0.027114  \n",
       "Whitefield                          -0.031106      -0.027114    1.000000  \n",
       "\n",
       "[129 rows x 129 columns]"
      ]
     },
     "execution_count": 49,
     "metadata": {},
     "output_type": "execute_result"
    }
   ],
   "source": [
    "corr = df4.corr()\n",
    "corr"
   ]
  },
  {
   "cell_type": "code",
   "execution_count": 50,
   "metadata": {},
   "outputs": [
    {
     "data": {
      "text/plain": [
       "<matplotlib.axes._subplots.AxesSubplot at 0x1fc2534ab00>"
      ]
     },
     "execution_count": 50,
     "metadata": {},
     "output_type": "execute_result"
    },
    {
     "data": {
      "image/png": "[encoded data removed]",
      "text/plain": [
       "<Figure size 1080x576 with 2 Axes>"
      ]
     },
     "metadata": {},
     "output_type": "display_data"
    }
   ],
   "source": [
    "#Plotting correlation matrix without dummies \n",
    "\n",
    "corr = df2.corr(method='kendall')\n",
    "plt.figure(figsize=(15,8))\n",
    "sns.heatmap(corr, annot=True)"
   ]
  },
  {
   "cell_type": "markdown",
   "metadata": {},
   "source": [
    "# Building Model and Evalution Matrix"
   ]
  },
  {
   "cell_type": "code",
   "execution_count": 51,
   "metadata": {},
   "outputs": [
    {
     "data": {
      "text/html": [
       "<div>\n",
       "<style scoped>\n",
       "    .dataframe tbody tr th:only-of-type {\n",
       "        vertical-align: middle;\n",
       "    }\n",
       "\n",
       "    .dataframe tbody tr th {\n",
       "        vertical-align: top;\n",
       "    }\n",
       "\n",
       "    .dataframe thead th {\n",
       "        text-align: right;\n",
       "    }\n",
       "</style>\n",
       "<table border=\"1\" class=\"dataframe\">\n",
       "  <thead>\n",
       "    <tr style=\"text-align: right;\">\n",
       "      <th></th>\n",
       "      <th>online_order</th>\n",
       "      <th>book_table</th>\n",
       "      <th>votes</th>\n",
       "      <th>cost</th>\n",
       "      <th>Bakery</th>\n",
       "      <th>Bakery, Beverage Shop</th>\n",
       "      <th>Bakery, Cafe</th>\n",
       "      <th>Bakery, Dessert Parlor</th>\n",
       "      <th>Bakery, Food Court</th>\n",
       "      <th>Bakery, Quick Bites</th>\n",
       "      <th>...</th>\n",
       "      <th>Lavelle Road</th>\n",
       "      <th>MG Road</th>\n",
       "      <th>Malleshwaram</th>\n",
       "      <th>Marathahalli</th>\n",
       "      <th>New BEL Road</th>\n",
       "      <th>Old Airport Road</th>\n",
       "      <th>Rajajinagar</th>\n",
       "      <th>Residency Road</th>\n",
       "      <th>Sarjapur Road</th>\n",
       "      <th>Whitefield</th>\n",
       "    </tr>\n",
       "  </thead>\n",
       "  <tbody>\n",
       "    <tr>\n",
       "      <th>0</th>\n",
       "      <td>1</td>\n",
       "      <td>1</td>\n",
       "      <td>775</td>\n",
       "      <td>800.0</td>\n",
       "      <td>0</td>\n",
       "      <td>0</td>\n",
       "      <td>0</td>\n",
       "      <td>0</td>\n",
       "      <td>0</td>\n",
       "      <td>0</td>\n",
       "      <td>...</td>\n",
       "      <td>0</td>\n",
       "      <td>0</td>\n",
       "      <td>0</td>\n",
       "      <td>0</td>\n",
       "      <td>0</td>\n",
       "      <td>0</td>\n",
       "      <td>0</td>\n",
       "      <td>0</td>\n",
       "      <td>0</td>\n",
       "      <td>0</td>\n",
       "    </tr>\n",
       "    <tr>\n",
       "      <th>1</th>\n",
       "      <td>1</td>\n",
       "      <td>0</td>\n",
       "      <td>787</td>\n",
       "      <td>800.0</td>\n",
       "      <td>0</td>\n",
       "      <td>0</td>\n",
       "      <td>0</td>\n",
       "      <td>0</td>\n",
       "      <td>0</td>\n",
       "      <td>0</td>\n",
       "      <td>...</td>\n",
       "      <td>0</td>\n",
       "      <td>0</td>\n",
       "      <td>0</td>\n",
       "      <td>0</td>\n",
       "      <td>0</td>\n",
       "      <td>0</td>\n",
       "      <td>0</td>\n",
       "      <td>0</td>\n",
       "      <td>0</td>\n",
       "      <td>0</td>\n",
       "    </tr>\n",
       "    <tr>\n",
       "      <th>2</th>\n",
       "      <td>1</td>\n",
       "      <td>0</td>\n",
       "      <td>918</td>\n",
       "      <td>800.0</td>\n",
       "      <td>0</td>\n",
       "      <td>0</td>\n",
       "      <td>0</td>\n",
       "      <td>0</td>\n",
       "      <td>0</td>\n",
       "      <td>0</td>\n",
       "      <td>...</td>\n",
       "      <td>0</td>\n",
       "      <td>0</td>\n",
       "      <td>0</td>\n",
       "      <td>0</td>\n",
       "      <td>0</td>\n",
       "      <td>0</td>\n",
       "      <td>0</td>\n",
       "      <td>0</td>\n",
       "      <td>0</td>\n",
       "      <td>0</td>\n",
       "    </tr>\n",
       "    <tr>\n",
       "      <th>3</th>\n",
       "      <td>0</td>\n",
       "      <td>0</td>\n",
       "      <td>88</td>\n",
       "      <td>300.0</td>\n",
       "      <td>0</td>\n",
       "      <td>0</td>\n",
       "      <td>0</td>\n",
       "      <td>0</td>\n",
       "      <td>0</td>\n",
       "      <td>0</td>\n",
       "      <td>...</td>\n",
       "      <td>0</td>\n",
       "      <td>0</td>\n",
       "      <td>0</td>\n",
       "      <td>0</td>\n",
       "      <td>0</td>\n",
       "      <td>0</td>\n",
       "      <td>0</td>\n",
       "      <td>0</td>\n",
       "      <td>0</td>\n",
       "      <td>0</td>\n",
       "    </tr>\n",
       "    <tr>\n",
       "      <th>4</th>\n",
       "      <td>0</td>\n",
       "      <td>0</td>\n",
       "      <td>166</td>\n",
       "      <td>600.0</td>\n",
       "      <td>0</td>\n",
       "      <td>0</td>\n",
       "      <td>0</td>\n",
       "      <td>0</td>\n",
       "      <td>0</td>\n",
       "      <td>0</td>\n",
       "      <td>...</td>\n",
       "      <td>0</td>\n",
       "      <td>0</td>\n",
       "      <td>0</td>\n",
       "      <td>0</td>\n",
       "      <td>0</td>\n",
       "      <td>0</td>\n",
       "      <td>0</td>\n",
       "      <td>0</td>\n",
       "      <td>0</td>\n",
       "      <td>0</td>\n",
       "    </tr>\n",
       "    <tr>\n",
       "      <th>5</th>\n",
       "      <td>1</td>\n",
       "      <td>0</td>\n",
       "      <td>286</td>\n",
       "      <td>600.0</td>\n",
       "      <td>0</td>\n",
       "      <td>0</td>\n",
       "      <td>0</td>\n",
       "      <td>0</td>\n",
       "      <td>0</td>\n",
       "      <td>0</td>\n",
       "      <td>...</td>\n",
       "      <td>0</td>\n",
       "      <td>0</td>\n",
       "      <td>0</td>\n",
       "      <td>0</td>\n",
       "      <td>0</td>\n",
       "      <td>0</td>\n",
       "      <td>0</td>\n",
       "      <td>0</td>\n",
       "      <td>0</td>\n",
       "      <td>0</td>\n",
       "    </tr>\n",
       "    <tr>\n",
       "      <th>6</th>\n",
       "      <td>0</td>\n",
       "      <td>0</td>\n",
       "      <td>8</td>\n",
       "      <td>800.0</td>\n",
       "      <td>0</td>\n",
       "      <td>0</td>\n",
       "      <td>0</td>\n",
       "      <td>0</td>\n",
       "      <td>0</td>\n",
       "      <td>0</td>\n",
       "      <td>...</td>\n",
       "      <td>0</td>\n",
       "      <td>0</td>\n",
       "      <td>0</td>\n",
       "      <td>0</td>\n",
       "      <td>0</td>\n",
       "      <td>0</td>\n",
       "      <td>0</td>\n",
       "      <td>0</td>\n",
       "      <td>0</td>\n",
       "      <td>0</td>\n",
       "    </tr>\n",
       "    <tr>\n",
       "      <th>7</th>\n",
       "      <td>1</td>\n",
       "      <td>1</td>\n",
       "      <td>2556</td>\n",
       "      <td>600.0</td>\n",
       "      <td>0</td>\n",
       "      <td>0</td>\n",
       "      <td>0</td>\n",
       "      <td>0</td>\n",
       "      <td>0</td>\n",
       "      <td>0</td>\n",
       "      <td>...</td>\n",
       "      <td>0</td>\n",
       "      <td>0</td>\n",
       "      <td>0</td>\n",
       "      <td>0</td>\n",
       "      <td>0</td>\n",
       "      <td>0</td>\n",
       "      <td>0</td>\n",
       "      <td>0</td>\n",
       "      <td>0</td>\n",
       "      <td>0</td>\n",
       "    </tr>\n",
       "    <tr>\n",
       "      <th>8</th>\n",
       "      <td>1</td>\n",
       "      <td>0</td>\n",
       "      <td>324</td>\n",
       "      <td>700.0</td>\n",
       "      <td>0</td>\n",
       "      <td>0</td>\n",
       "      <td>0</td>\n",
       "      <td>0</td>\n",
       "      <td>0</td>\n",
       "      <td>0</td>\n",
       "      <td>...</td>\n",
       "      <td>0</td>\n",
       "      <td>0</td>\n",
       "      <td>0</td>\n",
       "      <td>0</td>\n",
       "      <td>0</td>\n",
       "      <td>0</td>\n",
       "      <td>0</td>\n",
       "      <td>0</td>\n",
       "      <td>0</td>\n",
       "      <td>0</td>\n",
       "    </tr>\n",
       "    <tr>\n",
       "      <th>9</th>\n",
       "      <td>1</td>\n",
       "      <td>0</td>\n",
       "      <td>504</td>\n",
       "      <td>550.0</td>\n",
       "      <td>0</td>\n",
       "      <td>0</td>\n",
       "      <td>0</td>\n",
       "      <td>0</td>\n",
       "      <td>0</td>\n",
       "      <td>0</td>\n",
       "      <td>...</td>\n",
       "      <td>0</td>\n",
       "      <td>0</td>\n",
       "      <td>0</td>\n",
       "      <td>0</td>\n",
       "      <td>0</td>\n",
       "      <td>0</td>\n",
       "      <td>0</td>\n",
       "      <td>0</td>\n",
       "      <td>0</td>\n",
       "      <td>0</td>\n",
       "    </tr>\n",
       "  </tbody>\n",
       "</table>\n",
       "<p>10 rows × 128 columns</p>\n",
       "</div>"
      ],
      "text/plain": [
       "   online_order  book_table  votes   cost  Bakery  Bakery, Beverage Shop  \\\n",
       "0             1           1    775  800.0       0                      0   \n",
       "1             1           0    787  800.0       0                      0   \n",
       "2             1           0    918  800.0       0                      0   \n",
       "3             0           0     88  300.0       0                      0   \n",
       "4             0           0    166  600.0       0                      0   \n",
       "5             1           0    286  600.0       0                      0   \n",
       "6             0           0      8  800.0       0                      0   \n",
       "7             1           1   2556  600.0       0                      0   \n",
       "8             1           0    324  700.0       0                      0   \n",
       "9             1           0    504  550.0       0                      0   \n",
       "\n",
       "   Bakery, Cafe  Bakery, Dessert Parlor  Bakery, Food Court  \\\n",
       "0             0                       0                   0   \n",
       "1             0                       0                   0   \n",
       "2             0                       0                   0   \n",
       "3             0                       0                   0   \n",
       "4             0                       0                   0   \n",
       "5             0                       0                   0   \n",
       "6             0                       0                   0   \n",
       "7             0                       0                   0   \n",
       "8             0                       0                   0   \n",
       "9             0                       0                   0   \n",
       "\n",
       "   Bakery, Quick Bites     ...      Lavelle Road  MG Road  Malleshwaram  \\\n",
       "0                    0     ...                 0        0             0   \n",
       "1                    0     ...                 0        0             0   \n",
       "2                    0     ...                 0        0             0   \n",
       "3                    0     ...                 0        0             0   \n",
       "4                    0     ...                 0        0             0   \n",
       "5                    0     ...                 0        0             0   \n",
       "6                    0     ...                 0        0             0   \n",
       "7                    0     ...                 0        0             0   \n",
       "8                    0     ...                 0        0             0   \n",
       "9                    0     ...                 0        0             0   \n",
       "\n",
       "   Marathahalli  New BEL Road  Old Airport Road  Rajajinagar  Residency Road  \\\n",
       "0             0             0                 0            0               0   \n",
       "1             0             0                 0            0               0   \n",
       "2             0             0                 0            0               0   \n",
       "3             0             0                 0            0               0   \n",
       "4             0             0                 0            0               0   \n",
       "5             0             0                 0            0               0   \n",
       "6             0             0                 0            0               0   \n",
       "7             0             0                 0            0               0   \n",
       "8             0             0                 0            0               0   \n",
       "9             0             0                 0            0               0   \n",
       "\n",
       "   Sarjapur Road  Whitefield  \n",
       "0              0           0  \n",
       "1              0           0  \n",
       "2              0           0  \n",
       "3              0           0  \n",
       "4              0           0  \n",
       "5              0           0  \n",
       "6              0           0  \n",
       "7              0           0  \n",
       "8              0           0  \n",
       "9              0           0  \n",
       "\n",
       "[10 rows x 128 columns]"
      ]
     },
     "execution_count": 51,
     "metadata": {},
     "output_type": "execute_result"
    }
   ],
   "source": [
    "X = df4.drop(['rate'],axis='columns')\n",
    "X.head(10)"
   ]
  },
  {
   "cell_type": "code",
   "execution_count": 52,
   "metadata": {},
   "outputs": [
    {
     "data": {
      "text/plain": [
       "(43541, 128)"
      ]
     },
     "execution_count": 52,
     "metadata": {},
     "output_type": "execute_result"
    }
   ],
   "source": [
    "X.shape"
   ]
  },
  {
   "cell_type": "code",
   "execution_count": 53,
   "metadata": {},
   "outputs": [
    {
     "data": {
      "text/plain": [
       "0    4.1\n",
       "1    4.1\n",
       "2    3.8\n",
       "3    3.7\n",
       "4    3.8\n",
       "5    3.8\n",
       "6    3.6\n",
       "7    4.6\n",
       "8    4.0\n",
       "9    4.2\n",
       "Name: rate, dtype: float64"
      ]
     },
     "execution_count": 53,
     "metadata": {},
     "output_type": "execute_result"
    }
   ],
   "source": [
    "y = df4.rate\n",
    "y.head(10)"
   ]
  },
  {
   "cell_type": "code",
   "execution_count": 54,
   "metadata": {},
   "outputs": [
    {
     "data": {
      "text/plain": [
       "43541"
      ]
     },
     "execution_count": 54,
     "metadata": {},
     "output_type": "execute_result"
    }
   ],
   "source": [
    "len(y)"
   ]
  },
  {
   "cell_type": "code",
   "execution_count": 55,
   "metadata": {},
   "outputs": [
    {
     "name": "stderr",
     "output_type": "stream",
     "text": [
      "C:\\Users\\Suhal\\Anaconda3\\lib\\site-packages\\sklearn\\cross_validation.py:41: DeprecationWarning: This module was deprecated in version 0.18 in favor of the model_selection module into which all the refactored classes and functions are moved. Also note that the interface of the new CV iterators are different from that of this module. This module will be removed in 0.20.\n",
      "  \"This module will be removed in 0.20.\", DeprecationWarning)\n"
     ]
    }
   ],
   "source": [
    "#Spliting data into test and train\n",
    "\n",
    "from sklearn import metrics\n",
    "from sklearn.cross_validation import train_test_split\n",
    "from sklearn.metrics import r2_score, mean_squared_error\n",
    "\n",
    "X_train, X_test, y_train, y_test = train_test_split(X,y,test_size=0.20)"
   ]
  },
  {
   "cell_type": "markdown",
   "metadata": {},
   "source": [
    "KNN Regressor Model and Evalution"
   ]
  },
  {
   "cell_type": "code",
   "execution_count": 56,
   "metadata": {},
   "outputs": [],
   "source": [
    "from sklearn.neighbors import KNeighborsRegressor\n",
    "\n",
    "knn=KNeighborsRegressor(n_jobs=-1)\n",
    "knn.fit(X_train,y_train)\n",
    "\n",
    "Y_knn_pred = knn.predict(X_test)\n",
    "\n",
    "Y_knn_x_pred = knn.predict(X_train)"
   ]
  },
  {
   "cell_type": "code",
   "execution_count": 57,
   "metadata": {},
   "outputs": [
    {
     "name": "stdout",
     "output_type": "stream",
     "text": [
      "R-Square Score:  66.77713834312519\n"
     ]
    }
   ],
   "source": [
    "r2 = r2_score(y_test,Y_knn_pred)\n",
    "print('R-Square Score: ',r2*100)"
   ]
  },
  {
   "cell_type": "code",
   "execution_count": 58,
   "metadata": {},
   "outputs": [
    {
     "name": "stdout",
     "output_type": "stream",
     "text": [
      "RMSE value of Training dataset:0.18951393186143306\n",
      "RMSE value of testing dataset:0.24762706918793445\n"
     ]
    }
   ],
   "source": [
    "print(\"RMSE value of Training dataset:\" + np.sqrt(metrics.mean_squared_error(y_train,Y_knn_x_pred)).astype(str))\n",
    "print(\"RMSE value of testing dataset:\" + np.sqrt(metrics.mean_squared_error(y_test,Y_knn_pred)).astype(str))"
   ]
  },
  {
   "cell_type": "code",
   "execution_count": 59,
   "metadata": {},
   "outputs": [
    {
     "name": "stdout",
     "output_type": "stream",
     "text": [
      "Accuracy:  80.39511208639095\n"
     ]
    }
   ],
   "source": [
    "acc = knn.score(X_train,y_train)\n",
    "print('Accuracy: ',acc*100)"
   ]
  },
  {
   "cell_type": "code",
   "execution_count": 60,
   "metadata": {},
   "outputs": [
    {
     "name": "stdout",
     "output_type": "stream",
     "text": [
      "0.6314010665185037\n"
     ]
    },
    {
     "data": {
      "text/plain": [
       "array([0.63099375, 0.62008954, 0.63080465, 0.64371632])"
      ]
     },
     "execution_count": 60,
     "metadata": {},
     "output_type": "execute_result"
    }
   ],
   "source": [
    "from sklearn.model_selection import cross_val_score\n",
    "cv_res = cross_val_score(knn, X_train, y_train, cv=4, scoring=\"r2\")\n",
    "print(cv_res.mean())\n",
    "cv_res"
   ]
  },
  {
   "cell_type": "markdown",
   "metadata": {},
   "source": [
    "Linear Regression Model and Evalution"
   ]
  },
  {
   "cell_type": "code",
   "execution_count": 61,
   "metadata": {},
   "outputs": [],
   "source": [
    "from sklearn.linear_model import LinearRegression\n",
    "\n",
    "lr = LinearRegression()\n",
    "lr.fit(X_train,y_train)\n",
    "\n",
    "Y_lr_pred = lr.predict(X_test)\n",
    "\n",
    "Y_lr_x_pred = knn.predict(X_train)"
   ]
  },
  {
   "cell_type": "code",
   "execution_count": 62,
   "metadata": {},
   "outputs": [
    {
     "name": "stdout",
     "output_type": "stream",
     "text": [
      "R-Square Score:  33.67530054553255\n"
     ]
    }
   ],
   "source": [
    "r2 = r2_score(y_test,Y_lr_pred)\n",
    "print('R-Square Score: ',r2*100)"
   ]
  },
  {
   "cell_type": "code",
   "execution_count": 63,
   "metadata": {},
   "outputs": [
    {
     "name": "stdout",
     "output_type": "stream",
     "text": [
      "RMSE value of Training dataset:0.18951393186143306\n",
      "RMSE value of testing dataset:0.34987849038919117\n"
     ]
    }
   ],
   "source": [
    "print(\"RMSE value of Training dataset:\" + np.sqrt(metrics.mean_squared_error(y_train,Y_lr_x_pred)).astype(str))\n",
    "print(\"RMSE value of testing dataset:\" + np.sqrt(metrics.mean_squared_error(y_test,Y_lr_pred)).astype(str))"
   ]
  },
  {
   "cell_type": "code",
   "execution_count": 64,
   "metadata": {},
   "outputs": [
    {
     "name": "stdout",
     "output_type": "stream",
     "text": [
      "Accuracy:  34.91254587776572\n"
     ]
    }
   ],
   "source": [
    "acc = lr.score(X_train,y_train)\n",
    "print('Accuracy: ',acc*100)"
   ]
  },
  {
   "cell_type": "code",
   "execution_count": 65,
   "metadata": {},
   "outputs": [
    {
     "name": "stdout",
     "output_type": "stream",
     "text": [
      "0.34386609979060834\n"
     ]
    }
   ],
   "source": [
    "from sklearn.model_selection import cross_val_score\n",
    "cv_res = cross_val_score(lr, X_train, y_train, cv=4, scoring=\"r2\")\n",
    "print(cv_res.mean())"
   ]
  },
  {
   "cell_type": "code",
   "execution_count": 66,
   "metadata": {},
   "outputs": [
    {
     "data": {
      "text/plain": [
       "<matplotlib.collections.PathCollection at 0x1fc49abae10>"
      ]
     },
     "execution_count": 66,
     "metadata": {},
     "output_type": "execute_result"
    },
    {
     "data": {
      "image/png": "[encoded data removed]",
      "text/plain": [
       "<Figure size 864x504 with 1 Axes>"
      ]
     },
     "metadata": {},
     "output_type": "display_data"
    }
   ],
   "source": [
    "#plotting the KNN values predicated Rating\n",
    "\n",
    "plt.figure(figsize=(12,7))\n",
    "# preds_rf = knn.predict(X_test)\n",
    "plt.scatter(y_test,X_test.iloc[:,2],color=\"blue\")\n",
    "plt.title(\"True rate vs Predicted rate\",size=20,pad=15)\n",
    "plt.xlabel('Rating',size = 15)\n",
    "plt.ylabel('Frequency',size = 15)\n",
    "plt.scatter(Y_knn_pred,X_test.iloc[:,2],color=\"yellow\")"
   ]
  },
  {
   "cell_type": "code",
   "execution_count": 67,
   "metadata": {},
   "outputs": [
    {
     "data": {
      "text/plain": [
       "numpy.ndarray"
      ]
     },
     "execution_count": 67,
     "metadata": {},
     "output_type": "execute_result"
    }
   ],
   "source": [
    "type(Y_knn_pred)"
   ]
  },
  {
   "cell_type": "code",
   "execution_count": 68,
   "metadata": {},
   "outputs": [],
   "source": [
    "dfrating = pd.Series(Y_knn_pred)"
   ]
  },
  {
   "cell_type": "code",
   "execution_count": 69,
   "metadata": {},
   "outputs": [
    {
     "data": {
      "text/plain": [
       "0    4.10\n",
       "1    3.34\n",
       "2    3.90\n",
       "3    4.04\n",
       "4    4.02\n",
       "dtype: float64"
      ]
     },
     "execution_count": 69,
     "metadata": {},
     "output_type": "execute_result"
    }
   ],
   "source": [
    "dfrating.head()"
   ]
  },
  {
   "cell_type": "code",
   "execution_count": 70,
   "metadata": {},
   "outputs": [],
   "source": [
    "dfreco = pd.concat([dfname,dfrating,dflocation],axis=\"columns\")"
   ]
  },
  {
   "cell_type": "code",
   "execution_count": 71,
   "metadata": {},
   "outputs": [
    {
     "data": {
      "text/html": [
       "<div>\n",
       "<style scoped>\n",
       "    .dataframe tbody tr th:only-of-type {\n",
       "        vertical-align: middle;\n",
       "    }\n",
       "\n",
       "    .dataframe tbody tr th {\n",
       "        vertical-align: top;\n",
       "    }\n",
       "\n",
       "    .dataframe thead th {\n",
       "        text-align: right;\n",
       "    }\n",
       "</style>\n",
       "<table border=\"1\" class=\"dataframe\">\n",
       "  <thead>\n",
       "    <tr style=\"text-align: right;\">\n",
       "      <th></th>\n",
       "      <th>name</th>\n",
       "      <th>0</th>\n",
       "      <th>Location_in_City</th>\n",
       "    </tr>\n",
       "  </thead>\n",
       "  <tbody>\n",
       "    <tr>\n",
       "      <th>0</th>\n",
       "      <td>Jalsa</td>\n",
       "      <td>4.10</td>\n",
       "      <td>Banashankari</td>\n",
       "    </tr>\n",
       "    <tr>\n",
       "      <th>1</th>\n",
       "      <td>Spice Elephant</td>\n",
       "      <td>3.34</td>\n",
       "      <td>Banashankari</td>\n",
       "    </tr>\n",
       "    <tr>\n",
       "      <th>2</th>\n",
       "      <td>San Churro Cafe</td>\n",
       "      <td>3.90</td>\n",
       "      <td>Banashankari</td>\n",
       "    </tr>\n",
       "    <tr>\n",
       "      <th>3</th>\n",
       "      <td>Addhuri Udupi Bhojana</td>\n",
       "      <td>4.04</td>\n",
       "      <td>Banashankari</td>\n",
       "    </tr>\n",
       "    <tr>\n",
       "      <th>4</th>\n",
       "      <td>Grand Village</td>\n",
       "      <td>4.02</td>\n",
       "      <td>Banashankari</td>\n",
       "    </tr>\n",
       "  </tbody>\n",
       "</table>\n",
       "</div>"
      ],
      "text/plain": [
       "                    name     0 Location_in_City\n",
       "0                  Jalsa  4.10     Banashankari\n",
       "1         Spice Elephant  3.34     Banashankari\n",
       "2        San Churro Cafe  3.90     Banashankari\n",
       "3  Addhuri Udupi Bhojana  4.04     Banashankari\n",
       "4          Grand Village  4.02     Banashankari"
      ]
     },
     "execution_count": 71,
     "metadata": {},
     "output_type": "execute_result"
    }
   ],
   "source": [
    "dfreco.head()"
   ]
  },
  {
   "cell_type": "code",
   "execution_count": 72,
   "metadata": {},
   "outputs": [],
   "source": [
    "dfreco = dfreco.rename(columns={0:'Predicated_Rating'})"
   ]
  },
  {
   "cell_type": "code",
   "execution_count": 73,
   "metadata": {},
   "outputs": [
    {
     "data": {
      "text/html": [
       "<div>\n",
       "<style scoped>\n",
       "    .dataframe tbody tr th:only-of-type {\n",
       "        vertical-align: middle;\n",
       "    }\n",
       "\n",
       "    .dataframe tbody tr th {\n",
       "        vertical-align: top;\n",
       "    }\n",
       "\n",
       "    .dataframe thead th {\n",
       "        text-align: right;\n",
       "    }\n",
       "</style>\n",
       "<table border=\"1\" class=\"dataframe\">\n",
       "  <thead>\n",
       "    <tr style=\"text-align: right;\">\n",
       "      <th></th>\n",
       "      <th>name</th>\n",
       "      <th>Predicated_Rating</th>\n",
       "      <th>Location_in_City</th>\n",
       "    </tr>\n",
       "  </thead>\n",
       "  <tbody>\n",
       "    <tr>\n",
       "      <th>0</th>\n",
       "      <td>Jalsa</td>\n",
       "      <td>4.10</td>\n",
       "      <td>Banashankari</td>\n",
       "    </tr>\n",
       "    <tr>\n",
       "      <th>1</th>\n",
       "      <td>Spice Elephant</td>\n",
       "      <td>3.34</td>\n",
       "      <td>Banashankari</td>\n",
       "    </tr>\n",
       "    <tr>\n",
       "      <th>2</th>\n",
       "      <td>San Churro Cafe</td>\n",
       "      <td>3.90</td>\n",
       "      <td>Banashankari</td>\n",
       "    </tr>\n",
       "    <tr>\n",
       "      <th>3</th>\n",
       "      <td>Addhuri Udupi Bhojana</td>\n",
       "      <td>4.04</td>\n",
       "      <td>Banashankari</td>\n",
       "    </tr>\n",
       "    <tr>\n",
       "      <th>4</th>\n",
       "      <td>Grand Village</td>\n",
       "      <td>4.02</td>\n",
       "      <td>Banashankari</td>\n",
       "    </tr>\n",
       "  </tbody>\n",
       "</table>\n",
       "</div>"
      ],
      "text/plain": [
       "                    name  Predicated_Rating Location_in_City\n",
       "0                  Jalsa               4.10     Banashankari\n",
       "1         Spice Elephant               3.34     Banashankari\n",
       "2        San Churro Cafe               3.90     Banashankari\n",
       "3  Addhuri Udupi Bhojana               4.04     Banashankari\n",
       "4          Grand Village               4.02     Banashankari"
      ]
     },
     "execution_count": 73,
     "metadata": {},
     "output_type": "execute_result"
    }
   ],
   "source": [
    "dfreco.head()"
   ]
  },
  {
   "cell_type": "code",
   "execution_count": 74,
   "metadata": {},
   "outputs": [
    {
     "data": {
      "text/html": [
       "        <script type=\"text/javascript\">\n",
       "        window.PlotlyConfig = {MathJaxConfig: 'local'};\n",
       "        if (window.MathJax) {MathJax.Hub.Config({SVG: {font: \"STIX-Web\"}});}\n",
       "        if (typeof require !== 'undefined') {\n",
       "        require.undef(\"plotly\");\n",
       "        requirejs.config({\n",
       "            paths: {\n",
       "                'plotly': ['https://cdn.plot.ly/plotly-latest.min']\n",
       "            }\n",
       "        });\n",
       "        require(['plotly'], function(Plotly) {\n",
       "            window._Plotly = Plotly;\n",
       "        });\n",
       "        }\n",
       "        </script>\n",
       "        "
      ]
     },
     "metadata": {},
     "output_type": "display_data"
    },
    {
     "data": {
      "text/html": [
       "        <script type=\"text/javascript\">\n",
       "        window.PlotlyConfig = {MathJaxConfig: 'local'};\n",
       "        if (window.MathJax) {MathJax.Hub.Config({SVG: {font: \"STIX-Web\"}});}\n",
       "        if (typeof require !== 'undefined') {\n",
       "        require.undef(\"plotly\");\n",
       "        requirejs.config({\n",
       "            paths: {\n",
       "                'plotly': ['https://cdn.plot.ly/plotly-latest.min']\n",
       "            }\n",
       "        });\n",
       "        require(['plotly'], function(Plotly) {\n",
       "            window._Plotly = Plotly;\n",
       "        });\n",
       "        }\n",
       "        </script>\n",
       "        "
      ]
     },
     "metadata": {},
     "output_type": "display_data"
    }
   ],
   "source": [
    "import pandas as pd\n",
    "import matplotlib.pyplot as plt\n",
    "import seaborn as sns\n",
    "import numpy as np\n",
    "from plotly.offline  import download_plotlyjs,init_notebook_mode,plot, iplot\n",
    "from plotly.offline import init_notebook_mode\n",
    "init_notebook_mode(connected=True)\n",
    "import cufflinks as cf\n",
    "import warnings\n",
    "warnings.filterwarnings('ignore')\n",
    "%matplotlib inline\n",
    "cf.go_offline()"
   ]
  },
  {
   "cell_type": "code",
   "execution_count": 75,
   "metadata": {},
   "outputs": [
    {
     "data": {
      "application/vnd.plotly.v1+json": {
       "config": {
        "linkText": "Export to plot.ly",
        "plotlyServerURL": "https://plot.ly",
        "showLink": true
       },
       "data": [
        {
         "labels": [
          "Cafe Coffee Day",
          "Five Star Chicken",
          "Onesta",
          "Petoo",
          "Just Bake"
         ],
         "marker": {
          "colors": [
           "rgba(255, 153, 51, 1.0)",
           "rgba(55, 128, 191, 1.0)",
           "rgba(50, 171, 96, 1.0)",
           "rgba(128, 0, 128, 1.0)",
           "rgba(219, 64, 82, 1.0)"
          ]
         },
         "name": "",
         "type": "pie",
         "values": [
          81.72195779118506,
          62.44195779118508,
          62.10195779118507,
          54.68,
          53.94391558237016
         ]
        }
       ],
       "layout": {
        "legend": {
         "bgcolor": "#F5F6F9",
         "font": {
          "color": "#4D5663"
         }
        },
        "paper_bgcolor": "#F5F6F9",
        "plot_bgcolor": "#F5F6F9",
        "title": "Top Resturent with most Ratings",
        "titlefont": {
         "color": "#4D5663"
        }
       }
      },
      "text/html": [
       "<div>\n",
       "        \n",
       "        \n",
       "            <div id=\"dee95ed2-a39e-4b7e-82c3-ae8b1b9e99ab\" class=\"plotly-graph-div\" style=\"height:525px; width:100%;\"></div>\n",
       "            <script type=\"text/javascript\">\n",
       "                require([\"plotly\"], function(Plotly) {\n",
       "                    window.PLOTLYENV=window.PLOTLYENV || {};\n",
       "                    window.PLOTLYENV.BASE_URL='https://plot.ly';\n",
       "                    \n",
       "                if (document.getElementById(\"dee95ed2-a39e-4b7e-82c3-ae8b1b9e99ab\")) {\n",
       "                    Plotly.newPlot(\n",
       "                        'dee95ed2-a39e-4b7e-82c3-ae8b1b9e99ab',\n",
       "                        [{\"labels\": [\"Cafe Coffee Day\", \"Five Star Chicken\", \"Onesta\", \"Petoo\", \"Just Bake\"], \"marker\": {\"colors\": [\"rgba(255, 153, 51, 1.0)\", \"rgba(55, 128, 191, 1.0)\", \"rgba(50, 171, 96, 1.0)\", \"rgba(128, 0, 128, 1.0)\", \"rgba(219, 64, 82, 1.0)\"]}, \"name\": \"\", \"type\": \"pie\", \"values\": [81.72195779118506, 62.44195779118508, 62.10195779118507, 54.68, 53.94391558237016]}],\n",
       "                        {\"legend\": {\"bgcolor\": \"#F5F6F9\", \"font\": {\"color\": \"#4D5663\"}}, \"paper_bgcolor\": \"#F5F6F9\", \"plot_bgcolor\": \"#F5F6F9\", \"title\": \"Top Resturent with most Ratings\", \"titlefont\": {\"color\": \"#4D5663\"}},\n",
       "                        {\"showLink\": true, \"linkText\": \"Export to plot.ly\", \"plotlyServerURL\": \"https://plot.ly\", \"responsive\": true}\n",
       "                    ).then(function(){\n",
       "                            \n",
       "var gd = document.getElementById('dee95ed2-a39e-4b7e-82c3-ae8b1b9e99ab');\n",
       "var x = new MutationObserver(function (mutations, observer) {{\n",
       "        var display = window.getComputedStyle(gd).display;\n",
       "        if (!display || display === 'none') {{\n",
       "            console.log([gd, 'removed!']);\n",
       "            Plotly.purge(gd);\n",
       "            observer.disconnect();\n",
       "        }}\n",
       "}});\n",
       "\n",
       "// Listen for the removal of the full notebook cells\n",
       "var notebookContainer = gd.closest('#notebook-container');\n",
       "if (notebookContainer) {{\n",
       "    x.observe(notebookContainer, {childList: true});\n",
       "}}\n",
       "\n",
       "// Listen for the clearing of the current output cell\n",
       "var outputEl = gd.closest('.output');\n",
       "if (outputEl) {{\n",
       "    x.observe(outputEl, {childList: true});\n",
       "}}\n",
       "\n",
       "                        })\n",
       "                };\n",
       "                });\n",
       "            </script>\n",
       "        </div>"
      ]
     },
     "metadata": {},
     "output_type": "display_data"
    }
   ],
   "source": [
    "rest = pd.pivot_table(data = dfreco, index = 'name', values = 'Predicated_Rating' , aggfunc = np.sum).reset_index()\n",
    "rest = rest.sort_values(by = 'Predicated_Rating', ascending = False).reset_index(drop=True)\n",
    "rest.head(5).iplot(kind = 'pie', labels= 'name', values= 'Predicated_Rating', title = 'Top Resturent with most Ratings' )"
   ]
  },
  {
   "cell_type": "code",
   "execution_count": 76,
   "metadata": {},
   "outputs": [
    {
     "data": {
      "application/vnd.plotly.v1+json": {
       "config": {
        "linkText": "Export to plot.ly",
        "plotlyServerURL": "https://plot.ly",
        "showLink": true
       },
       "data": [
        {
         "marker": {
          "color": "rgba(255, 153, 51, 0.6)",
          "line": {
           "color": "rgba(255, 153, 51, 1.0)",
           "width": 1
          }
         },
         "name": "Predicated_Rating",
         "orientation": "v",
         "text": "",
         "type": "bar",
         "x": [
          "Brigade Road",
          "Bannerghatta Road",
          "Brookefield",
          "Basavanagudi",
          "Bellandur",
          "Banashankari",
          "BTM",
          "Marathahalli",
          "Lavelle Road",
          "MG Road"
         ],
         "y": [
          5683.639364202472,
          4904.377406411286,
          4633.855148651601,
          4212.951955125881,
          3805.9586421458234,
          2844.5520467156107,
          1601.974426594945,
          0,
          0,
          0
         ]
        }
       ],
       "layout": {
        "legend": {
         "bgcolor": "#F5F6F9",
         "font": {
          "color": "#4D5663"
         }
        },
        "paper_bgcolor": "#F5F6F9",
        "plot_bgcolor": "#F5F6F9",
        "template": {
         "data": {
          "bar": [
           {
            "error_x": {
             "color": "#2a3f5f"
            },
            "error_y": {
             "color": "#2a3f5f"
            },
            "marker": {
             "line": {
              "color": "#E5ECF6",
              "width": 0.5
             }
            },
            "type": "bar"
           }
          ],
          "barpolar": [
           {
            "marker": {
             "line": {
              "color": "#E5ECF6",
              "width": 0.5
             }
            },
            "type": "barpolar"
           }
          ],
          "carpet": [
           {
            "aaxis": {
             "endlinecolor": "#2a3f5f",
             "gridcolor": "white",
             "linecolor": "white",
             "minorgridcolor": "white",
             "startlinecolor": "#2a3f5f"
            },
            "baxis": {
             "endlinecolor": "#2a3f5f",
             "gridcolor": "white",
             "linecolor": "white",
             "minorgridcolor": "white",
             "startlinecolor": "#2a3f5f"
            },
            "type": "carpet"
           }
          ],
          "choropleth": [
           {
            "colorbar": {
             "outlinewidth": 0,
             "ticks": ""
            },
            "type": "choropleth"
           }
          ],
          "contour": [
           {
            "colorbar": {
             "outlinewidth": 0,
             "ticks": ""
            },
            "colorscale": [
             [
              0,
              "#0d0887"
             ],
             [
              0.1111111111111111,
              "#46039f"
             ],
             [
              0.2222222222222222,
              "#7201a8"
             ],
             [
              0.3333333333333333,
              "#9c179e"
             ],
             [
              0.4444444444444444,
              "#bd3786"
             ],
             [
              0.5555555555555556,
              "#d8576b"
             ],
             [
              0.6666666666666666,
              "#ed7953"
             ],
             [
              0.7777777777777778,
              "#fb9f3a"
             ],
             [
              0.8888888888888888,
              "#fdca26"
             ],
             [
              1,
              "#f0f921"
             ]
            ],
            "type": "contour"
           }
          ],
          "contourcarpet": [
           {
            "colorbar": {
             "outlinewidth": 0,
             "ticks": ""
            },
            "type": "contourcarpet"
           }
          ],
          "heatmap": [
           {
            "colorbar": {
             "outlinewidth": 0,
             "ticks": ""
            },
            "colorscale": [
             [
              0,
              "#0d0887"
             ],
             [
              0.1111111111111111,
              "#46039f"
             ],
             [
              0.2222222222222222,
              "#7201a8"
             ],
             [
              0.3333333333333333,
              "#9c179e"
             ],
             [
              0.4444444444444444,
              "#bd3786"
             ],
             [
              0.5555555555555556,
              "#d8576b"
             ],
             [
              0.6666666666666666,
              "#ed7953"
             ],
             [
              0.7777777777777778,
              "#fb9f3a"
             ],
             [
              0.8888888888888888,
              "#fdca26"
             ],
             [
              1,
              "#f0f921"
             ]
            ],
            "type": "heatmap"
           }
          ],
          "heatmapgl": [
           {
            "colorbar": {
             "outlinewidth": 0,
             "ticks": ""
            },
            "colorscale": [
             [
              0,
              "#0d0887"
             ],
             [
              0.1111111111111111,
              "#46039f"
             ],
             [
              0.2222222222222222,
              "#7201a8"
             ],
             [
              0.3333333333333333,
              "#9c179e"
             ],
             [
              0.4444444444444444,
              "#bd3786"
             ],
             [
              0.5555555555555556,
              "#d8576b"
             ],
             [
              0.6666666666666666,
              "#ed7953"
             ],
             [
              0.7777777777777778,
              "#fb9f3a"
             ],
             [
              0.8888888888888888,
              "#fdca26"
             ],
             [
              1,
              "#f0f921"
             ]
            ],
            "type": "heatmapgl"
           }
          ],
          "histogram": [
           {
            "marker": {
             "colorbar": {
              "outlinewidth": 0,
              "ticks": ""
             }
            },
            "type": "histogram"
           }
          ],
          "histogram2d": [
           {
            "colorbar": {
             "outlinewidth": 0,
             "ticks": ""
            },
            "colorscale": [
             [
              0,
              "#0d0887"
             ],
             [
              0.1111111111111111,
              "#46039f"
             ],
             [
              0.2222222222222222,
              "#7201a8"
             ],
             [
              0.3333333333333333,
              "#9c179e"
             ],
             [
              0.4444444444444444,
              "#bd3786"
             ],
             [
              0.5555555555555556,
              "#d8576b"
             ],
             [
              0.6666666666666666,
              "#ed7953"
             ],
             [
              0.7777777777777778,
              "#fb9f3a"
             ],
             [
              0.8888888888888888,
              "#fdca26"
             ],
             [
              1,
              "#f0f921"
             ]
            ],
            "type": "histogram2d"
           }
          ],
          "histogram2dcontour": [
           {
            "colorbar": {
             "outlinewidth": 0,
             "ticks": ""
            },
            "colorscale": [
             [
              0,
              "#0d0887"
             ],
             [
              0.1111111111111111,
              "#46039f"
             ],
             [
              0.2222222222222222,
              "#7201a8"
             ],
             [
              0.3333333333333333,
              "#9c179e"
             ],
             [
              0.4444444444444444,
              "#bd3786"
             ],
             [
              0.5555555555555556,
              "#d8576b"
             ],
             [
              0.6666666666666666,
              "#ed7953"
             ],
             [
              0.7777777777777778,
              "#fb9f3a"
             ],
             [
              0.8888888888888888,
              "#fdca26"
             ],
             [
              1,
              "#f0f921"
             ]
            ],
            "type": "histogram2dcontour"
           }
          ],
          "mesh3d": [
           {
            "colorbar": {
             "outlinewidth": 0,
             "ticks": ""
            },
            "type": "mesh3d"
           }
          ],
          "parcoords": [
           {
            "line": {
             "colorbar": {
              "outlinewidth": 0,
              "ticks": ""
             }
            },
            "type": "parcoords"
           }
          ],
          "pie": [
           {
            "automargin": true,
            "type": "pie"
           }
          ],
          "scatter": [
           {
            "marker": {
             "colorbar": {
              "outlinewidth": 0,
              "ticks": ""
             }
            },
            "type": "scatter"
           }
          ],
          "scatter3d": [
           {
            "line": {
             "colorbar": {
              "outlinewidth": 0,
              "ticks": ""
             }
            },
            "marker": {
             "colorbar": {
              "outlinewidth": 0,
              "ticks": ""
             }
            },
            "type": "scatter3d"
           }
          ],
          "scattercarpet": [
           {
            "marker": {
             "colorbar": {
              "outlinewidth": 0,
              "ticks": ""
             }
            },
            "type": "scattercarpet"
           }
          ],
          "scattergeo": [
           {
            "marker": {
             "colorbar": {
              "outlinewidth": 0,
              "ticks": ""
             }
            },
            "type": "scattergeo"
           }
          ],
          "scattergl": [
           {
            "marker": {
             "colorbar": {
              "outlinewidth": 0,
              "ticks": ""
             }
            },
            "type": "scattergl"
           }
          ],
          "scattermapbox": [
           {
            "marker": {
             "colorbar": {
              "outlinewidth": 0,
              "ticks": ""
             }
            },
            "type": "scattermapbox"
           }
          ],
          "scatterpolar": [
           {
            "marker": {
             "colorbar": {
              "outlinewidth": 0,
              "ticks": ""
             }
            },
            "type": "scatterpolar"
           }
          ],
          "scatterpolargl": [
           {
            "marker": {
             "colorbar": {
              "outlinewidth": 0,
              "ticks": ""
             }
            },
            "type": "scatterpolargl"
           }
          ],
          "scatterternary": [
           {
            "marker": {
             "colorbar": {
              "outlinewidth": 0,
              "ticks": ""
             }
            },
            "type": "scatterternary"
           }
          ],
          "surface": [
           {
            "colorbar": {
             "outlinewidth": 0,
             "ticks": ""
            },
            "colorscale": [
             [
              0,
              "#0d0887"
             ],
             [
              0.1111111111111111,
              "#46039f"
             ],
             [
              0.2222222222222222,
              "#7201a8"
             ],
             [
              0.3333333333333333,
              "#9c179e"
             ],
             [
              0.4444444444444444,
              "#bd3786"
             ],
             [
              0.5555555555555556,
              "#d8576b"
             ],
             [
              0.6666666666666666,
              "#ed7953"
             ],
             [
              0.7777777777777778,
              "#fb9f3a"
             ],
             [
              0.8888888888888888,
              "#fdca26"
             ],
             [
              1,
              "#f0f921"
             ]
            ],
            "type": "surface"
           }
          ],
          "table": [
           {
            "cells": {
             "fill": {
              "color": "#EBF0F8"
             },
             "line": {
              "color": "white"
             }
            },
            "header": {
             "fill": {
              "color": "#C8D4E3"
             },
             "line": {
              "color": "white"
             }
            },
            "type": "table"
           }
          ]
         },
         "layout": {
          "annotationdefaults": {
           "arrowcolor": "#2a3f5f",
           "arrowhead": 0,
           "arrowwidth": 1
          },
          "coloraxis": {
           "colorbar": {
            "outlinewidth": 0,
            "ticks": ""
           }
          },
          "colorscale": {
           "diverging": [
            [
             0,
             "#8e0152"
            ],
            [
             0.1,
             "#c51b7d"
            ],
            [
             0.2,
             "#de77ae"
            ],
            [
             0.3,
             "#f1b6da"
            ],
            [
             0.4,
             "#fde0ef"
            ],
            [
             0.5,
             "#f7f7f7"
            ],
            [
             0.6,
             "#e6f5d0"
            ],
            [
             0.7,
             "#b8e186"
            ],
            [
             0.8,
             "#7fbc41"
            ],
            [
             0.9,
             "#4d9221"
            ],
            [
             1,
             "#276419"
            ]
           ],
           "sequential": [
            [
             0,
             "#0d0887"
            ],
            [
             0.1111111111111111,
             "#46039f"
            ],
            [
             0.2222222222222222,
             "#7201a8"
            ],
            [
             0.3333333333333333,
             "#9c179e"
            ],
            [
             0.4444444444444444,
             "#bd3786"
            ],
            [
             0.5555555555555556,
             "#d8576b"
            ],
            [
             0.6666666666666666,
             "#ed7953"
            ],
            [
             0.7777777777777778,
             "#fb9f3a"
            ],
            [
             0.8888888888888888,
             "#fdca26"
            ],
            [
             1,
             "#f0f921"
            ]
           ],
           "sequentialminus": [
            [
             0,
             "#0d0887"
            ],
            [
             0.1111111111111111,
             "#46039f"
            ],
            [
             0.2222222222222222,
             "#7201a8"
            ],
            [
             0.3333333333333333,
             "#9c179e"
            ],
            [
             0.4444444444444444,
             "#bd3786"
            ],
            [
             0.5555555555555556,
             "#d8576b"
            ],
            [
             0.6666666666666666,
             "#ed7953"
            ],
            [
             0.7777777777777778,
             "#fb9f3a"
            ],
            [
             0.8888888888888888,
             "#fdca26"
            ],
            [
             1,
             "#f0f921"
            ]
           ]
          },
          "colorway": [
           "#636efa",
           "#EF553B",
           "#00cc96",
           "#ab63fa",
           "#FFA15A",
           "#19d3f3",
           "#FF6692",
           "#B6E880",
           "#FF97FF",
           "#FECB52"
          ],
          "font": {
           "color": "#2a3f5f"
          },
          "geo": {
           "bgcolor": "white",
           "lakecolor": "white",
           "landcolor": "#E5ECF6",
           "showlakes": true,
           "showland": true,
           "subunitcolor": "white"
          },
          "hoverlabel": {
           "align": "left"
          },
          "hovermode": "closest",
          "mapbox": {
           "style": "light"
          },
          "paper_bgcolor": "white",
          "plot_bgcolor": "#E5ECF6",
          "polar": {
           "angularaxis": {
            "gridcolor": "white",
            "linecolor": "white",
            "ticks": ""
           },
           "bgcolor": "#E5ECF6",
           "radialaxis": {
            "gridcolor": "white",
            "linecolor": "white",
            "ticks": ""
           }
          },
          "scene": {
           "xaxis": {
            "backgroundcolor": "#E5ECF6",
            "gridcolor": "white",
            "gridwidth": 2,
            "linecolor": "white",
            "showbackground": true,
            "ticks": "",
            "zerolinecolor": "white"
           },
           "yaxis": {
            "backgroundcolor": "#E5ECF6",
            "gridcolor": "white",
            "gridwidth": 2,
            "linecolor": "white",
            "showbackground": true,
            "ticks": "",
            "zerolinecolor": "white"
           },
           "zaxis": {
            "backgroundcolor": "#E5ECF6",
            "gridcolor": "white",
            "gridwidth": 2,
            "linecolor": "white",
            "showbackground": true,
            "ticks": "",
            "zerolinecolor": "white"
           }
          },
          "shapedefaults": {
           "line": {
            "color": "#2a3f5f"
           }
          },
          "ternary": {
           "aaxis": {
            "gridcolor": "white",
            "linecolor": "white",
            "ticks": ""
           },
           "baxis": {
            "gridcolor": "white",
            "linecolor": "white",
            "ticks": ""
           },
           "bgcolor": "#E5ECF6",
           "caxis": {
            "gridcolor": "white",
            "linecolor": "white",
            "ticks": ""
           }
          },
          "title": {
           "x": 0.05
          },
          "xaxis": {
           "automargin": true,
           "gridcolor": "white",
           "linecolor": "white",
           "ticks": "",
           "title": {
            "standoff": 15
           },
           "zerolinecolor": "white",
           "zerolinewidth": 2
          },
          "yaxis": {
           "automargin": true,
           "gridcolor": "white",
           "linecolor": "white",
           "ticks": "",
           "title": {
            "standoff": 15
           },
           "zerolinecolor": "white",
           "zerolinewidth": 2
          }
         }
        },
        "title": {
         "font": {
          "color": "#4D5663"
         },
         "text": " Top 10 loaction with most number of Rating "
        },
        "xaxis": {
         "gridcolor": "#E1E5ED",
         "showgrid": true,
         "tickfont": {
          "color": "#4D5663"
         },
         "title": {
          "font": {
           "color": "#4D5663"
          },
          "text": ""
         },
         "zerolinecolor": "#E1E5ED"
        },
        "yaxis": {
         "gridcolor": "#E1E5ED",
         "showgrid": true,
         "tickfont": {
          "color": "#4D5663"
         },
         "title": {
          "font": {
           "color": "#4D5663"
          },
          "text": ""
         },
         "zerolinecolor": "#E1E5ED"
        }
       }
      },
      "text/html": [
       "<div>\n",
       "        \n",
       "        \n",
       "            <div id=\"f98ddd72-48fe-4e45-935a-c43dd2a0eab8\" class=\"plotly-graph-div\" style=\"height:525px; width:100%;\"></div>\n",
       "            <script type=\"text/javascript\">\n",
       "                require([\"plotly\"], function(Plotly) {\n",
       "                    window.PLOTLYENV=window.PLOTLYENV || {};\n",
       "                    window.PLOTLYENV.BASE_URL='https://plot.ly';\n",
       "                    \n",
       "                if (document.getElementById(\"f98ddd72-48fe-4e45-935a-c43dd2a0eab8\")) {\n",
       "                    Plotly.newPlot(\n",
       "                        'f98ddd72-48fe-4e45-935a-c43dd2a0eab8',\n",
       "                        [{\"marker\": {\"color\": \"rgba(255, 153, 51, 0.6)\", \"line\": {\"color\": \"rgba(255, 153, 51, 1.0)\", \"width\": 1}}, \"name\": \"Predicated_Rating\", \"orientation\": \"v\", \"text\": \"\", \"type\": \"bar\", \"x\": [\"Brigade Road\", \"Bannerghatta Road\", \"Brookefield\", \"Basavanagudi\", \"Bellandur\", \"Banashankari\", \"BTM\", \"Marathahalli\", \"Lavelle Road\", \"MG Road\"], \"y\": [5683.639364202472, 4904.377406411286, 4633.855148651601, 4212.951955125881, 3805.9586421458234, 2844.5520467156107, 1601.974426594945, 0.0, 0.0, 0.0]}],\n",
       "                        {\"legend\": {\"bgcolor\": \"#F5F6F9\", \"font\": {\"color\": \"#4D5663\"}}, \"paper_bgcolor\": \"#F5F6F9\", \"plot_bgcolor\": \"#F5F6F9\", \"template\": {\"data\": {\"bar\": [{\"error_x\": {\"color\": \"#2a3f5f\"}, \"error_y\": {\"color\": \"#2a3f5f\"}, \"marker\": {\"line\": {\"color\": \"#E5ECF6\", \"width\": 0.5}}, \"type\": \"bar\"}], \"barpolar\": [{\"marker\": {\"line\": {\"color\": \"#E5ECF6\", \"width\": 0.5}}, \"type\": \"barpolar\"}], \"carpet\": [{\"aaxis\": {\"endlinecolor\": \"#2a3f5f\", \"gridcolor\": \"white\", \"linecolor\": \"white\", \"minorgridcolor\": \"white\", \"startlinecolor\": \"#2a3f5f\"}, \"baxis\": {\"endlinecolor\": \"#2a3f5f\", \"gridcolor\": \"white\", \"linecolor\": \"white\", \"minorgridcolor\": \"white\", \"startlinecolor\": \"#2a3f5f\"}, \"type\": \"carpet\"}], \"choropleth\": [{\"colorbar\": {\"outlinewidth\": 0, \"ticks\": \"\"}, \"type\": \"choropleth\"}], \"contour\": [{\"colorbar\": {\"outlinewidth\": 0, \"ticks\": \"\"}, \"colorscale\": [[0.0, \"#0d0887\"], [0.1111111111111111, \"#46039f\"], [0.2222222222222222, \"#7201a8\"], [0.3333333333333333, \"#9c179e\"], [0.4444444444444444, \"#bd3786\"], [0.5555555555555556, \"#d8576b\"], [0.6666666666666666, \"#ed7953\"], [0.7777777777777778, \"#fb9f3a\"], [0.8888888888888888, \"#fdca26\"], [1.0, \"#f0f921\"]], \"type\": \"contour\"}], \"contourcarpet\": [{\"colorbar\": {\"outlinewidth\": 0, \"ticks\": \"\"}, \"type\": \"contourcarpet\"}], \"heatmap\": [{\"colorbar\": {\"outlinewidth\": 0, \"ticks\": \"\"}, \"colorscale\": [[0.0, \"#0d0887\"], [0.1111111111111111, \"#46039f\"], [0.2222222222222222, \"#7201a8\"], [0.3333333333333333, \"#9c179e\"], [0.4444444444444444, \"#bd3786\"], [0.5555555555555556, \"#d8576b\"], [0.6666666666666666, \"#ed7953\"], [0.7777777777777778, \"#fb9f3a\"], [0.8888888888888888, \"#fdca26\"], [1.0, \"#f0f921\"]], \"type\": \"heatmap\"}], \"heatmapgl\": [{\"colorbar\": {\"outlinewidth\": 0, \"ticks\": \"\"}, \"colorscale\": [[0.0, \"#0d0887\"], [0.1111111111111111, \"#46039f\"], [0.2222222222222222, \"#7201a8\"], [0.3333333333333333, \"#9c179e\"], [0.4444444444444444, \"#bd3786\"], [0.5555555555555556, \"#d8576b\"], [0.6666666666666666, \"#ed7953\"], [0.7777777777777778, \"#fb9f3a\"], [0.8888888888888888, \"#fdca26\"], [1.0, \"#f0f921\"]], \"type\": \"heatmapgl\"}], \"histogram\": [{\"marker\": {\"colorbar\": {\"outlinewidth\": 0, \"ticks\": \"\"}}, \"type\": \"histogram\"}], \"histogram2d\": [{\"colorbar\": {\"outlinewidth\": 0, \"ticks\": \"\"}, \"colorscale\": [[0.0, \"#0d0887\"], [0.1111111111111111, \"#46039f\"], [0.2222222222222222, \"#7201a8\"], [0.3333333333333333, \"#9c179e\"], [0.4444444444444444, \"#bd3786\"], [0.5555555555555556, \"#d8576b\"], [0.6666666666666666, \"#ed7953\"], [0.7777777777777778, \"#fb9f3a\"], [0.8888888888888888, \"#fdca26\"], [1.0, \"#f0f921\"]], \"type\": \"histogram2d\"}], \"histogram2dcontour\": [{\"colorbar\": {\"outlinewidth\": 0, \"ticks\": \"\"}, \"colorscale\": [[0.0, \"#0d0887\"], [0.1111111111111111, \"#46039f\"], [0.2222222222222222, \"#7201a8\"], [0.3333333333333333, \"#9c179e\"], [0.4444444444444444, \"#bd3786\"], [0.5555555555555556, \"#d8576b\"], [0.6666666666666666, \"#ed7953\"], [0.7777777777777778, \"#fb9f3a\"], [0.8888888888888888, \"#fdca26\"], [1.0, \"#f0f921\"]], \"type\": \"histogram2dcontour\"}], \"mesh3d\": [{\"colorbar\": {\"outlinewidth\": 0, \"ticks\": \"\"}, \"type\": \"mesh3d\"}], \"parcoords\": [{\"line\": {\"colorbar\": {\"outlinewidth\": 0, \"ticks\": \"\"}}, \"type\": \"parcoords\"}], \"pie\": [{\"automargin\": true, \"type\": \"pie\"}], \"scatter\": [{\"marker\": {\"colorbar\": {\"outlinewidth\": 0, \"ticks\": \"\"}}, \"type\": \"scatter\"}], \"scatter3d\": [{\"line\": {\"colorbar\": {\"outlinewidth\": 0, \"ticks\": \"\"}}, \"marker\": {\"colorbar\": {\"outlinewidth\": 0, \"ticks\": \"\"}}, \"type\": \"scatter3d\"}], \"scattercarpet\": [{\"marker\": {\"colorbar\": {\"outlinewidth\": 0, \"ticks\": \"\"}}, \"type\": \"scattercarpet\"}], \"scattergeo\": [{\"marker\": {\"colorbar\": {\"outlinewidth\": 0, \"ticks\": \"\"}}, \"type\": \"scattergeo\"}], \"scattergl\": [{\"marker\": {\"colorbar\": {\"outlinewidth\": 0, \"ticks\": \"\"}}, \"type\": \"scattergl\"}], \"scattermapbox\": [{\"marker\": {\"colorbar\": {\"outlinewidth\": 0, \"ticks\": \"\"}}, \"type\": \"scattermapbox\"}], \"scatterpolar\": [{\"marker\": {\"colorbar\": {\"outlinewidth\": 0, \"ticks\": \"\"}}, \"type\": \"scatterpolar\"}], \"scatterpolargl\": [{\"marker\": {\"colorbar\": {\"outlinewidth\": 0, \"ticks\": \"\"}}, \"type\": \"scatterpolargl\"}], \"scatterternary\": [{\"marker\": {\"colorbar\": {\"outlinewidth\": 0, \"ticks\": \"\"}}, \"type\": \"scatterternary\"}], \"surface\": [{\"colorbar\": {\"outlinewidth\": 0, \"ticks\": \"\"}, \"colorscale\": [[0.0, \"#0d0887\"], [0.1111111111111111, \"#46039f\"], [0.2222222222222222, \"#7201a8\"], [0.3333333333333333, \"#9c179e\"], [0.4444444444444444, \"#bd3786\"], [0.5555555555555556, \"#d8576b\"], [0.6666666666666666, \"#ed7953\"], [0.7777777777777778, \"#fb9f3a\"], [0.8888888888888888, \"#fdca26\"], [1.0, \"#f0f921\"]], \"type\": \"surface\"}], \"table\": [{\"cells\": {\"fill\": {\"color\": \"#EBF0F8\"}, \"line\": {\"color\": \"white\"}}, \"header\": {\"fill\": {\"color\": \"#C8D4E3\"}, \"line\": {\"color\": \"white\"}}, \"type\": \"table\"}]}, \"layout\": {\"annotationdefaults\": {\"arrowcolor\": \"#2a3f5f\", \"arrowhead\": 0, \"arrowwidth\": 1}, \"coloraxis\": {\"colorbar\": {\"outlinewidth\": 0, \"ticks\": \"\"}}, \"colorscale\": {\"diverging\": [[0, \"#8e0152\"], [0.1, \"#c51b7d\"], [0.2, \"#de77ae\"], [0.3, \"#f1b6da\"], [0.4, \"#fde0ef\"], [0.5, \"#f7f7f7\"], [0.6, \"#e6f5d0\"], [0.7, \"#b8e186\"], [0.8, \"#7fbc41\"], [0.9, \"#4d9221\"], [1, \"#276419\"]], \"sequential\": [[0.0, \"#0d0887\"], [0.1111111111111111, \"#46039f\"], [0.2222222222222222, \"#7201a8\"], [0.3333333333333333, \"#9c179e\"], [0.4444444444444444, \"#bd3786\"], [0.5555555555555556, \"#d8576b\"], [0.6666666666666666, \"#ed7953\"], [0.7777777777777778, \"#fb9f3a\"], [0.8888888888888888, \"#fdca26\"], [1.0, \"#f0f921\"]], \"sequentialminus\": [[0.0, \"#0d0887\"], [0.1111111111111111, \"#46039f\"], [0.2222222222222222, \"#7201a8\"], [0.3333333333333333, \"#9c179e\"], [0.4444444444444444, \"#bd3786\"], [0.5555555555555556, \"#d8576b\"], [0.6666666666666666, \"#ed7953\"], [0.7777777777777778, \"#fb9f3a\"], [0.8888888888888888, \"#fdca26\"], [1.0, \"#f0f921\"]]}, \"colorway\": [\"#636efa\", \"#EF553B\", \"#00cc96\", \"#ab63fa\", \"#FFA15A\", \"#19d3f3\", \"#FF6692\", \"#B6E880\", \"#FF97FF\", \"#FECB52\"], \"font\": {\"color\": \"#2a3f5f\"}, \"geo\": {\"bgcolor\": \"white\", \"lakecolor\": \"white\", \"landcolor\": \"#E5ECF6\", \"showlakes\": true, \"showland\": true, \"subunitcolor\": \"white\"}, \"hoverlabel\": {\"align\": \"left\"}, \"hovermode\": \"closest\", \"mapbox\": {\"style\": \"light\"}, \"paper_bgcolor\": \"white\", \"plot_bgcolor\": \"#E5ECF6\", \"polar\": {\"angularaxis\": {\"gridcolor\": \"white\", \"linecolor\": \"white\", \"ticks\": \"\"}, \"bgcolor\": \"#E5ECF6\", \"radialaxis\": {\"gridcolor\": \"white\", \"linecolor\": \"white\", \"ticks\": \"\"}}, \"scene\": {\"xaxis\": {\"backgroundcolor\": \"#E5ECF6\", \"gridcolor\": \"white\", \"gridwidth\": 2, \"linecolor\": \"white\", \"showbackground\": true, \"ticks\": \"\", \"zerolinecolor\": \"white\"}, \"yaxis\": {\"backgroundcolor\": \"#E5ECF6\", \"gridcolor\": \"white\", \"gridwidth\": 2, \"linecolor\": \"white\", \"showbackground\": true, \"ticks\": \"\", \"zerolinecolor\": \"white\"}, \"zaxis\": {\"backgroundcolor\": \"#E5ECF6\", \"gridcolor\": \"white\", \"gridwidth\": 2, \"linecolor\": \"white\", \"showbackground\": true, \"ticks\": \"\", \"zerolinecolor\": \"white\"}}, \"shapedefaults\": {\"line\": {\"color\": \"#2a3f5f\"}}, \"ternary\": {\"aaxis\": {\"gridcolor\": \"white\", \"linecolor\": \"white\", \"ticks\": \"\"}, \"baxis\": {\"gridcolor\": \"white\", \"linecolor\": \"white\", \"ticks\": \"\"}, \"bgcolor\": \"#E5ECF6\", \"caxis\": {\"gridcolor\": \"white\", \"linecolor\": \"white\", \"ticks\": \"\"}}, \"title\": {\"x\": 0.05}, \"xaxis\": {\"automargin\": true, \"gridcolor\": \"white\", \"linecolor\": \"white\", \"ticks\": \"\", \"title\": {\"standoff\": 15}, \"zerolinecolor\": \"white\", \"zerolinewidth\": 2}, \"yaxis\": {\"automargin\": true, \"gridcolor\": \"white\", \"linecolor\": \"white\", \"ticks\": \"\", \"title\": {\"standoff\": 15}, \"zerolinecolor\": \"white\", \"zerolinewidth\": 2}}}, \"title\": {\"font\": {\"color\": \"#4D5663\"}, \"text\": \" Top 10 loaction with most number of Rating \"}, \"xaxis\": {\"gridcolor\": \"#E1E5ED\", \"showgrid\": true, \"tickfont\": {\"color\": \"#4D5663\"}, \"title\": {\"font\": {\"color\": \"#4D5663\"}, \"text\": \"\"}, \"zerolinecolor\": \"#E1E5ED\"}, \"yaxis\": {\"gridcolor\": \"#E1E5ED\", \"showgrid\": true, \"tickfont\": {\"color\": \"#4D5663\"}, \"title\": {\"font\": {\"color\": \"#4D5663\"}, \"text\": \"\"}, \"zerolinecolor\": \"#E1E5ED\"}},\n",
       "                        {\"showLink\": true, \"linkText\": \"Export to plot.ly\", \"plotlyServerURL\": \"https://plot.ly\", \"responsive\": true}\n",
       "                    ).then(function(){\n",
       "                            \n",
       "var gd = document.getElementById('f98ddd72-48fe-4e45-935a-c43dd2a0eab8');\n",
       "var x = new MutationObserver(function (mutations, observer) {{\n",
       "        var display = window.getComputedStyle(gd).display;\n",
       "        if (!display || display === 'none') {{\n",
       "            console.log([gd, 'removed!']);\n",
       "            Plotly.purge(gd);\n",
       "            observer.disconnect();\n",
       "        }}\n",
       "}});\n",
       "\n",
       "// Listen for the removal of the full notebook cells\n",
       "var notebookContainer = gd.closest('#notebook-container');\n",
       "if (notebookContainer) {{\n",
       "    x.observe(notebookContainer, {childList: true});\n",
       "}}\n",
       "\n",
       "// Listen for the clearing of the current output cell\n",
       "var outputEl = gd.closest('.output');\n",
       "if (outputEl) {{\n",
       "    x.observe(outputEl, {childList: true});\n",
       "}}\n",
       "\n",
       "                        })\n",
       "                };\n",
       "                });\n",
       "            </script>\n",
       "        </div>"
      ]
     },
     "metadata": {},
     "output_type": "display_data"
    }
   ],
   "source": [
    "\n",
    "rat = dfreco[['Location_in_City','Predicated_Rating']]\n",
    "rat = rat.groupby('Location_in_City').sum().sort_values('Predicated_Rating',ascending = False)\n",
    "rat.head(10).iplot(kind = 'bar', title = ' Top 10 loaction with most number of Rating ')"
   ]
  },
  {
   "cell_type": "code",
   "execution_count": null,
   "metadata": {},
   "outputs": [],
   "source": []
  }
 ],
 "metadata": {
  "kernelspec": {
   "display_name": "Python 3",
   "language": "python",
   "name": "python3"
  },
  "language_info": {
   "codemirror_mode": {
    "name": "ipython",
    "version": 3
   },
   "file_extension": ".py",
   "mimetype": "text/x-python",
   "name": "python",
   "nbconvert_exporter": "python",
   "pygments_lexer": "ipython3",
   "version": "3.6.5"
  }
 },
 "nbformat": 4,
 "nbformat_minor": 2
}
